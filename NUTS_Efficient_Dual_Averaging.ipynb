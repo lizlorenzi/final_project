{
 "cells": [
  {
   "cell_type": "code",
   "execution_count": 59,
   "metadata": {
    "collapsed": false
   },
   "outputs": [
    {
     "name": "stdout",
     "output_type": "stream",
     "text": [
      "[-0.66657204  1.98010621] [ 2.16585499]\n",
      "[ 0.60209728 -1.18600689  1.50237352]\n"
     ]
    }
   ],
   "source": [
    "import scipy.stats as stats\n",
    "import numpy as np\n",
    "import math\n",
    "from scipy.stats import norm\n",
    "from scipy.stats import gamma\n",
    "\n",
    "n=50\n",
    "\n",
    "true_beta = np.transpose(stats.norm.rvs(loc=0,scale=1,size=2))\n",
    "true_phi = stats.gamma.rvs(a=3,scale=1/2,size=1)\n",
    "\n",
    "x = np.transpose(np.array([np.ones(n),stats.norm.rvs(loc=0,scale=1,size=n)]))\n",
    "y = np.random.normal(x.dot(true_beta), np.sqrt(1/true_phi))\n",
    "\n",
    "\n",
    "beta0 = stats.norm.rvs(loc=0,scale=1,size=2)\n",
    "phi0 = stats.gamma.rvs(a=3,scale=1/2,size=1)\n",
    "theta0 = np.hstack([beta0, phi0])\n",
    "\n",
    "#Set hyperparameters\n",
    "a = 3.0\n",
    "b= 2.0\n",
    "\n",
    "print(true_beta,true_phi)\n",
    "print(theta0)"
   ]
  },
  {
   "cell_type": "code",
   "execution_count": 60,
   "metadata": {
    "collapsed": false
   },
   "outputs": [],
   "source": [
    "import warnings\n",
    "warnings.filterwarnings(\"ignore\")"
   ]
  },
  {
   "cell_type": "code",
   "execution_count": 61,
   "metadata": {
    "collapsed": true
   },
   "outputs": [],
   "source": [
    "def FindReasonableEpsilon(y,x,theta):\n",
    "    eps = 1\n",
    "    r = stats.norm.rvs(size=3)\n",
    "    theta_prime,r_prime = leapfrog(y,x,theta,r,eps)\n",
    "    frac = np.exp(log_joint(y,x,theta_prime)-log_joint(y,x,theta)-(1/2)*r_prime.dot(r_prime)+(1/2)*r.dot(r))\n",
    "    if(frac>0.5):\n",
    "        a = 1\n",
    "    else:\n",
    "        a = -1\n",
    "    while(pow(frac,a)>pow(2,-a)):\n",
    "        eps = eps*pow(2,a)\n",
    "        theta_prime,r_prime = leapfrog(y,x,theta,r,eps)\n",
    "    return eps    "
   ]
  },
  {
   "cell_type": "code",
   "execution_count": 77,
   "metadata": {
    "collapsed": false
   },
   "outputs": [],
   "source": [
    "def leapfrog(y,x,theta, r, eps):\n",
    "    n = y.shape[0]\n",
    "    gradients = np.hstack([theta[2]*(np.transpose(y).dot(x)-np.transpose(x).dot(x).dot(theta[0:2]))-.01*theta[0:2],(.5*n+a-1)/theta[2]-b-0.5*np.transpose((y-x.dot(theta[0:2]))).dot(y-x.dot(theta[0:2]))])\n",
    "    r_upd = r + eps/2 * (gradients)\n",
    "    theta_upd = theta + eps * r_upd\n",
    "    gradients = np.hstack([theta_upd[2]*(np.transpose(y).dot(x)-np.transpose(x).dot(x).dot(theta_upd[0:2]))-.01*theta_upd[0:2],(.5*n+a-1)/theta[2]-b-0.5*np.transpose((y-x.dot(theta_upd[0:2]))).dot(y-x.dot(theta_upd[0:2]))])\n",
    "    r_upd = r_upd + eps/2 * (gradients)\n",
    "    return theta_upd, r_upd"
   ]
  },
  {
   "cell_type": "code",
   "execution_count": 78,
   "metadata": {
    "collapsed": true
   },
   "outputs": [],
   "source": [
    "def log_joint(y, x, theta): \n",
    "    n = y.shape[0]\n",
    "    return sum(norm.logpdf(y,loc=x.dot(theta[0:2]), scale=1/np.sqrt(theta[2])))+norm.logpdf(theta[0],loc=0,scale=1/np.sqrt(.01))+norm.logpdf(theta[1],loc=0,scale=1/np.sqrt(.01)) +gamma.logpdf(theta[2], a, scale=1/b) "
   ]
  },
  {
   "cell_type": "code",
   "execution_count": 79,
   "metadata": {
    "collapsed": false
   },
   "outputs": [],
   "source": [
    "def BuildTree(y,x,theta, r, u, v, j, eps, theta_0, r_0):\n",
    "    triangle_max = 10000 #recommend value pg 1359\n",
    "    if(j==0):\n",
    "        #base case, take one leapfrog step in direction v\n",
    "        theta_prime,r_prime = leapfrog(y,x,theta,r,v*eps)\n",
    "        if(u <= np.exp(log_joint(y,x,theta_prime)-(1/2)*r_prime.dot(r_prime))):\n",
    "            n_prime = 1\n",
    "        else:\n",
    "            n_prime = 0\n",
    "        if(u < np.exp(triangle_max+log_joint(y,x,theta_prime)-(1/2)*r_prime.dot(r_prime)) ):\n",
    "            s_prime = 1\n",
    "        else:\n",
    "            s_prime = 0\n",
    "        return theta_prime,r_prime,theta_prime,r_prime,theta_prime,n_prime,s_prime,min(1,np.exp(log_joint(y,x,theta_prime)-(1/2)*r_prime.dot(r_prime)-\n",
    "                                                                                               log_joint(y,x,theta_0)+(1/2)*r_0.dot(r_0))),1    \n",
    "    else:\n",
    "        #recursion-build the left and right subtrees\n",
    "        theta_minus,r_minus,theta_plus,r_plus,theta_prime,n_prime,s_prime,alpha_prime,n_aprime = BuildTree(y,x,theta,r,u,v,j-1,eps,theta_0,r_0)\n",
    "        if(s_prime==1):\n",
    "            if(v == -1):\n",
    "                theta_minus,r_minus,dash1,dash2,theta_primep,n_primep,s_primep,alpha_primep,n_aprimep = BuildTree(y,x,theta_minus,r_minus,u,v,j-1,eps,theta_0,r_0)\n",
    "            else:\n",
    "                dash1,dash2,theta_plus,r_plus,theta_primep,n_primep,s_primep,alpha_primep,n_aprimep = BuildTree(y,x,theta_plus,r_plus,u,v,j-1,eps,theta_0,r_0)   \n",
    "            p = np.exp(np.log(n_primep)-np.log(n_prime+n_primep))\n",
    "            unif = np.random.uniform()\n",
    "            if(p>u):\n",
    "                theta_prime = theta_primep\n",
    "            alpha_prime = alpha_prime+alpha_primep\n",
    "            n_aprime = n_aprime+n_aprimep\n",
    "            if((theta_plus-theta_minus).dot(r_minus) >= 0 and (theta_plus-theta_minus).dot(r_plus) >= 0):  \n",
    "                s_prime = s_primep  \n",
    "            else:\n",
    "                s_prime = 0  \n",
    "            n_prime = n_prime+n_primep\n",
    "    return theta_minus, r_minus, theta_plus, r_plus, theta_prime, n_prime, s_prime, alpha_prime, n_aprime"
   ]
  },
  {
   "cell_type": "code",
   "execution_count": 80,
   "metadata": {
    "collapsed": false
   },
   "outputs": [],
   "source": [
    "def NUTS_Dual_Average(y,x,theta0,delta,M,M_adapt):\n",
    "    theta_m = np.zeros((M,3))\n",
    "    theta_m[0:1,:] = theta0\n",
    "    eps = np.zeros((M,1))\n",
    "    eps[0] = FindReasonableEpsilon(y,x,theta_m[0,:])\n",
    "    mu = np.log(10*eps[0])\n",
    "    eps_bar = np.zeros((M,1))\n",
    "    eps_bar[0] = 1\n",
    "    H_bar = np.zeros((M,1))\n",
    "    H_bar[0] = 0\n",
    "    gamma = 0.05\n",
    "    t0 = 10\n",
    "    kappa = 0.75\n",
    "    for m in range(1,M):\n",
    "        print('M: ',m,' Theta: ',theta_m[m-1,:])\n",
    "        r0 = stats.norm.rvs(size=3)\n",
    "        u = np.random.uniform(low=0,high=np.exp(log_joint(y,x,theta_m[m-1,:])-(1/2)*r0.dot(r0)))\n",
    "        theta_minus = theta_m[m-1,:]\n",
    "        theta_plus = theta_m[m-1,:]\n",
    "        r_minus = r0\n",
    "        r_plus = r0\n",
    "        j=0\n",
    "        theta_m[m,:] = theta_m[m-1,:]\n",
    "        n = 1\n",
    "        s = 1\n",
    "        while(s==1):\n",
    "            v_j = np.random.choice([-1,1])\n",
    "            if(v_j==-1):\n",
    "                theta_minus,r_minus,dash1,dash2,theta_prime,n_prime,s_prime,alpha,n_alpha = BuildTree(y,x,theta_minus,r_minus,u,v_j,j,eps[m-1],theta_m[m-1],r0)\n",
    "            else:\n",
    "                dash1,dash2,theta_plus,r_plus,theta_prime,n_prime,s_prime,alpha,n_alpha = BuildTree(y,x,theta_plus,r_plus,u,v_j,j,eps[m-1],theta_m[m-1],r0)\n",
    "            if(s_prime == 1):\n",
    "                p = min(1,np.exp(np.log(n_prime)-np.log(n)))\n",
    "                unif = np.random.uniform()\n",
    "                if(p>u):\n",
    "                    theta_m[m,:] = theta_prime\n",
    "            n = n+n_prime\n",
    "            if((theta_plus-theta_minus).dot(r_minus) >= 0 and (theta_plus-theta_minus).dot(r_plus) >= 0):\n",
    "                s = s_prime\n",
    "            else:\n",
    "                s = 0\n",
    "            j = j+1    \n",
    "        if(m <= M_adapt):\n",
    "            H_bar[m] = (1-1/(m+t0))*H_bar[m-1]+(1/(m+t0))*(delta-(alpha/n_alpha))\n",
    "            eps[m] = np.exp(mu-(pow(mu,0.5)/gamma)*H_bar[m])\n",
    "            eps_bar[m] = np.exp(pow(m,-kappa)*np.log(eps[m])+(1-pow(m,-kappa))*np.log(eps_bar[m-1]))\n",
    "        else:\n",
    "            eps[m] = eps_bar[M_adapt]\n",
    "    return(theta_m)"
   ]
  },
  {
   "cell_type": "code",
   "execution_count": 81,
   "metadata": {
    "collapsed": false
   },
   "outputs": [],
   "source": [
    "M = 1000\n",
    "delta=0.6 #between 0 and 1\n",
    "M_adapt = 50"
   ]
  },
  {
   "cell_type": "code",
   "execution_count": 82,
   "metadata": {
    "collapsed": false
   },
   "outputs": [
    {
     "name": "stdout",
     "output_type": "stream",
     "text": [
      "[-102.21747445  269.78001409 -334.87325294]\n",
      "[ -392080.96848502  1240124.51472112  -549622.52059392]\n",
      "M:  1  Theta:  [ 0.60209728 -1.18600689  1.50237352]\n",
      "[-102.21747445  269.78001409 -334.87325294]\n",
      "[ -395313.9766507   1252573.97013836  -555166.64668484]\n",
      "M:  2  Theta:  [ 0.60209728 -1.18600689  1.50237352]\n",
      "[-102.21747445  269.78001409 -334.87325294]\n",
      "[ -3.39336635e+11   1.06881933e+12  -4.82370156e+11]\n",
      "M:  3  Theta:  [ 0.60209728 -1.18600689  1.50237352]\n",
      "[-102.21747445  269.78001409 -334.87325294]\n",
      "[ -1.34248877e+13   4.23157075e+13  -1.90945736e+13]\n",
      "M:  4  Theta:  [ 0.60209728 -1.18600689  1.50237352]\n",
      "[-102.21747445  269.78001409 -334.87325294]\n",
      "[ -3.01796632e+14   9.51284842e+14  -4.29215977e+14]\n",
      "M:  5  Theta:  [ 0.60209728 -1.18600689  1.50237352]\n",
      "[-102.21747445  269.78001409 -334.87325294]\n",
      "[ -4.34930947e+15   1.37078942e+16  -6.18562787e+15]\n",
      "M:  6  Theta:  [ 0.60209728 -1.18600689  1.50237352]\n",
      "[-102.21747445  269.78001409 -334.87325294]\n",
      "[ -4.39197137e+16   1.38415380e+17  -6.24587244e+16]\n",
      "M:  7  Theta:  [ 0.60209728 -1.18600689  1.50237352]\n",
      "[-102.21747445  269.78001409 -334.87325294]\n",
      "[ -3.32136257e+17   1.04681612e+18  -4.72362397e+17]\n",
      "M:  8  Theta:  [ 0.60209728 -1.18600689  1.50237352]\n",
      "[-102.21747445  269.78001409 -334.87325294]\n",
      "[ -1.97983219e+18   6.23982885e+18  -2.81560605e+18]\n",
      "M:  9  Theta:  [ 0.60209728 -1.18600689  1.50237352]\n",
      "[-102.21747445  269.78001409 -334.87325294]\n",
      "[ -9.67813240e+18   3.05022587e+19  -1.37637203e+19]\n",
      "truth (array([-0.66657204,  1.98010621]), array([ 2.16585499]))\n",
      "Mean after burn in we find 0.602097284728 -1.18600689484 1.50237352145\n",
      "CPU times: user 33.1 ms, sys: 2.78 ms, total: 35.8 ms\n",
      "Wall time: 33.7 ms\n"
     ]
    }
   ],
   "source": [
    "%%time\n",
    "results = NUTS_Dual_Average(y,x,theta0,delta,M,M_adapt)\n",
    "print(\"truth\", (true_beta, true_phi))\n",
    "beta0_found = np.mean(results[round(4*M/5):(M-1),0])\n",
    "beta1_found = np.mean(results[round(4*M/5):(M-1),1])\n",
    "phi_found = np.mean(results[round(4*M/5):(M-1),2])\n",
    "print(\"Mean after burn in we find\",beta0_found,beta1_found ,phi_found)\n"
   ]
  },
  {
   "cell_type": "code",
   "execution_count": 45,
   "metadata": {
    "collapsed": false
   },
   "outputs": [
    {
     "data": {
      "image/png": "[encoded data removed]",
      "text/plain": [
       "<matplotlib.figure.Figure at 0x104192be0>"
      ]
     },
     "metadata": {},
     "output_type": "display_data"
    }
   ],
   "source": [
    "import matplotlib.pyplot as plt\n",
    "%matplotlib inline\n",
    "betas_found = np.hstack([beta0_found,beta1_found])\n",
    "y_sim = stats.norm.rvs(loc=x.dot(betas_found),scale=1/np.sqrt(phi_found))\n",
    "#y_sim = stats.norm.rvs(loc=x*beta_found,scale=phi_found)\n",
    "\n",
    "fig = plt.figure()\n",
    "ax1 = fig.add_subplot(111)\n",
    "\n",
    "ax1.scatter(x[:,1], y, s=10, c='b', marker=\"s\", label='Observed')\n",
    "ax1.scatter(x[:,1], y_sim, s=10, c='r', marker=\"o\", label='Estimated')\n",
    "plt.legend(loc='lower left');\n",
    "plt.show()"
   ]
  },
  {
   "cell_type": "code",
   "execution_count": null,
   "metadata": {
    "collapsed": false
   },
   "outputs": [],
   "source": [
    "1/np.sqrt(.05)"
   ]
  },
  {
   "cell_type": "code",
   "execution_count": null,
   "metadata": {
    "collapsed": true
   },
   "outputs": [],
   "source": []
  }
 ],
 "metadata": {
  "kernelspec": {
   "display_name": "Python 3",
   "language": "python",
   "name": "python3"
  },
  "language_info": {
   "codemirror_mode": {
    "name": "ipython",
    "version": 3
   },
   "file_extension": ".py",
   "mimetype": "text/x-python",
   "name": "python",
   "nbconvert_exporter": "python",
   "pygments_lexer": "ipython3",
   "version": "3.5.1"
  }
 },
 "nbformat": 4,
 "nbformat_minor": 0
}
