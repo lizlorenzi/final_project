{
 "cells": [
  {
   "cell_type": "code",
   "execution_count": 41,
   "metadata": {
    "collapsed": false
   },
   "outputs": [
    {
     "name": "stdout",
     "output_type": "stream",
     "text": [
      "[-0.1875705] [ 1.33141154]\n",
      "[-0.19178933  1.82106995]\n"
     ]
    }
   ],
   "source": [
    "#random.seed(123)\n",
    "import scipy.stats as stats\n",
    "import numpy as np\n",
    "import math\n",
    "from scipy.stats import norm\n",
    "from scipy.stats import gamma\n",
    "\n",
    "true_beta = stats.norm.rvs(loc=0,scale=1,size=1)\n",
    "true_phi = stats.gamma.rvs(a=3,scale=1/2,size=1)\n",
    "\n",
    "x = stats.norm.rvs(loc=0,scale=1,size=100)\n",
    "y=np.random.normal(x*true_beta, np.sqrt(1/true_phi))\n",
    "\n",
    "beta0 = stats.norm.rvs(loc=0,scale=1,size=1)\n",
    "phi0 = stats.gamma.rvs(a=3,scale=1/2,size=1)\n",
    "theta0 = np.hstack([beta0, phi0])\n",
    "\n",
    "#Set hyperparameters\n",
    "a = 3.0\n",
    "b= 2.0\n",
    "\n",
    "print(true_beta,true_phi)\n",
    "print(theta0)"
   ]
  },
  {
   "cell_type": "code",
   "execution_count": 42,
   "metadata": {
    "collapsed": false
   },
   "outputs": [],
   "source": [
    "import warnings\n",
    "warnings.filterwarnings(\"ignore\")"
   ]
  },
  {
   "cell_type": "code",
   "execution_count": 43,
   "metadata": {
    "collapsed": true
   },
   "outputs": [],
   "source": [
    "def FindReasonableEpsilon(theta):\n",
    "    eps = 1\n",
    "    r = stats.norm.rvs(size=2)\n",
    "    theta_prime,r_prime = leapfrog(theta,r,eps)\n",
    "    if(np.exp(log_joint(y,x,theta_prime)-(1/2)*r_prime.dot(r_prime))/np.exp(log_joint(y,x,theta)-(1/2)*r.dot(r))>0.5):\n",
    "        a = 2-1\n",
    "    else:\n",
    "        a = 0-1\n",
    "    while(np.exp(log_joint(y,x,theta_prime)-(1/2)*r_prime.dot(r_prime))/np.exp(log_joint(y,x,theta)-(1/2)*r.dot(r))>pow(2,-a)):\n",
    "        eps = eps*pow(2,a)\n",
    "        theta_prime,r_prime = leapfrog(theta,r,eps)\n",
    "    return eps    "
   ]
  },
  {
   "cell_type": "code",
   "execution_count": 44,
   "metadata": {
    "collapsed": true
   },
   "outputs": [],
   "source": [
    "def leapfrog(theta, r, eps):\n",
    "    n = y.shape[0]\n",
    "    gradients = np.array(theta[1]*(sum(x*y)-theta[0]*sum(x*x))-theta[0],((.5*n+a-1)/theta[1])-b-.5*sum((y-x*theta[0])*(y-x*theta[0])))\n",
    "    r_upd = r + eps/2 * (gradients)\n",
    "    theta_upd = theta + eps * r_upd\n",
    "    r_upd = r_upd + eps/2 * (gradients)\n",
    "    return theta_upd, r_upd"
   ]
  },
  {
   "cell_type": "code",
   "execution_count": 45,
   "metadata": {
    "collapsed": true
   },
   "outputs": [],
   "source": [
    "def log_joint(y, x, theta): \n",
    "    n = y.shape[0]\n",
    "    return sum(norm.logpdf(y,loc=theta[0]*x, scale=1/np.sqrt(theta[1])))+norm.logpdf(theta[0],loc=0,scale=1/np.sqrt(1)) +gamma.logpdf(theta[1], a, scale=1/b)\n",
    "    "
   ]
  },
  {
   "cell_type": "code",
   "execution_count": 46,
   "metadata": {
    "collapsed": false
   },
   "outputs": [],
   "source": [
    "def BuildTree(theta, r, u, v, j, eps, theta_0, r_0):\n",
    "    triangle_max = 1000 #recommend value pg 1359\n",
    "    if(j==0):\n",
    "        #base case, take one leapfrog step in direction v\n",
    "        theta_prime,r_prime = leapfrog(theta,r,v*eps)\n",
    "        if(u <= np.exp(log_joint(y,x,theta_prime)-(1/2)*r_prime.dot(r_prime))):\n",
    "            n_prime = 1\n",
    "        else:\n",
    "            n_prime = 0\n",
    "        if(u < np.exp(triangle_max+log_joint(y,x,theta_prime)-(1/2)*r_prime.dot(r_prime)) ):\n",
    "            s_prime = 1\n",
    "        else:\n",
    "            s_prime = 0\n",
    "        return theta_prime,r_prime,theta_prime,r_prime,theta_prime,n_prime,s_prime,min(1,np.exp(log_joint(y,x,theta_prime)-(1/2)*r_prime.dot(r_prime)-\n",
    "                                                                                               log_joint(y,x,theta_0)+(1/2)*r_0.dot(r_0))),1    \n",
    "    else:\n",
    "        #recursion-build the left and right subtrees\n",
    "        theta_minus,r_minus,theta_plus,r_plus,theta_prime,n_prime,s_prime,alpha_prime,n_aprime = BuildTree(theta,r,u,v,j-1,eps,theta_0,r_0)\n",
    "        if(s_prime==1):\n",
    "            if(v == -1):\n",
    "                theta_minus,r_minus,dash1,dash2,theta_primep,n_primep,s_primep,alpha_primep,n_aprimep = BuildTree(theta_minus,r_minus,u,v,j-1,eps,theta_0,r_0)\n",
    "            else:\n",
    "                dash1,dash2,theta_plus,r_plus,theta_primep,n_primep,s_primep,alpha_primep,n_aprimep = BuildTree(theta_plus,r_plus,u,v,j-1,eps,theta_0,r_0)\n",
    "            if(n_prime+n_primep==0):\n",
    "                #print('Ahhhh cant divide by zero:',n_prime,n_primep)\n",
    "                p=.9\n",
    "            else:    \n",
    "                p = n_primep/(n_prime+n_primep)\n",
    "            unif = np.random.uniform()\n",
    "            if(p>u):\n",
    "                theta_prime = theta_primep\n",
    "            alpha_prime = alpha_prime+alpha_primep\n",
    "            n_aprime = n_aprime+n_aprimep\n",
    "            if((theta_plus-theta_minus).dot(r_minus) >= 0 and (theta_plus-theta_minus).dot(r_plus) >= 0):  \n",
    "                s_prime = s_primep  \n",
    "            else:\n",
    "                s_prime = 0  \n",
    "            n_prime = n_prime+n_primep\n",
    "    return theta_minus, r_minus, theta_plus, r_plus, theta_prime, n_prime, s_prime, alpha_prime, n_aprime"
   ]
  },
  {
   "cell_type": "code",
   "execution_count": 47,
   "metadata": {
    "collapsed": false
   },
   "outputs": [],
   "source": [
    "def hamilt_mc(theta0,delta,y,x, M,M_adapt):\n",
    "    accept_b = 0\n",
    "    accept_p = 0\n",
    "    theta_m = np.zeros((M,2))\n",
    "    theta_m[0,:] = theta0\n",
    "    eps = np.zeros((M,1))\n",
    "    eps[0] = FindReasonableEpsilon(theta_m[0,:])\n",
    "    mu = np.log(10*eps[0])\n",
    "    eps_bar = np.zeros((M,1))\n",
    "    eps_bar[0] = 1\n",
    "    H_bar = np.zeros((M,1))\n",
    "    H_bar[0] = 0\n",
    "    gamma = 0.05\n",
    "    t0 = 10\n",
    "    kappa = 0.75\n",
    "    for m in range(1,M):\n",
    "        #print('M: ',m,' Theta: ',theta_m[m-1,:])\n",
    "        r0 = stats.norm.rvs(size=2)\n",
    "        u = np.random.uniform(low=0,high=np.exp(log_joint(y,x,theta_m[m-1,:])-(1/2)*r0.dot(r0)))\n",
    "        theta_minus = theta_m[m-1,:]\n",
    "        theta_plus = theta_m[m-1,:]\n",
    "        r_minus = r0\n",
    "        r_plus = r0\n",
    "        j=0\n",
    "        theta_m[m,:] = theta_m[m-1,:]\n",
    "        n = 1\n",
    "        s = 1\n",
    "        while(s==1):\n",
    "            v_j = np.random.choice([-1,1])\n",
    "            if(v_j==-1):\n",
    "                theta_minus,r_minus,dash1,dash2,theta_prime,n_prime,s_prime,alpha,n_alpha = BuildTree(theta_minus,r_minus,u,v_j,j,eps[m-1],theta_m[m-1],r0)\n",
    "            else:\n",
    "                dash1,dash2,theta_plus,r_plus,theta_prime,n_prime,s_prime,alpha,n_alpha = BuildTree(theta_plus,r_plus,u,v_j,j,eps[m-1],theta_m[m-1],r0)\n",
    "            if(s_prime == 1):\n",
    "                p = min(1,n_prime/n)\n",
    "                unif = np.random.uniform()\n",
    "                if(p>u):\n",
    "                    theta_m[m,:] = theta_prime\n",
    "            n = n+n_prime\n",
    "            if((theta_plus-theta_minus).dot(r_minus) >= 0 and (theta_plus-theta_minus).dot(r_plus) >= 0):\n",
    "                s = s_prime\n",
    "            else:\n",
    "                s = 0\n",
    "                accept_b +=1\n",
    "                accept_p +=1\n",
    "            j = j+1    \n",
    "        if(m <= M_adapt):\n",
    "            H_bar[m] = (1-1/(m+t0))*H_bar[m-1]+1/(m+t0)*(delta-alpha/n_alpha)\n",
    "            eps[m] = np.exp(mu-(pow(mu,0.5)/gamma)*H_bar[m])\n",
    "            eps_bar[m] = np.exp(pow(m,-kappa)*np.log(eps[m])+(1-pow(m,-kappa))*np.log(eps_bar[m-1]))\n",
    "        else:\n",
    "            eps[m] = eps_bar[M_adapt]\n",
    "    return(theta_m,accept_b,accept_p)"
   ]
  },
  {
   "cell_type": "code",
   "execution_count": 48,
   "metadata": {
    "collapsed": false
   },
   "outputs": [],
   "source": [
    "M = 50000\n",
    "delta=0.6  #between 0 and 1\n",
    "M_adapt = 3"
   ]
  },
  {
   "cell_type": "code",
   "execution_count": 49,
   "metadata": {
    "collapsed": false
   },
   "outputs": [
    {
     "name": "stdout",
     "output_type": "stream",
     "text": [
      "truth (array([-0.1875705]), array([ 1.33141154]))\n",
      "Mean after burn in we find -0.191789328101 1.821069948\n",
      "acceptance (beta then phi) 0.65736 0.65736\n",
      "CPU times: user 2min 11s, sys: 477 ms, total: 2min 11s\n",
      "Wall time: 2min 12s\n"
     ]
    }
   ],
   "source": [
    "%%time\n",
    "results,acc_b,acc_p = hamilt_mc(theta0, delta,y,x,M,M_adapt)\n",
    "print(\"truth\", (true_beta, true_phi))\n",
    "beta_found = np.mean(results[round(4*M/5):(M-1),0])\n",
    "phi_found = np.mean(results[round(4*M/5):(M-1),1])\n",
    "print(\"Mean after burn in we find\",beta_found ,phi_found)\n",
    "print(\"acceptance (beta then phi)\", acc_b/M, acc_p/M)"
   ]
  },
  {
   "cell_type": "code",
   "execution_count": 54,
   "metadata": {
    "collapsed": false
   },
   "outputs": [
    {
     "data": {
      "image/png": "[encoded data removed]",
      "text/plain": [
       "<matplotlib.figure.Figure at 0x10886a518>"
      ]
     },
     "metadata": {},
     "output_type": "display_data"
    }
   ],
   "source": [
    "import matplotlib.pyplot as plt\n",
    "%matplotlib inline\n",
    "\n",
    "y_sim = stats.norm.rvs(loc=x*beta_found,scale=1/np.sqrt(phi_found))\n",
    "#y_sim2 = stats.norm.rvs(loc=x*beta_found,scale=phi_found)\n",
    "y_sim3 = np.random.normal(x*beta_found,phi_found)\n",
    "\n",
    "fig = plt.figure()\n",
    "ax1 = fig.add_subplot(111)\n",
    "\n",
    "ax1.scatter(x, y, s=10, c='b', marker=\"s\", label='Observed')\n",
    "ax1.scatter(x, y_sim, s=10, c='c', marker=\"o\", label='Estimated')\n",
    "#ax1.scatter(x, y_sim2, s=10, c='y', marker=\"o\", label='Estimated 2')\n",
    "ax1.scatter(x, y_sim3, s=10, c='r', marker=\"o\", label='Estimated 3')\n",
    "plt.legend(loc='lower left');\n",
    "plt.show()\n"
   ]
  },
  {
   "cell_type": "code",
   "execution_count": 55,
   "metadata": {
    "collapsed": false
   },
   "outputs": [
    {
     "data": {
      "image/png": "[encoded data removed]",
      "text/plain": [
       "<matplotlib.figure.Figure at 0x10d1370f0>"
      ]
     },
     "metadata": {},
     "output_type": "display_data"
    }
   ],
   "source": [
    "\n",
    "\n",
    "betas = stats.norm.rvs(true_beta,1, size=1000)\n",
    "phis = stats.gamma.rvs(a=3,scale=1/2,size=1000)\n",
    "\n",
    "plt.hist(results[round(4*M/5):(M-1),0], 40, histtype='step', normed=True, linewidth=1, label='HMC');\n",
    "plt.hist(betas, 40, histtype='step', normed=True, linewidth=1, label='True');\n",
    "#plt.plot(thetas, post.pdf(thetas), c='red', linestyle='--', alpha=0.5, label='True posterior')\n",
    "plt.xlim([-10,10]);\n",
    "plt.legend(loc='upper left')\n",
    "pass"
   ]
  },
  {
   "cell_type": "code",
   "execution_count": 56,
   "metadata": {
    "collapsed": false
   },
   "outputs": [
    {
     "data": {
      "image/png": "[encoded data removed]",
      "text/plain": [
       "<matplotlib.figure.Figure at 0x10d009400>"
      ]
     },
     "metadata": {},
     "output_type": "display_data"
    }
   ],
   "source": [
    "plt.hist(results[round(4*M/5):(M-1),1], 40, histtype='step', normed=True, linewidth=1, label='HMC');\n",
    "plt.hist(phis, 40, histtype='step', normed=True, linewidth=1, label='True');\n",
    "#plt.plot(thetas, post.pdf(thetas), c='red', linestyle='--', alpha=0.5, label='True posterior')\n",
    "plt.xlim([0,20]);\n",
    "plt.legend(loc='upper left')\n",
    "pass"
   ]
  },
  {
   "cell_type": "code",
   "execution_count": null,
   "metadata": {
    "collapsed": false
   },
   "outputs": [],
   "source": []
  },
  {
   "cell_type": "code",
   "execution_count": null,
   "metadata": {
    "collapsed": false
   },
   "outputs": [],
   "source": []
  },
  {
   "cell_type": "code",
   "execution_count": null,
   "metadata": {
    "collapsed": false
   },
   "outputs": [],
   "source": []
  },
  {
   "cell_type": "code",
   "execution_count": null,
   "metadata": {
    "collapsed": false
   },
   "outputs": [],
   "source": []
  },
  {
   "cell_type": "code",
   "execution_count": 17,
   "metadata": {
    "collapsed": false
   },
   "outputs": [
    {
     "data": {
      "text/plain": [
       "0.69314718055994529"
      ]
     },
     "execution_count": 17,
     "metadata": {},
     "output_type": "execute_result"
    }
   ],
   "source": []
  },
  {
   "cell_type": "code",
   "execution_count": 20,
   "metadata": {
    "collapsed": false
   },
   "outputs": [
    {
     "data": {
      "text/plain": [
       "0.64469960642197988"
      ]
     },
     "execution_count": 20,
     "metadata": {},
     "output_type": "execute_result"
    }
   ],
   "source": []
  },
  {
   "cell_type": "code",
   "execution_count": null,
   "metadata": {
    "collapsed": true
   },
   "outputs": [],
   "source": []
  }
 ],
 "metadata": {
  "kernelspec": {
   "display_name": "Python 3",
   "language": "python",
   "name": "python3"
  },
  "language_info": {
   "codemirror_mode": {
    "name": "ipython",
    "version": 3
   },
   "file_extension": ".py",
   "mimetype": "text/x-python",
   "name": "python",
   "nbconvert_exporter": "python",
   "pygments_lexer": "ipython3",
   "version": "3.5.1"
  }
 },
 "nbformat": 4,
 "nbformat_minor": 0
}
