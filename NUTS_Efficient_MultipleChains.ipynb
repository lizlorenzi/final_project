{
 "cells": [
  {
   "cell_type": "code",
   "execution_count": 162,
   "metadata": {
    "collapsed": false
   },
   "outputs": [
    {
     "name": "stdout",
     "output_type": "stream",
     "text": [
      "[-1.67345989  0.62358061] [ 2.08953048]\n"
     ]
    }
   ],
   "source": [
    "import scipy.stats as stats\n",
    "import numpy as np\n",
    "import math\n",
    "from scipy.stats import norm\n",
    "from scipy.stats import gamma\n",
    "\n",
    "n=10\n",
    "true_beta = np.transpose(stats.norm.rvs(loc=0,scale=1,size=2))\n",
    "true_phi = stats.gamma.rvs(a=3,scale=1/2,size=1)\n",
    "x = np.transpose(np.array([np.ones(n),stats.norm.rvs(loc=0,scale=1,size=n)]))\n",
    "y = np.random.normal(x.dot(true_beta), np.sqrt(1/true_phi))\n",
    "\n",
    "#Set hyperparameters\n",
    "a = 3.0\n",
    "b= 2.0\n",
    "\n",
    "print(true_beta,true_phi)"
   ]
  },
  {
   "cell_type": "code",
   "execution_count": 163,
   "metadata": {
    "collapsed": false
   },
   "outputs": [],
   "source": [
    "import warnings\n",
    "warnings.filterwarnings(\"ignore\")"
   ]
  },
  {
   "cell_type": "code",
   "execution_count": 164,
   "metadata": {
    "collapsed": false
   },
   "outputs": [],
   "source": [
    "def leapfrog(y,x,theta, r, eps):\n",
    "    a = 3\n",
    "    b = 2\n",
    "    n = y.shape[0]\n",
    "    gradients = np.hstack([theta[2]*(np.transpose(y).dot(x)-np.transpose(x).dot(x).dot(theta[0:2]))-.01*theta[0:2],(.5*n+a-1)/theta[2]-b-0.5*np.transpose((y-x.dot(theta[0:2]))).dot(y-x.dot(theta[0:2]))])\n",
    "    r_upd = r + eps/2 * (gradients)\n",
    "    theta_upd = theta + eps * r_upd\n",
    "    gradients = np.hstack([theta_upd[2]*(np.transpose(y).dot(x)-np.transpose(x).dot(x).dot(theta_upd[0:2]))-.01*theta_upd[0:2],(.5*n+a-1)/theta[2]-b-0.5*np.transpose((y-x.dot(theta_upd[0:2]))).dot(y-x.dot(theta_upd[0:2]))])\n",
    "    r_upd = r_upd + eps/2 * (gradients)\n",
    "    return theta_upd, r_upd"
   ]
  },
  {
   "cell_type": "code",
   "execution_count": 165,
   "metadata": {
    "collapsed": true
   },
   "outputs": [],
   "source": [
    "def log_joint(y, x, theta): \n",
    "    n = y.shape[0]\n",
    "    return sum(norm.logpdf(y,loc=x.dot(theta[0:2]), scale=1/np.sqrt(theta[2])))+norm.logpdf(theta[0],loc=0,scale=1/np.sqrt(.01))+norm.logpdf(theta[1],loc=0,scale=1/np.sqrt(.01)) +gamma.logpdf(theta[2], a, scale=1/b) "
   ]
  },
  {
   "cell_type": "code",
   "execution_count": 166,
   "metadata": {
    "collapsed": false
   },
   "outputs": [],
   "source": [
    "def BuildTree(y,x,theta, r, u, v, j, eps):\n",
    "    triangle_max = 1000 #recommend value pg 1359\n",
    "    if(j==0):\n",
    "        #base case, take one leapfrog step in direction v\n",
    "        theta_prime,r_prime = leapfrog(y,x,theta,r,v*eps)\n",
    "        if(u <= np.exp(log_joint(y,x,theta_prime)-(1/2)*r_prime.dot(r_prime))):\n",
    "            n_prime = 1\n",
    "        else:\n",
    "            n_prime = 0\n",
    "        if(log_joint(y,x,theta_prime)-(1/2)*r_prime.dot(r_prime) > u-triangle_max):\n",
    "            s_prime = 1\n",
    "        else:\n",
    "            s_prime = 0\n",
    "        return theta_prime,r_prime,theta_prime,r_prime,theta_prime,n_prime,s_prime    \n",
    "    else:\n",
    "        #recursion-build the left and right subtrees\n",
    "        theta_minus,r_minus,theta_plus,r_plus,theta_prime,n_prime,s_prime = BuildTree(y,x,theta,r,u,v,j-1,eps)\n",
    "        if(s_prime==1):\n",
    "            if(v == -1):\n",
    "                theta_minus,r_minus,dash1,dash2,theta_primep,n_primep,s_primep = BuildTree(y,x,theta_minus,r_minus,u,v,j-1,eps)\n",
    "            else:\n",
    "                dash1,dash2,theta_plus,r_plus,theta_primep,n_primep,s_primep = BuildTree(y,x,theta_plus,r_plus,u,v,j-1,eps)  \n",
    "            p = np.exp(np.log(n_primep)-np.log(n_prime+n_primep))\n",
    "            unif = np.random.uniform()\n",
    "            if(p>u):\n",
    "                theta_prime = theta_primep\n",
    "            if((theta_plus-theta_minus).dot(r_minus) >= 0 and (theta_plus-theta_minus).dot(r_plus) >= 0):  \n",
    "                s_prime = s_primep  \n",
    "            else:\n",
    "                s_prime = 0  \n",
    "            n_prime = n_prime+n_primep\n",
    "    return theta_minus,r_minus,theta_plus,r_plus,theta_prime,n_prime,s_prime"
   ]
  },
  {
   "cell_type": "code",
   "execution_count": 167,
   "metadata": {
    "collapsed": false
   },
   "outputs": [],
   "source": [
    "def NUTS_Eff(theta0, y,x, eps, M):\n",
    "    theta_m = np.zeros((M,3))\n",
    "    theta_m[0,:] = theta0\n",
    "    for m in range(1,M):\n",
    "        #print('M: ',m,' Theta: ',theta_m[m-1,:])\n",
    "        r0 = stats.norm.rvs(size=3)\n",
    "        u = np.random.uniform(low=0,high=np.exp(log_joint(y,x,theta_m[m-1,:])-(1/2)*r0.dot(r0)))\n",
    "        theta_minus = theta_m[m-1,:]\n",
    "        theta_plus = theta_m[m-1,:]\n",
    "        r_minus = r0\n",
    "        r_plus = r0\n",
    "        j=0\n",
    "        theta_m[m,:] = theta_m[m-1,:]\n",
    "        n = 1\n",
    "        s=1\n",
    "        while(s==1):\n",
    "            v_j = np.random.choice([-1,1])\n",
    "            if(v_j==-1):\n",
    "                theta_minus,r_minus,dash1,dash2,theta_prime,n_prime,s_prime = BuildTree(y,x,theta_minus,r_minus,u,v_j,j,eps)\n",
    "            else:\n",
    "                dash1,dash2,theta_plus,r_plus,theta_prime,n_prime,s_prime = BuildTree(y,x,theta_plus,r_plus,u,v_j,j,eps)\n",
    "            if(s_prime == 1):\n",
    "                p = min(1,n_prime/n)\n",
    "                unif = np.random.uniform()\n",
    "                if(p>u):\n",
    "                    theta_m[m,:] = theta_prime\n",
    "            n = n+n_prime\n",
    "            if((theta_plus-theta_minus).dot(r_minus) >= 0 and (theta_plus-theta_minus).dot(r_plus) >= 0):\n",
    "                s = s_prime\n",
    "            else:\n",
    "                s = 0\n",
    "            j = j+1    \n",
    "    return(theta_m)"
   ]
  },
  {
   "cell_type": "code",
   "execution_count": 168,
   "metadata": {
    "collapsed": true
   },
   "outputs": [],
   "source": [
    "from concurrent.futures import ProcessPoolExecutor\n",
    "def f(theta0, y,x, eps, M):\n",
    "    result = NUTS_Eff(theta0, y,x, eps, M)\n",
    "    return result"
   ]
  },
  {
   "cell_type": "code",
   "execution_count": 169,
   "metadata": {
    "collapsed": true
   },
   "outputs": [],
   "source": [
    "def f_(args):\n",
    "    return f(*args)"
   ]
  },
  {
   "cell_type": "code",
   "execution_count": 170,
   "metadata": {
    "collapsed": true
   },
   "outputs": [],
   "source": [
    "M = 1600  #4*(1150-100 for burn in) gives sample of 5,000 \n",
    "eps = .005\n",
    "#Initialize four starting values for theta, then run NUTS in parallel\n",
    "beta0 = stats.norm.rvs(loc=0,scale=1,size=2)\n",
    "phi0 = stats.gamma.rvs(a=3,scale=1/2,size=1)\n",
    "theta0 = np.hstack([beta0, phi0])\n",
    "beta1 = stats.norm.rvs(loc=0,scale=1,size=2)\n",
    "phi1 = stats.gamma.rvs(a=3,scale=1/2,size=1)\n",
    "theta1 = np.hstack([beta1, phi1])\n",
    "beta2 = stats.norm.rvs(loc=0,scale=1,size=2)\n",
    "phi2 = stats.gamma.rvs(a=3,scale=1/2,size=1)\n",
    "theta2 = np.hstack([beta2, phi2])\n",
    "beta3 = stats.norm.rvs(loc=0,scale=1,size=2)\n",
    "phi3 = stats.gamma.rvs(a=3,scale=1/2,size=1)\n",
    "theta3 = np.hstack([beta3, phi3])\n",
    "xs = np.array([theta0, y,x, eps, M, theta1, y,x, eps, M, theta2, y,x, eps, M, theta3, y,x, eps, M])\n",
    "chunks = np.array_split(xs, xs.shape[0]//(5))"
   ]
  },
  {
   "cell_type": "code",
   "execution_count": null,
   "metadata": {
    "collapsed": false
   },
   "outputs": [],
   "source": [
    "%%time\n",
    "njobs = 4\n",
    "with ProcessPoolExecutor(max_workers=4) as pool:\n",
    "    res = pool.map(f_,chunks)    "
   ]
  },
  {
   "cell_type": "code",
   "execution_count": null,
   "metadata": {
    "collapsed": false
   },
   "outputs": [],
   "source": [
    "listy = list(res)"
   ]
  },
  {
   "cell_type": "code",
   "execution_count": null,
   "metadata": {
    "collapsed": false
   },
   "outputs": [],
   "source": [
    "res1 = listy[0]\n",
    "res2 = listy[1]\n",
    "res3 = listy[2]\n",
    "res4 = listy[3]\n",
    "beta0_found = 0.25*(np.mean(res1[100:M-1,0])+np.mean(res2[100:M-1,0])+np.mean(res3[100:M-1,0])+np.mean(res4[100:M-1,0]))\n",
    "beta1_found = 0.25*(np.mean(res1[100:M-1,1])+np.mean(res2[100:M-1,1])+np.mean(res3[100:M-1,1])+np.mean(res4[100:M-1,1]))\n",
    "phi_found = 0.25*(np.mean(res1[100:M-1,2])+np.mean(res2[100:M-1,2])+np.mean(res3[100:M-1,2])+np.mean(res4[100:M-1,2]))\n",
    "print(\"truth\", (true_beta, true_phi))\n",
    "print(\"Mean after burn in we find\",beta0_found,beta1_found ,phi_found)"
   ]
  },
  {
   "cell_type": "code",
   "execution_count": null,
   "metadata": {
    "collapsed": true
   },
   "outputs": [],
   "source": [
    "from multiprocessing import cpu_count, Pool"
   ]
  },
  {
   "cell_type": "code",
   "execution_count": null,
   "metadata": {
    "collapsed": true
   },
   "outputs": [],
   "source": [
    "%%time\n",
    "pool = Pool()\n",
    "res = pool.map(f_,chunks)\n",
    "pool.close()"
   ]
  },
  {
   "cell_type": "code",
   "execution_count": null,
   "metadata": {
    "collapsed": true
   },
   "outputs": [],
   "source": [
    "listy = list(res)"
   ]
  },
  {
   "cell_type": "code",
   "execution_count": null,
   "metadata": {
    "collapsed": true
   },
   "outputs": [],
   "source": [
    "res1 = listy[0]\n",
    "res2 = listy[1]\n",
    "res3 = listy[2]\n",
    "res4 = listy[3]\n",
    "beta0_found = 0.25*(np.mean(res1[100:M-1,0])+np.mean(res2[100:M-1,0])+np.mean(res3[100:M-1,0])+np.mean(res4[100:M-1,0]))\n",
    "beta1_found = 0.25*(np.mean(res1[100:M-1,1])+np.mean(res2[100:M-1,1])+np.mean(res3[100:M-1,1])+np.mean(res4[100:M-1,1]))\n",
    "phi_found = 0.25*(np.mean(res1[100:M-1,2])+np.mean(res2[100:M-1,2])+np.mean(res3[100:M-1,2])+np.mean(res4[100:M-1,2]))\n",
    "print(\"truth\", (true_beta, true_phi))\n",
    "print(\"Mean after burn in we find\",beta0_found,beta1_found ,phi_found)"
   ]
  },
  {
   "cell_type": "code",
   "execution_count": null,
   "metadata": {
    "collapsed": false
   },
   "outputs": [],
   "source": [
    "%%time\n",
    "M = 5000\n",
    "eps = .005\n",
    "results = NUTS_Eff(theta0, y,x, eps, M)\n",
    "print(\"truth\", (true_beta, true_phi))\n",
    "beta0_found = np.mean(results[round(500):(M-1),0])\n",
    "beta1_found = np.mean(results[round(500):(M-1),1])\n",
    "phi_found = np.mean(results[round(500):(M-1),2])\n",
    "print(\"Mean after burn in we find\",beta0_found,beta1_found ,phi_found)\n"
   ]
  },
  {
   "cell_type": "code",
   "execution_count": null,
   "metadata": {
    "collapsed": true
   },
   "outputs": [],
   "source": []
  },
  {
   "cell_type": "code",
   "execution_count": null,
   "metadata": {
    "collapsed": false
   },
   "outputs": [],
   "source": []
  },
  {
   "cell_type": "code",
   "execution_count": null,
   "metadata": {
    "collapsed": true
   },
   "outputs": [],
   "source": []
  },
  {
   "cell_type": "code",
   "execution_count": null,
   "metadata": {
    "collapsed": false
   },
   "outputs": [],
   "source": []
  },
  {
   "cell_type": "code",
   "execution_count": null,
   "metadata": {
    "collapsed": false
   },
   "outputs": [],
   "source": []
  },
  {
   "cell_type": "code",
   "execution_count": null,
   "metadata": {
    "collapsed": true
   },
   "outputs": [],
   "source": []
  }
 ],
 "metadata": {
  "kernelspec": {
   "display_name": "Python 3",
   "language": "python",
   "name": "python3"
  },
  "language_info": {
   "codemirror_mode": {
    "name": "ipython",
    "version": 3
   },
   "file_extension": ".py",
   "mimetype": "text/x-python",
   "name": "python",
   "nbconvert_exporter": "python",
   "pygments_lexer": "ipython3",
   "version": "3.5.1"
  }
 },
 "nbformat": 4,
 "nbformat_minor": 0
}
