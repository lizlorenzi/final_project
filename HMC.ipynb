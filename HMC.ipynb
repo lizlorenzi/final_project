{
 "cells": [
  {
   "cell_type": "code",
   "execution_count": 228,
   "metadata": {
    "collapsed": false
   },
   "outputs": [
    {
     "name": "stdout",
     "output_type": "stream",
     "text": [
      "[-0.66571738  0.68830884] [ 2.19167731]\n",
      "[ 1.22156209 -1.3060355   0.89817466]\n",
      "(50, 2)\n",
      "(50,)\n",
      "(2,)\n"
     ]
    }
   ],
   "source": [
    "import scipy.stats as stats\n",
    "import numpy as np\n",
    "import math\n",
    "from scipy.stats import norm\n",
    "from scipy.stats import gamma\n",
    "\n",
    "n=50\n",
    "\n",
    "true_beta = np.transpose(stats.norm.rvs(loc=0,scale=1,size=2))\n",
    "true_phi = stats.gamma.rvs(a=3,scale=1/2,size=1)\n",
    "\n",
    "x = np.transpose(np.array([np.ones(n),stats.norm.rvs(loc=0,scale=1,size=n)]))\n",
    "y = np.random.normal(x.dot(true_beta), np.sqrt(1/true_phi))\n",
    "\n",
    "\n",
    "beta0 = stats.norm.rvs(loc=0,scale=1,size=2)\n",
    "phi0 = stats.gamma.rvs(a=3,scale=1/2,size=1)\n",
    "theta0 = np.hstack([beta0, phi0])\n",
    "\n",
    "#Set hyperparameters\n",
    "a = 3.0\n",
    "b= 2.0\n",
    "\n",
    "print(true_beta,true_phi)\n",
    "print(theta0)\n",
    "print(x.shape)\n",
    "print(y.shape)\n",
    "print(beta0.shape)"
   ]
  },
  {
   "cell_type": "code",
   "execution_count": 229,
   "metadata": {
    "collapsed": true
   },
   "outputs": [],
   "source": [
    "import warnings\n",
    "warnings.filterwarnings(\"ignore\")"
   ]
  },
  {
   "cell_type": "code",
   "execution_count": 230,
   "metadata": {
    "collapsed": true
   },
   "outputs": [],
   "source": [
    "def leapfrog(y,x,theta, r, eps):\n",
    "    n = y.shape[0]\n",
    "    #gradients = np.hstack([theta[2]*(sum(np.transpose(x).dot(y))-theta[0:2]*sum(np.transpose(x).dot(x)))-theta[0:2],(.5*n+a-1)/theta[2]-b-.5*sum((y-x.dot(theta[0:2]))*(y-x.dot(theta[0:2])))])\n",
    "    gradients = np.hstack([theta[2]*(np.transpose(y).dot(x)-np.transpose(x).dot(x).dot(theta[0:2]))-.01*theta[0:2],(.5*n+a-1)/theta[2]-b-0.5*np.transpose((y-x.dot(theta[0:2]))).dot(y-x.dot(theta[0:2]))])\n",
    "    r_upd = r + eps/2 * (gradients)\n",
    "    theta_upd = theta + eps * r_upd\n",
    "    gradients = np.hstack([theta_upd[2]*(np.transpose(y).dot(x)-np.transpose(x).dot(x).dot(theta_upd[0:2]))-.01*theta_upd[0:2],(.5*n+a-1)/theta[2]-b-0.5*np.transpose((y-x.dot(theta_upd[0:2]))).dot(y-x.dot(theta_upd[0:2]))])\n",
    "    r_upd = r_upd + eps/2 * (gradients)\n",
    "    return theta_upd, r_upd"
   ]
  },
  {
   "cell_type": "code",
   "execution_count": 231,
   "metadata": {
    "collapsed": true
   },
   "outputs": [],
   "source": [
    "def log_joint(y, x, theta): \n",
    "    n = y.shape[0]\n",
    "    return sum(norm.logpdf(y,loc=x.dot(theta[0:2]), scale=1/np.sqrt(theta[2])))+norm.logpdf(theta[0],loc=0,scale=1/np.sqrt(.01))+norm.logpdf(theta[1],loc=0,scale=1/np.sqrt(.01)) +gamma.logpdf(theta[2], a, scale=1/b)\n",
    " "
   ]
  },
  {
   "cell_type": "code",
   "execution_count": 232,
   "metadata": {
    "collapsed": false
   },
   "outputs": [],
   "source": [
    "def hamilt_mc(theta0, y,x, eps, L, M):\n",
    "    theta_m = np.zeros((M,3))\n",
    "    theta_m[0,:] = theta0\n",
    "    accept_b = 0\n",
    "    accept_p = 0\n",
    "    for m in range(1,M):\n",
    "        r0 = stats.norm.rvs(size=3)\n",
    "        theta_m[m,:] = theta_m[m-1,:]\n",
    "        theta_tilde = theta_m[m-1,:]\n",
    "        r_tilde = r0\n",
    "        for i in range(L):\n",
    "            theta_tilde, r_tilde = leapfrog(y,x,theta_tilde, r_tilde, eps) \n",
    "        if theta_tilde[2] < 0.0:\n",
    "            print(\"reject\")\n",
    "            theta_tilde[2] = theta_m[m-1,2]\n",
    "        alpha = min(1, np.exp(log_joint(y,x,theta_tilde)-(1/2)*r_tilde.dot(r_tilde))/np.exp(log_joint(y,x,theta_m[m-1,:])-1/2*r0.dot(r0)))\n",
    "        u = np.random.uniform()\n",
    "        if alpha > u:\n",
    "            theta_m[m,:] = theta_tilde\n",
    "            r_m =-r_tilde #confused why you save this each time since the algorithm has you repropose an r0 each iteration\n",
    "    return(theta_m)"
   ]
  },
  {
   "cell_type": "code",
   "execution_count": 242,
   "metadata": {
    "collapsed": false
   },
   "outputs": [],
   "source": [
    "M = 10000\n",
    "eps = .001\n",
    "L= 10\n"
   ]
  },
  {
   "cell_type": "code",
   "execution_count": 243,
   "metadata": {
    "collapsed": false,
    "scrolled": true
   },
   "outputs": [
    {
     "name": "stdout",
     "output_type": "stream",
     "text": [
      "truth (array([-0.66571738,  0.68830884]), array([ 2.19167731]))\n",
      "Mean after burn in we find -0.624446320962 0.700711221749 2.53974011896\n",
      "acceptance (beta then phi) 0.9999 0.9999\n",
      "CPU times: user 14.4 s, sys: 15.4 ms, total: 14.5 s\n",
      "Wall time: 14.5 s\n"
     ]
    }
   ],
   "source": [
    "%%time\n",
    "results,acc_b,acc_p = hamilt_mc(theta0, y,x, eps, L, M)\n",
    "print(\"truth\", (true_beta, true_phi))\n",
    "beta0_found = np.mean(results[round(4*M/5):(M-1),0])\n",
    "beta1_found = np.mean(results[round(4*M/5):(M-1),1])\n",
    "phi_found = np.mean(results[round(4*M/5):(M-1),2])\n",
    "print(\"Mean after burn in we find\",beta0_found,beta1_found ,phi_found)\n",
    "print(\"acceptance (beta then phi)\", acc_b/M, acc_p/M)"
   ]
  },
  {
   "cell_type": "code",
   "execution_count": 244,
   "metadata": {
    "collapsed": false
   },
   "outputs": [
    {
     "data": {
      "image/png": "[encoded data removed]",
      "text/plain": [
       "<matplotlib.figure.Figure at 0x10d370da0>"
      ]
     },
     "metadata": {},
     "output_type": "display_data"
    }
   ],
   "source": [
    "import matplotlib.pyplot as plt\n",
    "%matplotlib inline\n",
    "betas_found = np.hstack([beta0_found,beta1_found])\n",
    "y_sim = stats.norm.rvs(loc=x.dot(betas_found),scale=1/np.sqrt(phi_found))\n",
    "#y_sim = stats.norm.rvs(loc=x*beta_found,scale=phi_found)\n",
    "\n",
    "fig = plt.figure()\n",
    "ax1 = fig.add_subplot(111)\n",
    "\n",
    "ax1.scatter(x[:,1], y, s=10, c='b', marker=\"s\", label='Observed')\n",
    "ax1.scatter(x[:,1], y_sim, s=10, c='r', marker=\"o\", label='Estimated')\n",
    "plt.legend(loc='lower left');\n",
    "plt.show()"
   ]
  },
  {
   "cell_type": "code",
   "execution_count": 100,
   "metadata": {
    "collapsed": false
   },
   "outputs": [],
   "source": [
    "betas = stats.norm.rvs(true_beta, np.sqrt(1), size=1000)\n",
    "phis = stats.gamma.rvs(a=3,scale=1/2,size=1000)"
   ]
  },
  {
   "cell_type": "code",
   "execution_count": 101,
   "metadata": {
    "collapsed": false
   },
   "outputs": [
    {
     "data": {
      "image/png": "[encoded data removed]",
      "text/plain": [
       "<matplotlib.figure.Figure at 0x10ce07c88>"
      ]
     },
     "metadata": {},
     "output_type": "display_data"
    }
   ],
   "source": [
    "import matplotlib.pyplot as plt\n",
    "%matplotlib inline\n",
    "plt.hist(results[round(4*M/5):(M-1),0], 40, histtype='step', normed=True, linewidth=1, label='HMC');\n",
    "plt.hist(betas, 40, histtype='step', normed=True, linewidth=1, label='True');\n",
    "#plt.plot(thetas, post.pdf(thetas), c='red', linestyle='--', alpha=0.5, label='True posterior')\n",
    "plt.xlim([-10,10]);\n",
    "plt.legend(loc='upper left')\n",
    "pass"
   ]
  },
  {
   "cell_type": "code",
   "execution_count": 102,
   "metadata": {
    "collapsed": false
   },
   "outputs": [
    {
     "data": {
      "image/png": "[encoded data removed]",
      "text/plain": [
       "<matplotlib.figure.Figure at 0x10cdaf780>"
      ]
     },
     "metadata": {},
     "output_type": "display_data"
    }
   ],
   "source": [
    "plt.hist(results[round(4*M/5):(M-1),1], 40, histtype='step', normed=True, linewidth=1, label='HMC');\n",
    "plt.hist(phis, 40, histtype='step', normed=True, linewidth=1, label='True');\n",
    "#plt.plot(thetas, post.pdf(thetas), c='red', linestyle='--', alpha=0.5, label='True posterior')\n",
    "plt.xlim([0,20]);\n",
    "plt.legend(loc='upper left')\n",
    "pass"
   ]
  },
  {
   "cell_type": "code",
   "execution_count": 103,
   "metadata": {
    "collapsed": false
   },
   "outputs": [
    {
     "data": {
      "text/plain": [
       "array([-17.8645959 ,   8.81459445])"
      ]
     },
     "execution_count": 103,
     "metadata": {},
     "output_type": "execute_result"
    }
   ],
   "source": [
    "theta0[2]*(sum(np.transpose(x).dot(y))-theta0[0:2]*sum(np.transpose(x).dot(x)))-theta0[0:2]\n",
    "\n"
   ]
  },
  {
   "cell_type": "code",
   "execution_count": 102,
   "metadata": {
    "collapsed": false
   },
   "outputs": [
    {
     "data": {
      "text/plain": [
       "-23.833355506329806"
      ]
     },
     "execution_count": 102,
     "metadata": {},
     "output_type": "execute_result"
    }
   ],
   "source": [
    "(.5*n+a-1)/theta0[2]-b-.5*sum((y-x.dot(theta0[0:2]))*(y-x.dot(theta0[0:2])))"
   ]
  },
  {
   "cell_type": "code",
   "execution_count": null,
   "metadata": {
    "collapsed": true
   },
   "outputs": [],
   "source": []
  }
 ],
 "metadata": {
  "kernelspec": {
   "display_name": "Python 3",
   "language": "python",
   "name": "python3"
  },
  "language_info": {
   "codemirror_mode": {
    "name": "ipython",
    "version": 3
   },
   "file_extension": ".py",
   "mimetype": "text/x-python",
   "name": "python",
   "nbconvert_exporter": "python",
   "pygments_lexer": "ipython3",
   "version": "3.5.1"
  }
 },
 "nbformat": 4,
 "nbformat_minor": 0
}
