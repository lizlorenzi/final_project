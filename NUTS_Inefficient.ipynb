{
 "cells": [
  {
   "cell_type": "code",
   "execution_count": 1,
   "metadata": {
    "collapsed": false
   },
   "outputs": [],
   "source": [
    "import scipy.stats as stats\n",
    "import numpy as np\n",
    "import math\n",
    "\n",
    "\n",
    "#Set hyperparameters\n",
    "tau = 1\n",
    "a = 3.0\n",
    "b= 2.0\n",
    "\n",
    "true_beta = stats.norm.rvs(loc=0,scale=np.sqrt(1/tau),size=1)\n",
    "true_phi = stats.gamma.rvs(a=3,scale=1/2,size=1)\n",
    "\n",
    "x = stats.norm.rvs(loc=0,scale=1,size=20)\n",
    "y = stats.norm.rvs(loc=true_beta*x, scale=np.sqrt(1/true_phi))\n",
    "\n",
    "beta0 = stats.norm.rvs(loc=0,scale=1,size=1)\n",
    "phi0 = stats.gamma.rvs(a=3,scale=1/2,size=1)\n",
    "theta0 = np.hstack([beta0, phi0])\n",
    "\n",
    "theta0 = np.hstack([beta0, phi0])\n"
   ]
  },
  {
   "cell_type": "code",
   "execution_count": 2,
   "metadata": {
    "collapsed": false
   },
   "outputs": [],
   "source": [
    "import sympy as sympy\n",
    "from sympy import *\n",
    "\n",
    "lik = stats.norm\n",
    "prior_beta = stats.norm\n",
    "prior_phi = stats.gamma\n",
    "\n",
    "n = y.shape[0]\n",
    "beta = sympy.symbols('beta')\n",
    "phi = sympy.symbols('phi')\n",
    "log_lik = (n/2+a-1)*log(phi)-1/2*phi*sum((y-x*beta)*(y-x*beta))-1/2*tau*beta*beta-phi*b\n",
    "#log_lik = ((n/2)+a-1)*log(phi)-phi*b -(1/2)*(phi*sum(((y-beta*x)**2))+tau*(beta**2))\n",
    "grad_beta = log_lik.diff(beta)\n",
    "grad_phi = log_lik.diff(phi)\n",
    "f1 = lambdify((beta,phi), grad_beta, 'numpy')\n",
    "f2 = lambdify((beta,phi), grad_phi, 'numpy')\n",
    "#print(x[0:5],y[0:5])\n",
    "#print(log_joint(y, x, theta0))"
   ]
  },
  {
   "cell_type": "code",
   "execution_count": 3,
   "metadata": {
    "collapsed": true
   },
   "outputs": [],
   "source": [
    "def leapfrog(theta, r, eps):\n",
    "    gradients = np.array(f1(theta[0],theta[1]),f2(theta[0],theta[1]))\n",
    "    r_upd = r + eps/2 * (gradients)\n",
    "    theta_upd = theta + eps * r_upd\n",
    "    r_upd = r_upd + eps/2 * (gradients)\n",
    "    return theta_upd, r_upd"
   ]
  },
  {
   "cell_type": "code",
   "execution_count": 4,
   "metadata": {
    "collapsed": true
   },
   "outputs": [],
   "source": [
    "def log_joint(y, x, theta): \n",
    "    return sum(np.log(lik(theta[0]*x,np.sqrt(1/theta[1])).pdf(y)))+np.log(prior_beta(0,np.sqrt(1/tau)).pdf(theta[0]))+np.log(prior_phi(a=a,scale=1/b).pdf(theta[1]))\n"
   ]
  },
  {
   "cell_type": "code",
   "execution_count": 5,
   "metadata": {
    "collapsed": true
   },
   "outputs": [],
   "source": [
    "def BuildTree(theta, r, u, v, j, eps):\n",
    "    triangle_max = 1000 #recommend value pg 1359\n",
    "    if(j==0):\n",
    "        #base case, take one leapfrog step in direction v\n",
    "        theta_prime,r_prime = leapfrog(theta,r,v*eps)\n",
    "        if(np.linalg.norm(u) < np.exp(log_joint(y,x,theta_prime)-(1/2)*r_prime.dot(r_prime))):\n",
    "            C_theta_prime = theta_prime\n",
    "            C_r_prime = r_prime\n",
    "        else:\n",
    "            C_theta_prime = np.array([])\n",
    "            C_r_prime = np.array([])\n",
    "        if(log_joint(y,x,theta_prime)-(1/2)*r_prime.dot(r_prime) > u-triangle_max):\n",
    "            s_prime = 1\n",
    "        else:\n",
    "            s_prime = 0\n",
    "        return theta_prime,r_prime,theta_prime,r_prime,C_theta_prime,C_r_prime,s_prime    \n",
    "    else:\n",
    "        #recursion-build the left and right subtrees\n",
    "        theta_minus,r_minus,theta_plus,r_plus,C_theta_prime,C_r_prime,s_prime = BuildTree(theta,r,u,v,j-1,eps)\n",
    "        if(v == -1):\n",
    "            theta_minus,r_minus,dash1,dash2,C_theta_primep,C_r_primep,s_primep = BuildTree(theta_minus,r_minus,u,v,j-1,eps)\n",
    "        else:\n",
    "            dash1,dash2,theta_plus,r_plus,C_theta_primep,C_r_primep,s_primep = BuildTree(theta_plus,r_plus,u,v,j-1,eps)\n",
    "        if((theta_plus-theta_minus).dot(r_minus) > 0 and (theta_plus-theta_minus).dot(r_plus) > 0):  \n",
    "            s_prime = s_prime*s_primep  \n",
    "        else:\n",
    "            s_prime = 0   \n",
    "        C_theta_prime = np.hstack([C_theta_prime,C_theta_primep])\n",
    "        C_r_prime = np.hstack([C_r_prime,C_r_primep])\n",
    "        return theta_minus,r_minus,theta_plus,r_plus,C_theta_prime,C_r_prime,s_prime"
   ]
  },
  {
   "cell_type": "code",
   "execution_count": 6,
   "metadata": {
    "collapsed": false
   },
   "outputs": [],
   "source": [
    "def hamilt_mc(theta0, y,x, eps, M):\n",
    "    theta_m = np.zeros((M,2))\n",
    "    theta_m[0,:] = theta0\n",
    "    accept_b = 0\n",
    "    accept_p = 0\n",
    "    for m in range(1,M):\n",
    "        #print('M: ',m,' Theta: ',theta_m[m-1,:])\n",
    "        r0 = stats.norm.rvs(size=2)\n",
    "        u = np.random.uniform(low=0,high=np.exp(log_joint(y,x,theta_m[m-1,:])-(1/2)*r0.dot(r0)))\n",
    "        theta_minus = theta_m[m-1,:]\n",
    "        theta_plus = theta_m[m-1,:]\n",
    "        r_minus = r0\n",
    "        r_plus = r0\n",
    "        j=0\n",
    "        C_theta = theta_m[m-1,:]\n",
    "        C_r = r0\n",
    "        s=1\n",
    "        while(s==1):\n",
    "            v_j = np.random.choice([-1,1])\n",
    "            if(v_j==-1):\n",
    "                theta_minus,r_minus,dash1,dash2,C_theta_prime,C_r_prime,s_prime = BuildTree(theta_minus,r_minus,u,v_j,j,eps)\n",
    "            else:\n",
    "                dash1,dash2,theta_plus,r_plus,C_theta_prime,C_r_prime,s_prime = BuildTree(theta_plus,r_plus,u,v_j,j,eps)\n",
    "            if(s_prime == 1):\n",
    "                C_theta = np.hstack([C_theta,C_theta_prime])\n",
    "                C_r = np.hstack([C_r,C_r_prime]) \n",
    "            if((theta_plus-theta_minus).dot(r_minus) >= 0 and (theta_plus-theta_minus).dot(r_plus) >= 0):\n",
    "                s = s_prime\n",
    "            else:\n",
    "                s = 0\n",
    "            j = j+1    \n",
    "        index = np.random.randint(len(C_theta))\n",
    "        if(index%2!=0):\n",
    "            index = index-1    \n",
    "        theta_m[m,:] = [C_theta[index],C_theta[index+1]]\n",
    "        r = [C_r[index],C_r[index+1]]        \n",
    "    return(theta_m)"
   ]
  },
  {
   "cell_type": "code",
   "execution_count": 7,
   "metadata": {
    "collapsed": false
   },
   "outputs": [
    {
     "name": "stderr",
     "output_type": "stream",
     "text": [
      "/Users/stephaniebrown/anaconda/lib/python3.5/site-packages/ipykernel/__main__.py:2: RuntimeWarning: invalid value encountered in sqrt\n",
      "  from ipykernel import kernelapp as app\n",
      "/Users/stephaniebrown/anaconda/lib/python3.5/site-packages/scipy/stats/_distn_infrastructure.py:1582: RuntimeWarning: invalid value encountered in greater_equal\n",
      "  cond1 = (scale > 0) & (x >= self.a) & (x <= self.b)\n",
      "/Users/stephaniebrown/anaconda/lib/python3.5/site-packages/scipy/stats/_distn_infrastructure.py:1582: RuntimeWarning: invalid value encountered in less_equal\n",
      "  cond1 = (scale > 0) & (x >= self.a) & (x <= self.b)\n",
      "/Users/stephaniebrown/anaconda/lib/python3.5/site-packages/ipykernel/__main__.py:2: RuntimeWarning: divide by zero encountered in log\n",
      "  from ipykernel import kernelapp as app\n",
      "/Users/stephaniebrown/anaconda/lib/python3.5/site-packages/scipy/stats/_continuous_distns.py:77: RuntimeWarning: overflow encountered in square\n",
      "  return exp(-x**2/2.0) / _norm_pdf_C\n",
      "/Users/stephaniebrown/anaconda/lib/python3.5/site-packages/numpy/__init__.py:1: RuntimeWarning: overflow encountered in double_scalars\n",
      "  \"\"\"\n",
      "/Users/stephaniebrown/anaconda/lib/python3.5/site-packages/numpy/__init__.py:1: RuntimeWarning: overflow encountered in double_scalars\n",
      "  \"\"\"\n",
      "/Users/stephaniebrown/anaconda/lib/python3.5/site-packages/numpy/__init__.py:1: RuntimeWarning: invalid value encountered in double_scalars\n",
      "  \"\"\"\n"
     ]
    },
    {
     "name": "stdout",
     "output_type": "stream",
     "text": [
      "truth (array([-0.88267755]), array([ 2.84401621]))\n",
      "End of chain, we find [-0.87867828  3.59587441]\n",
      "Mean after burn in we find -0.920866583692 2.25135780356\n"
     ]
    }
   ],
   "source": [
    "M = 500\n",
    "eps = .01\n",
    "results = hamilt_mc(theta0, y,x, eps, M)\n",
    "print(\"truth\", (true_beta, true_phi))\n",
    "print(\"End of chain, we find\", results[(M-1),:])\n",
    "print(\"Mean after burn in we find\", np.mean(results[round(4*M/5):(M-1),0]),np.mean(results[round(4*M/5):(M-1),1]))\n",
    "#print(\"acceptance (beta then phi)\", acc_b/M, acc_p/M)"
   ]
  },
  {
   "cell_type": "code",
   "execution_count": 9,
   "metadata": {
    "collapsed": false
   },
   "outputs": [
    {
     "data": {
      "image/png": "[encoded data removed]",
      "text/plain": [
       "<matplotlib.figure.Figure at 0x10a9c9e10>"
      ]
     },
     "metadata": {},
     "output_type": "display_data"
    }
   ],
   "source": [
    "import matplotlib.pyplot as plt\n",
    "%matplotlib inline\n",
    "\n",
    "betas = stats.norm.rvs(true_beta, np.sqrt(1/tau), size=1000)\n",
    "phis = stats.gamma.rvs(a=3,scale=1/2,size=1000)\n",
    "\n",
    "plt.hist(results[round(4*M/5):(M-1),0], 40, histtype='step', normed=True, linewidth=1, label='HMC');\n",
    "plt.hist(betas, 40, histtype='step', normed=True, linewidth=1, label='True');\n",
    "#plt.plot(thetas, post.pdf(thetas), c='red', linestyle='--', alpha=0.5, label='True posterior')\n",
    "plt.xlim([-10,10]);\n",
    "plt.legend(loc='upper left')\n",
    "pass"
   ]
  },
  {
   "cell_type": "code",
   "execution_count": 10,
   "metadata": {
    "collapsed": false
   },
   "outputs": [
    {
     "data": {
      "image/png": "[encoded data removed]",
      "text/plain": [
       "<matplotlib.figure.Figure at 0x109beb198>"
      ]
     },
     "metadata": {},
     "output_type": "display_data"
    }
   ],
   "source": [
    "plt.hist(results[round(4*M/5):(M-1),1], 40, histtype='step', normed=True, linewidth=1, label='HMC');\n",
    "plt.hist(phis, 40, histtype='step', normed=True, linewidth=1, label='True');\n",
    "#plt.plot(thetas, post.pdf(thetas), c='red', linestyle='--', alpha=0.5, label='True posterior')\n",
    "plt.xlim([0,20]);\n",
    "plt.legend(loc='upper left')\n",
    "pass"
   ]
  },
  {
   "cell_type": "code",
   "execution_count": null,
   "metadata": {
    "collapsed": false
   },
   "outputs": [],
   "source": [
    "a = np.array([1,2])\n",
    "b = np.array([2,5])\n",
    "np.hstack([a,b])"
   ]
  },
  {
   "cell_type": "code",
   "execution_count": null,
   "metadata": {
    "collapsed": false
   },
   "outputs": [],
   "source": [
    "r0 = stats.norm.rvs(size=2)\n",
    "print(np.exp(log_joint(y,x,theta0)-(1/2)*r0.dot(r0)))\n",
    "np.random.uniform(low=0,high=np.exp(log_joint(y,x,theta0)-(1/2)*r0.dot(r0)))"
   ]
  },
  {
   "cell_type": "code",
   "execution_count": null,
   "metadata": {
    "collapsed": false
   },
   "outputs": [],
   "source": [
    "r0.dot(r0)"
   ]
  },
  {
   "cell_type": "code",
   "execution_count": null,
   "metadata": {
    "collapsed": false
   },
   "outputs": [],
   "source": [
    "log_joint(y,x,theta0)"
   ]
  },
  {
   "cell_type": "code",
   "execution_count": null,
   "metadata": {
    "collapsed": false
   },
   "outputs": [],
   "source": [
    "np.mean(results[:,0])"
   ]
  },
  {
   "cell_type": "code",
   "execution_count": null,
   "metadata": {
    "collapsed": false
   },
   "outputs": [],
   "source": [
    "np.mean(results[:,1])"
   ]
  },
  {
   "cell_type": "code",
   "execution_count": null,
   "metadata": {
    "collapsed": true
   },
   "outputs": [],
   "source": []
  }
 ],
 "metadata": {
  "kernelspec": {
   "display_name": "Python 3",
   "language": "python",
   "name": "python3"
  },
  "language_info": {
   "codemirror_mode": {
    "name": "ipython",
    "version": 3
   },
   "file_extension": ".py",
   "mimetype": "text/x-python",
   "name": "python",
   "nbconvert_exporter": "python",
   "pygments_lexer": "ipython3",
   "version": "3.5.1"
  }
 },
 "nbformat": 4,
 "nbformat_minor": 0
}
