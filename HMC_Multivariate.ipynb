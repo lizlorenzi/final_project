{
 "cells": [
  {
   "cell_type": "code",
   "execution_count": 7,
   "metadata": {
    "collapsed": false
   },
   "outputs": [],
   "source": [
    "import scipy.stats as stats\n",
    "import numpy as np\n",
    "import math\n",
    "from scipy.stats import norm\n",
    "from scipy.stats import gamma\n"
   ]
  },
  {
   "cell_type": "code",
   "execution_count": 8,
   "metadata": {
    "collapsed": true
   },
   "outputs": [],
   "source": [
    "import warnings\n",
    "warnings.filterwarnings(\"ignore\")"
   ]
  },
  {
   "cell_type": "code",
   "execution_count": 9,
   "metadata": {
    "collapsed": true
   },
   "outputs": [],
   "source": [
    "def leapfrog(theta, A, r, eps):\n",
    "    #gradients are specific to this example\n",
    "    gradients = A.dot(theta)\n",
    "    r_upd = r + eps/2 * (gradients)\n",
    "    theta_upd = theta + eps * r_upd\n",
    "    gradients = A.dot(theta_upd)\n",
    "    r_upd = r_upd + eps/2 * (gradients)\n",
    "    return theta_upd, r_upd"
   ]
  },
  {
   "cell_type": "code",
   "execution_count": 10,
   "metadata": {
    "collapsed": true
   },
   "outputs": [],
   "source": [
    "def log_joint(theta, A):\n",
    "    #seems like this can be up to a normalizing constant so that's what i did, but otherwise that could be the issue\n",
    "    return -1/2 * theta.T.dot(A).dot(theta)\n"
   ]
  },
  {
   "cell_type": "code",
   "execution_count": 17,
   "metadata": {
    "collapsed": false
   },
   "outputs": [],
   "source": [
    "def hamilt_mc(theta0,A,eps,L,M):\n",
    "    no_par = theta0.shape[0]\n",
    "    theta_m = np.zeros((M,no_par))\n",
    "    theta_m[0,:] = theta0\n",
    "    accept_b = 0\n",
    "    accept_p = 0\n",
    "    for m in range(1,M):\n",
    "        r0 = stats.norm.rvs(size=no_par)\n",
    "        theta_m[m,:] = theta_m[m-1,:]\n",
    "        theta_tilde = theta_m[m-1,:]\n",
    "        r_tilde = r0\n",
    "        for i in range(L):\n",
    "            theta_tilde, r_tilde = leapfrog(theta_tilde,A, r_tilde, eps) \n",
    "        alpha = min(1, np.exp(log_joint(theta_tilde,A)-(1/2)*r_tilde.dot(r_tilde))/np.exp(log_joint(theta_m[m-1,:],A)-1/2*r0.dot(r0)))\n",
    "        u = np.random.uniform()\n",
    "        if alpha > u:\n",
    "            theta_m[m,:] = theta_tilde\n",
    "            r_m =-r_tilde #confused why you save this each time since the algorithm has you repropose an r0 each iteration\n",
    "    return(theta_m)"
   ]
  },
  {
   "cell_type": "code",
   "execution_count": 27,
   "metadata": {
    "collapsed": false
   },
   "outputs": [],
   "source": [
    "M = 100000\n",
    "eps = .005\n",
    "L= 10\n"
   ]
  },
  {
   "cell_type": "code",
   "execution_count": 28,
   "metadata": {
    "collapsed": false,
    "scrolled": true
   },
   "outputs": [
    {
     "data": {
      "text/plain": [
       "array([ 0.39288805, -0.21787308,  1.28821468])"
      ]
     },
     "execution_count": 28,
     "metadata": {},
     "output_type": "execute_result"
    }
   ],
   "source": [
    "import scipy.stats as stats\n",
    "#Known precision matrix A - df=250 with identity scale\n",
    "A = stats.wishart.rvs(df=15, scale= np.eye(15))\n",
    "#true_theta = stats.norm.rvs(scale=A,size=250)\n",
    "true_theta = np.random.multivariate_normal(mean=np.zeros(15),cov=A,size=100)\n",
    "#target distribution is zero-mean 250-dimensional multivariate normal with known precision\n",
    "theta0 = stats.norm.rvs(size=15)\n",
    "print(A)"
   ]
  },
  {
   "cell_type": "code",
   "execution_count": 29,
   "metadata": {
    "collapsed": false
   },
   "outputs": [
    {
     "name": "stdout",
     "output_type": "stream",
     "text": [
      "CPU times: user 2min, sys: 202 ms, total: 2min 1s\n",
      "Wall time: 2min 1s\n"
     ]
    }
   ],
   "source": [
    "%%time\n",
    "results = hamilt_mc(theta0,A,eps,L,M)"
   ]
  },
  {
   "cell_type": "code",
   "execution_count": 60,
   "metadata": {
    "collapsed": false
   },
   "outputs": [
    {
     "name": "stdout",
     "output_type": "stream",
     "text": [
      "-2.04258233195 -1.88115430612 -1.93321069042 0.272830747785\n"
     ]
    }
   ],
   "source": [
    "#print(np.mean(results[100:100000,0]),np.mean(results[100:100000,1]),np.mean(results[100:100000,2]),np.mean(results[100:100000,3]))"
   ]
  },
  {
   "cell_type": "code",
   "execution_count": 50,
   "metadata": {
    "collapsed": false
   },
   "outputs": [
    {
     "data": {
      "text/plain": [
       "(100, 15)"
      ]
     },
     "execution_count": 50,
     "metadata": {},
     "output_type": "execute_result"
    }
   ],
   "source": [
    "thinned_results = results[[x for x in range(M) if x % 1000 == 0],:]\n",
    "thinned_results.shape"
   ]
  },
  {
   "cell_type": "code",
   "execution_count": 56,
   "metadata": {
    "collapsed": false
   },
   "outputs": [
    {
     "data": {
      "text/plain": [
       "<matplotlib.collections.PathCollection at 0x116f44b00>"
      ]
     },
     "execution_count": 56,
     "metadata": {},
     "output_type": "execute_result"
    },
    {
     "data": {
      "image/png": "[encoded data removed]",
      "text/plain": [
       "<matplotlib.figure.Figure at 0x116d8ab00>"
      ]
     },
     "metadata": {},
     "output_type": "display_data"
    }
   ],
   "source": [
    "import matplotlib.pyplot as plt\n",
    "%matplotlib inline\n",
    "plt.scatter(thinned_results[:,3], thinned_results[:,14], color=\"purple\")\n",
    "plt.scatter(true_theta[:,3], true_theta[:,14], color=\"red\")"
   ]
  },
  {
   "cell_type": "code",
   "execution_count": 62,
   "metadata": {
    "collapsed": false
   },
   "outputs": [
    {
     "data": {
      "text/plain": [
       "<matplotlib.collections.PathCollection at 0x11742d978>"
      ]
     },
     "execution_count": 62,
     "metadata": {},
     "output_type": "execute_result"
    },
    {
     "data": {
      "image/png": "[encoded data removed]",
      "text/plain": [
       "<matplotlib.figure.Figure at 0x117275048>"
      ]
     },
     "metadata": {},
     "output_type": "display_data"
    }
   ],
   "source": [
    "%matplotlib inline\n",
    "plt.scatter(thinned_results[:,6], thinned_results[:,9], color=\"purple\")\n",
    "plt.scatter(true_theta[:,1], true_theta[:,14], color=\"red\")"
   ]
  },
  {
   "cell_type": "code",
   "execution_count": 66,
   "metadata": {
    "collapsed": false
   },
   "outputs": [
    {
     "data": {
      "text/plain": [
       "<matplotlib.collections.PathCollection at 0x1177b85c0>"
      ]
     },
     "execution_count": 66,
     "metadata": {},
     "output_type": "execute_result"
    },
    {
     "data": {
      "image/png": "[encoded data removed]",
      "text/plain": [
       "<matplotlib.figure.Figure at 0x1177b8208>"
      ]
     },
     "metadata": {},
     "output_type": "display_data"
    }
   ],
   "source": [
    "%matplotlib inline\n",
    "plt.scatter(thinned_results[:,1], thinned_results[:,14], color=\"purple\")\n",
    "plt.scatter(true_theta[:,1], true_theta[:,3], color=\"red\")"
   ]
  },
  {
   "cell_type": "code",
   "execution_count": 57,
   "metadata": {
    "collapsed": false
   },
   "outputs": [
    {
     "name": "stdout",
     "output_type": "stream",
     "text": [
      "[[  5.76532356  -0.41387724   0.49775165   2.333059     3.05827643\n",
      "    3.35517813  -2.0185811   -2.78665438   0.61501231  -0.09904851\n",
      "   -0.62526698  -3.10744028  -0.32098343   1.676125    -0.71568172]\n",
      " [ -0.41387724  13.73726468   0.81934909  -5.99903786  -5.08066741\n",
      "    7.50271526   1.58368914   3.26825963   3.67389641  -1.57545\n",
      "    1.46444571   4.0174603    0.68368336  -6.38193798   7.08211671]\n",
      " [  0.49775165   0.81934909  16.56212904   1.30939269   4.92689567\n",
      "    0.71894587  -1.79254089  -1.59114451  -3.05319732  -1.57670372\n",
      "   -1.80934183  -3.7857761    6.10571311   3.49316277   2.61665525]\n",
      " [  2.333059    -5.99903786   1.30939269  11.1737091    5.17216768\n",
      "   -3.94013299  -1.89256793  -5.4632819   -1.17667603   2.49329493\n",
      "    3.64912092  -7.37499071  -2.42321382   3.79061913  -1.23431631]\n",
      " [  3.05827643  -5.08066741   4.92689567   5.17216768  24.52362993\n",
      "   -7.15393775  -1.03980342  -7.19732115  -4.63688419   0.87181248\n",
      "   -3.49738305  -7.08742153  -2.68077255   6.2796297   -9.10768467]\n",
      " [  3.35517813   7.50271526   0.71894587  -3.94013299  -7.15393775\n",
      "   17.44470367  -1.4640136   -0.48557361  -6.51583466   1.06048516\n",
      "    2.25452682   4.85419149   1.94739438  -2.71063002   7.86759448]\n",
      " [ -2.0185811    1.58368914  -1.79254089  -1.89256793  -1.03980342\n",
      "   -1.4640136   12.01508256   0.4936755    4.92725882  -2.09072678\n",
      "    2.54536231   1.51588327   6.4817204   -1.28140954  -1.90487219]\n",
      " [ -2.78665438   3.26825963  -1.59114451  -5.4632819   -7.19732115\n",
      "   -0.48557361   0.4936755   10.71303407   4.25389032  -0.06530306\n",
      "    1.20579622   3.90724606   0.42070992  -4.86305518   3.89306385]\n",
      " [  0.61501231   3.67389641  -3.05319732  -1.17667603  -4.63688419\n",
      "   -6.51583466   4.92725882   4.25389032  22.70528018  -3.71196386\n",
      "   -1.42123636  -1.22790463  -0.33880809  -4.35766257  -2.12798241]\n",
      " [ -0.09904851  -1.57545     -1.57670372   2.49329493   0.87181248\n",
      "    1.06048516  -2.09072678  -0.06530306  -3.71196386  10.88413228\n",
      "    6.47350122  -1.39276201   3.07869049  -5.11808996   0.42983038]\n",
      " [ -0.62526698   1.46444571  -1.80934183   3.64912092  -3.49738305\n",
      "    2.25452682   2.54536231   1.20579622  -1.42123636   6.47350122\n",
      "   16.67969337   1.4335367    2.05954293  -4.42228303   4.04002731]\n",
      " [ -3.10744028   4.0174603   -3.7857761   -7.37499071  -7.08742153\n",
      "    4.85419149   1.51588327   3.90724606  -1.22790463  -1.39276201\n",
      "    1.4335367   12.39180435  -4.62455516  -4.27045797   7.70520591]\n",
      " [ -0.32098343   0.68368336   6.10571311  -2.42321382  -2.68077255\n",
      "    1.94739438   6.4817204    0.42070992  -0.33880809   3.07869049\n",
      "    2.05954293  -4.62455516  18.60575148  -0.92493158  -6.83991437]\n",
      " [  1.676125    -6.38193798   3.49316277   3.79061913   6.2796297\n",
      "   -2.71063002  -1.28140954  -4.86305518  -4.35766257  -5.11808996\n",
      "   -4.42228303  -4.27045797  -0.92493158  12.94049365  -0.9476048 ]\n",
      " [ -0.71568172   7.08211671   2.61665525  -1.23431631  -9.10768467\n",
      "    7.86759448  -1.90487219   3.89306385  -2.12798241   0.42983038\n",
      "    4.04002731   7.70520591  -6.83991437  -0.9476048   23.13340415]]\n"
     ]
    }
   ],
   "source": [
    "print(A)"
   ]
  },
  {
   "cell_type": "code",
   "execution_count": null,
   "metadata": {
    "collapsed": true
   },
   "outputs": [],
   "source": []
  }
 ],
 "metadata": {
  "kernelspec": {
   "display_name": "Python 3",
   "language": "python",
   "name": "python3"
  },
  "language_info": {
   "codemirror_mode": {
    "name": "ipython",
    "version": 3
   },
   "file_extension": ".py",
   "mimetype": "text/x-python",
   "name": "python",
   "nbconvert_exporter": "python",
   "pygments_lexer": "ipython3",
   "version": "3.5.1"
  }
 },
 "nbformat": 4,
 "nbformat_minor": 0
}
