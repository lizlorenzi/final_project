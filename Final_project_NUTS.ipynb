{
 "cells": [
  {
   "cell_type": "markdown",
   "metadata": {},
   "source": [
    "# 663 Final Project: NUTS Algorithm\n",
    "## Stephanie Brown, Liz Lorenzi, Jody Wortman\n",
    "### April 6, 2016"
   ]
  },
  {
   "cell_type": "markdown",
   "metadata": {},
   "source": [
    "Abstract: Our project aims to implement and explore the No-U-Turn Sampler (NUTS), an algorithm for adaptively setting path lengths in Hamiltonian Monte Carlo. Hamiltonian Monte Carlo (HMC) is an MCMC algorithm that uses first-order gradient information to enable faster convergence by avoiding the random walk behavior and sensitivity to correlated parameters.  Specifically, NUTS uses a recursive algorithm which eliminates the need to manually tune parameters for step size and number of steps.  We implement this algorithm and compare its posterior accuracy and computational efficiency to other MCMC methods, such as Metropolis-Hastings, Gibbs samplers, and Hamiltonian MCMC. We show examples of how the tuning parameters from HMC can result in poor posterior estimations, and how the NUTS recursive tuning results in similar or better estimation without the need for manual tuning. In addition, we implement the Efficient NUTS algorithm as well as the NUTS with Dual Averaging, to explore the speed ups available for this algorithm.\n"
   ]
  },
  {
   "cell_type": "markdown",
   "metadata": {},
   "source": [
    "## Introduction"
   ]
  },
  {
   "cell_type": "markdown",
   "metadata": {},
   "source": [
    "In a growing field of Bayesian statistics and with the increasing use of Bayesian hierarchical models, valid methods for posterior estimation are critical. Because posterior distributions for some models are impossible to calculate analytically, researchers and analysts rely on Markov Chain Monte Carlo (MCMC) when tractable posteriors are unavailable. Commonly used MCMC methods are symmetric Metropolis algorithms and Gibbs samplers. Both of these methods are simple but can take so long to converge that they are not useful. While Hamiltonian Monte Carlo (HMC) addresses some of these issues via an approach that uses a set auxiliary variables, the approach necessitates user input of tuning parameters. Because performance is dependent on these parameters, HMC is not as widely used as it could be given its benefits. This issue is addressed by an algorithm called the No U-Turn Sampler (NUTS) proposed by Hoffman and Gelman \\citeyear{homan2014no}. NUTS adaptively sets these parameters so that they do not require user input. \\\\\n",
    "In this paper, we review the background of MCMC and HMC, motivating the adaptation. We then introduce NUTS and outline its advantages. We implement the algorithm in various stages of complexity and efficiency, compare it to other common MCMC methods, explore its strengths and weaknesses, and discuss its benefits to the Bayesian statistics community.\n"
   ]
  },
  {
   "cell_type": "markdown",
   "metadata": {},
   "source": [
    "### MCMC"
   ]
  },
  {
   "cell_type": "markdown",
   "metadata": {},
   "source": [
    "MCMC methods simulate from a posterior distribution through drawing correlated samples--if the algorithm is correct and appropriate, these will converge to the target distribution \\cite{neal}. These methods differ from each other--one common one is Gibbs sampling \\cite{geman}, which updates conditional distributions until they all converge. However, this approach requires deriving the conditional distributions, which may not always be possible. Another approach is random walk Metropolis \\cite{metropolis}, which uses likelihood ratios to either move to a new point in the posterior distribution or remain in the same place. Both methods may take a very long time to converge, however, as they both explore the parameter space in a stochastic, not necessarily efficient manner. \n"
   ]
  },
  {
   "cell_type": "markdown",
   "metadata": {},
   "source": [
    "### Hamiltonian Monte Carlo"
   ]
  },
  {
   "cell_type": "markdown",
   "metadata": {},
   "source": [
    "Hamiltonian Monte Carlo (HMC, also called Hybrid Monte Carlo) \\cite{duane, neal} is a method which uses auxiliary variables in the Monte Carlo proposals. The method has a physical motivation, where each of the auxiliary variables $r_d$ correspond to the momentum of each model variable $\\theta_d$. The algorithm uses direction and gradient information to update the values. Hoffman and Gelman outline a version of HMC in their paper where a leapfrog function is used to update $r$ and $\\theta$ using the leapfrog integrator. The parameter proposals are then accepted or rejected using a Metropolis algorithm \\cite{metropolis}. This method can work very well and converge faster than random walk Metropolis, but its degree of success is highly dependent on choosing both the step size $\\epsilon$ and the number of steps $L$. Poor choices have varying consequences from inaccuracy to lack of convergence, but they generally lead to a slow but ergodic chain \\cite{homan2014no}."
   ]
  },
  {
   "cell_type": "markdown",
   "metadata": {},
   "source": [
    "### NUTS Algorithm and Advantages"
   ]
  },
  {
   "cell_type": "markdown",
   "metadata": {},
   "source": [
    "Due to the issues caused by poor choices of $\\epsilon$ and $L$ (though mostly $L$), Hoffman and Gelman's paper develops a method to adaptively select these parameters. The No-U-Turn Sampler eliminates the need for select the number of steps, and NUTS with dual averaging allows $\\epsilon$ to also be adaptively set. The paper outlines the NUTS algorithm, then dual averaging. First, there is a naive approach, then an efficient version. We implement both and test their performance against each other and a standard Gibbs sampler and random walk Metropolis. "
   ]
  },
  {
   "cell_type": "markdown",
   "metadata": {},
   "source": [
    "## Implementation"
   ]
  },
  {
   "cell_type": "markdown",
   "metadata": {},
   "source": [
<<<<<<< HEAD
    "The python implementation of the NUTS algorithm involved first coding HMC then NUTS, and finally an efficient version of NUTS which will be discussed in detail in the Optimization section. Care was taken to use functions whenever possible in order to keep code readable and efficient. Notation was kept consistent with that found in the original algorithm as written by Hoffman and Gelman."
   ]
  },
  {
   "cell_type": "markdown",
   "metadata": {},
   "source": [
=======
>>>>>>> 78af9ce78064f839d766ce52f77672c6ba8ef365
    "### Hamiltonian Monte Carlo"
   ]
  },
  {
<<<<<<< HEAD
   "cell_type": "markdown",
   "metadata": {},
   "source": [
    "Hamiltonian Monte Carlo is a more basic version of our final algorithm, and therefore was where we started. HMC also served as a time comparison. "
   ]
  },
  {
   "cell_type": "code",
   "execution_count": 19,
   "metadata": {
    "collapsed": false
   },
   "outputs": [
    {
     "name": "stdout",
     "output_type": "stream",
     "text": [
      "[-1.23282899  0.61166575] [ 1.62764595]\n",
      "[-0.34226484  1.32817237  1.12372746]\n",
      "(50, 2)\n",
      "(50,)\n",
      "(2,)\n"
     ]
    }
   ],
=======
   "cell_type": "code",
   "execution_count": null,
   "metadata": {
    "collapsed": true
   },
   "outputs": [],
>>>>>>> 78af9ce78064f839d766ce52f77672c6ba8ef365
   "source": [
    "import scipy.stats as stats\n",
    "import numpy as np\n",
    "import math\n",
    "from scipy.stats import norm\n",
    "from scipy.stats import gamma\n",
    "\n",
    "n=50\n",
    "\n",
    "true_beta = np.transpose(stats.norm.rvs(loc=0,scale=1,size=2))\n",
    "true_phi = stats.gamma.rvs(a=3,scale=1/2,size=1)\n",
    "\n",
    "x = np.transpose(np.array([np.ones(n),stats.norm.rvs(loc=0,scale=1,size=n)]))\n",
    "y = np.random.normal(x.dot(true_beta), np.sqrt(1/true_phi))\n",
    "\n",
    "\n",
    "beta0 = stats.norm.rvs(loc=0,scale=1,size=2)\n",
    "phi0 = stats.gamma.rvs(a=3,scale=1/2,size=1)\n",
    "theta0 = np.hstack([beta0, phi0])\n",
    "\n",
    "#Set hyperparameters\n",
    "a = 3.0\n",
    "b= 2.0\n",
    "\n",
    "print(true_beta,true_phi)\n",
    "print(theta0)\n",
    "print(x.shape)\n",
    "print(y.shape)\n",
    "print(beta0.shape)"
   ]
  },
  {
   "cell_type": "code",
<<<<<<< HEAD
   "execution_count": 20,
=======
   "execution_count": 5,
>>>>>>> 78af9ce78064f839d766ce52f77672c6ba8ef365
   "metadata": {
    "collapsed": true
   },
   "outputs": [],
   "source": [
    "import warnings\n",
    "warnings.filterwarnings(\"ignore\")\n"
   ]
  },
  {
   "cell_type": "code",
<<<<<<< HEAD
   "execution_count": 21,
=======
   "execution_count": null,
>>>>>>> 78af9ce78064f839d766ce52f77672c6ba8ef365
   "metadata": {
    "collapsed": true
   },
   "outputs": [],
   "source": [
    "def leapfrog(y,x,theta, r, eps):\n",
    "    n = y.shape[0]\n",
    "    #gradients = np.hstack([theta[2]*(sum(np.transpose(x).dot(y))-theta[0:2]*sum(np.transpose(x).dot(x)))-theta[0:2],(.5*n+a-1)/theta[2]-b-.5*sum((y-x.dot(theta[0:2]))*(y-x.dot(theta[0:2])))])\n",
    "    gradients = np.hstack([theta[2]*(np.transpose(y).dot(x)-np.transpose(x).dot(x).dot(theta[0:2]))-.01*theta[0:2],(.5*n+a-1)/theta[2]-b-0.5*np.transpose((y-x.dot(theta[0:2]))).dot(y-x.dot(theta[0:2]))])\n",
    "    r_upd = r + eps/2 * (gradients)\n",
    "    theta_upd = theta + eps * r_upd\n",
    "    gradients = np.hstack([theta_upd[2]*(np.transpose(y).dot(x)-np.transpose(x).dot(x).dot(theta_upd[0:2]))-.01*theta_upd[0:2],(.5*n+a-1)/theta[2]-b-0.5*np.transpose((y-x.dot(theta_upd[0:2]))).dot(y-x.dot(theta_upd[0:2]))])\n",
    "    r_upd = r_upd + eps/2 * (gradients)\n",
    "    return theta_upd, r_upd"
   ]
  },
  {
   "cell_type": "code",
<<<<<<< HEAD
   "execution_count": 22,
=======
   "execution_count": null,
>>>>>>> 78af9ce78064f839d766ce52f77672c6ba8ef365
   "metadata": {
    "collapsed": true
   },
   "outputs": [],
   "source": [
    "def log_joint(y, x, theta): \n",
    "    n = y.shape[0]\n",
    "    return sum(norm.logpdf(y,loc=x.dot(theta[0:2]), scale=1/np.sqrt(theta[2])))+norm.logpdf(theta[0],loc=0,scale=1/np.sqrt(.01))+norm.logpdf(theta[1],loc=0,scale=1/np.sqrt(.01)) +gamma.logpdf(theta[2], a, scale=1/b)\n",
    " "
   ]
  },
  {
   "cell_type": "code",
<<<<<<< HEAD
   "execution_count": 23,
=======
   "execution_count": 6,
>>>>>>> 78af9ce78064f839d766ce52f77672c6ba8ef365
   "metadata": {
    "collapsed": true
   },
   "outputs": [],
   "source": [
    "def hamilt_mc(theta0, y,x, eps, L, M):\n",
    "    theta_m = np.zeros((M,3))\n",
    "    theta_m[0,:] = theta0\n",
    "    accept_b = 0\n",
    "    accept_p = 0\n",
    "    for m in range(1,M):\n",
    "        r0 = stats.norm.rvs(size=3)\n",
    "        theta_m[m,:] = theta_m[m-1,:]\n",
    "        theta_tilde = theta_m[m-1,:]\n",
    "        r_tilde = r0\n",
    "        for i in range(L):\n",
    "            theta_tilde, r_tilde = leapfrog(y,x,theta_tilde, r_tilde, eps) \n",
    "        if theta_tilde[2] < 0.0:\n",
    "            print(\"reject\")\n",
    "            theta_tilde[2] = theta_m[m-1,2]\n",
    "        alpha = min(1, np.exp(log_joint(y,x,theta_tilde)-(1/2)*r_tilde.dot(r_tilde))/np.exp(log_joint(y,x,theta_m[m-1,:])-1/2*r0.dot(r0)))\n",
    "        u = np.random.uniform()\n",
    "        if alpha > u:\n",
    "            theta_m[m,:] = theta_tilde\n",
    "            r_m =-r_tilde #confused why you save this each time since the algorithm has you repropose an r0 each iteration\n",
    "    return(theta_m)"
   ]
  },
  {
   "cell_type": "code",
<<<<<<< HEAD
   "execution_count": null,
=======
   "execution_count": 8,
>>>>>>> 78af9ce78064f839d766ce52f77672c6ba8ef365
   "metadata": {
    "collapsed": false
   },
   "outputs": [],
   "source": [
    "M = 10000\n",
<<<<<<< HEAD
    "eps = .005\n",
=======
    "eps = .001\n",
>>>>>>> 78af9ce78064f839d766ce52f77672c6ba8ef365
    "L= 10\n"
   ]
  },
  {
   "cell_type": "code",
<<<<<<< HEAD
   "execution_count": 26,
   "metadata": {
    "collapsed": false
   },
   "outputs": [
    {
     "name": "stdout",
     "output_type": "stream",
     "text": [
      "truth (array([-1.23282899,  0.61166575]), array([ 1.62764595]))\n",
      "Mean after burn in we find -1.30786049332 0.5377232827 1.8347871754\n",
      "CPU times: user 26.9 s, sys: 61.9 ms, total: 27 s\n",
      "Wall time: 27.1 s\n"
     ]
    }
   ],
   "source": [
    "%%time\n",
    "results_hmc = hamilt_mc(theta0, y,x, eps,L, M)\n",
    "print(\"truth\", (true_beta, true_phi))\n",
    "beta0_found = np.mean(results_hmc[round(M/5):(M-1),0])\n",
    "beta1_found = np.mean(results_hmc[round(M/5):(M-1),1])\n",
    "phi_found = np.mean(results_hmc[round(M/5):(M-1),2])\n",
=======
   "execution_count": null,
   "metadata": {
    "collapsed": true
   },
   "outputs": [],
   "source": [
    "%%time\n",
    "results = hamilt_mc(theta0, y,x, eps, M)\n",
    "print(\"truth\", (true_beta, true_phi))\n",
    "beta0_found = np.mean(results[round(M/5):(M-1),0])\n",
    "beta1_found = np.mean(results[round(M/5):(M-1),1])\n",
    "phi_found = np.mean(results[round(M/5):(M-1),2])\n",
>>>>>>> 78af9ce78064f839d766ce52f77672c6ba8ef365
    "print(\"Mean after burn in we find\",beta0_found,beta1_found ,phi_found)"
   ]
  },
  {
   "cell_type": "code",
<<<<<<< HEAD
   "execution_count": 29,
=======
   "execution_count": 9,
>>>>>>> 78af9ce78064f839d766ce52f77672c6ba8ef365
   "metadata": {
    "collapsed": false
   },
   "outputs": [
    {
<<<<<<< HEAD
     "data": {
      "image/png": "iVBORw0KGgoAAAANSUhEUgAAAYYAAAEKCAYAAAAW8vJGAAAABHNCSVQICAgIfAhkiAAAAAlwSFlz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\nUzV68foAAAAASUVORK5CYII=\n",
      "text/plain": [
       "<matplotlib.figure.Figure at 0x1112431d0>"
      ]
     },
     "metadata": {},
     "output_type": "display_data"
    },
    {
     "data": {
      "image/png": "iVBORw0KGgoAAAANSUhEUgAAAYQAAAEKCAYAAAASByJ7AAAABHNCSVQICAgIfAhkiAAAAAlwSFlz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\nRK5CYII=\n",
      "text/plain": [
       "<matplotlib.figure.Figure at 0x104e0b320>"
      ]
     },
     "metadata": {},
     "output_type": "display_data"
    },
    {
     "data": {
      "image/png": "iVBORw0KGgoAAAANSUhEUgAAAX0AAAEKCAYAAAD+XoUoAAAABHNCSVQICAgIfAhkiAAAAAlwSFlz\nAAALEgAACxIB0t1+/AAAIABJREFUeJzsvXt4XGd56Pv7ZiRFki+SrSSWczUxjNU4O3WT4kAwkbik\nGBpBmoONSMlB9TkV7YHeOBxweRoydO+nqC3l7JaGU5zimkvTNNA+DeayS5oiOU52YraJgThIIhcl\nwfE4jhyNZUtCo5nv/PGuT2vNzBppJM1II+n9PY8ezaz1zZpvZtZ61/u9V2OtRVEURVkZRBZ7Aoqi\nKMrCoUJfURRlBaFCX1EUZQWhQl9RFGUFoUJfURRlBaFCX1EUZQWhQl9R5ogx5mJjzCFjTNIY85ez\nfO1dxpivTrP/SWPMTfOfpaJkU7XYE1BWJsaYQeBiIAWkgaeArwL77NJJHukCXrbWNoTtNMb8A3A7\n8AtgAvgh8BFr7YA3pODntNZeU+K5Kgqgmr6yeFjg1z2BeSXQDXwC+FKhFxhjKu18vRK5WU3Hn1tr\n1wKXAS8DB8o9KUWZjkq7iJSVhQGw1o5Ya78FvA/4oDHmahBN2RjzBWPMt40xI0CbMeZdxpgfeiaV\n540xd00dzJgDxpg/8h5fYozJGGN+13u+2Rgz5D1uMsYcNMa8aowZMsb0FpygMTcaY454Yx83xrzR\nzQ34IPAJY8xZY8xbp/ug1tpx4F4gqMFfYIz5svf6nxhjrgu873MzHVNR5oIKfaVisNb+APg58ObA\n5vcD/9VauwY4DJwD7vBWCL8O/I4x5t3e2F6gzXvcCjwDOLv4TcAh7/H/DbwINCEmpk+GzccYsw74\nFvDfvbH/L/BtY8w6a+1vAf+Ip8lba/9zus9mjFkN/CZi4nG0IzeCBuAgcPd0x1CUUqBCX6k0XgLW\nB54/YK19DMBaO2GtPWStPe49fxK4DxHwIEJ/h/f4JuAvgDd5z1u9/SB+hI3Aa6y1aWvtIwXm8uvA\ngLX2Xmttxlp7H9CHCOti+X+MMWeAAWAV8FuBfYettf/u+TC+Clw7i+MqypxQoa9UGpcCZwLPXwzu\nNMZsN8b8pzHmZWPMMPAh4EIAa+2zwHljzK8gq4VvAS8ZY2JkC/2/QFYB3zPGPG2M+USBuVwCPJ+z\n7XlvjsXyl9ba9dbaS6y1t1prnwvsSwQejwK1Fei3UJYZeoIpFYMx5vWIoH04sDk3wuVe4N+AS621\njcAX8XwDHr3Ae4Fqa+1JxKTzQaAROAZgrT1vrf2YtXYz8G7go8aYt4RM6SVgU862K4ATs/90ilIZ\nqNBXFh1jzBpjzC3APwFftdZOFxGzGnjVWpsyxmxHQiKDHAI+gm+/7/GeH3ahoMaYXzfGbPb2jwCT\nQCbkvb4DvM4Y02GMiRpj3gf8ErKCKAdm5iGKMj80Tl9ZTA4aY5zAfQr4LKK5O8Li2P8v4HPGmL9F\ntPp/RrR4Ry9yY3CmnMNAXeA5wOuAvzXGXAi8Ctxtrc2L4LHWnvFuRn8D/H/A00iYqTM/zZRPMNt8\nA1vgsaKUDDNTHowx5jLgK8AG5OK8x1r7Nzlj3g38V29/CvijaZxjiqIoyiJRjNBvBpqttce8sLOj\nwHustX2BMfXW2lHv8X8B7rfW/lIZ560oiqLMgRlt+tbahLXWOcDOAT8lJ3rBCXyP1YTbRxVFUZRF\nZlY2fWPMJmAb8HjIvluBzwAXIfHNiqIoSoUxo3lnaqCYdnqQ7MgHphm3A7jLWntzSWaoKIqilIyi\nhL4xpgoJU/uutfavixj/DPD6QJSD264RCYqiKHPAWluSkN5i4/T3A08VEviBmGe8olE1uQLfYa3V\nvxL93XXXXYs+h+X0p9+nfpeV+ldKZrTpG2PehBSK+okx5gkkfviTSFlZa63dB/xvxpj/HakZPgbs\nLuksFUVRlJIwo9C3Em8fnWHMXyD1TBRFUZQKRsswLGHa2toWewrLCv0+S4d+l5VL0dE7JXkzY+xC\nvp+iKMpywBiDLZEjtyJq72zatInnn8+tYKuUkyuvvJLBwcHFnoaiKAtMRWj63l1sweah6HeuKEuJ\nUmr6atNXFEVZQajQVxRFWUGo0FcURVlBqNBXFEVZQajQL4JNmzZRX19PQ0MD69evZ8eOHXzxi19U\nR6iiKEuOigjZLERXVzcDA+N522OxWvbt21v21zuMMXz729/mLW95CyMjI/T29vL7v//7PP744+zf\nvz9vfCaTIRLR+6miKJVHRQv9gYFxenvjIXvCtpX+9UGcVr9mzRpuueUWNmzYwBvf+EY+9rGP8Zd/\n+ZfU1dXx/PPPc+jQIR544AHGx8f5kz/5E5555hkaGxvZs2cPd911FwCdnZ388i//Mn/0R3/ESy+9\nxGWXXcbdd9/N7/7u7/LMM8+wfft2hoaGGBoaorOzk8OHDxOJRLjmmmvo7c1r5aooilI0qo7Okde/\n/vVceumlPPzwwwD80z/9E3feeScjIyPs2LGD1atX89WvfpVkMsm3v/1t/u7v/o5vfvObALS2ttLT\n0wNAb28vmzdv5tChQwAcOnSIm266CYC/+qu/4vLLL2doaIiXX36ZP/uzP1v4D6ooyrJiSQr93l4w\nZua/civFl1xyCWfOSAXp97znPbzhDW8AoKamhptuuomtW7cCcM0119DR0TGlpbe2tnL48GFAhPzH\nP/5xHnnkEe+z9dLa2gpAdXU1J0+e5LnnniMajfKmN72pvB9IUZRlz5IU+q2tYO3Mf57sLBsnTpxg\n/fr1AFx++eVZ+44cOcJb3/pWLr74YhobG/niF7/IK6+8AsBVV13FqlWreOKJJ3j44Ye55ZZbuOSS\nSxgYGMgS+h//+MfZvHkzv/Zrv8ZrX/ta/vzP/7y8H0hRlGXPkhT6lcAPfvADXnrpJXbs2AGIszfI\n7bffzq233sqJEycYHh7mQx/6UFa0T2trK9/4xjdIpVJs3LiRm266iS9/+csMDw+zbds2AFatWsVn\nP/tZnnnmGb75zW/yuc99ju9///sL9yEVRVl2VLQjNxarJczpKtvL//owXPTOH/7hH3LHHXdMmXBy\nOXfuHOvWraO6upojR45w77338o53vGNq/0033cTHPvYxdu+WfjNtbW28//3v56abbpq6gXz729+m\npaWFzZs3s2bNGqqqqjQqSFGUeVHRQn82YZXleH2Q9vb2KaF79dVX87GPfYwPfehDBcd/4Qtf4KMf\n/Sgf+chHaG1t5X3vex/Dw8NT+1tbWzl37tyUKWfHjh2MjY1NPQf42c9+xkc+8hFeeeUV1q1bx4c/\n/OGs/YqiKLNFq2yuUPQ7V5Slg1bZVBRFUeaECn1FUZQVxKLY9FtaOkgk5u5MVRRFUebGggv9rq5u\nnn4a0ukDga1fXuhpKIqirEgWXOgfPDhAOj3MXOrfKIqiKPNjRpu+MeYyY8x/GmOOG2N+Yoz5/ZAx\ntxtjfuT9HTbG/JdCxxsbywCNiNCPA31zn72iKIoyK4rR9CeBj1prjxljVgNHjTHfs9YGpfWzwE3W\n2qQxZidwD/CGsIOdOzcOZAJb1LavKIqyUMyo6VtrE9baY97jc8BPgUtzxjxmrU16Tx/L3R8knQ4K\n+Q4gWWiooiiKUmJmFbJpjNkEbAMen2bY/wl8t/Du88BE4Pm52UxBCXDnnXeyZ8+egvtbWlqmqncq\niqLALBy5nmnnG8AfeBp/2Ji3AL8F7Ch8pKNAPWLPfxm4sOjJLgZr1qyZqoVz/vx5LrjgAqLRKMYY\nvvjFL/L+97+/rO9/xx13cP/993PBBRdQU1PD9ddfz913381rX/vaGV/b16f+EkVZivT09Ez13Cg1\nRZVhMMZUAd8Cvmut/esCY64F/gXYaa19psAYC28B0sBrEK3/VeChJVES4KqrruJLX/oSb3nLWwqO\nSafTRKPRkr3nHXfcwete9zo+9alPMTY2xp49ezhx4gSHDh3izjvv5MSJE6EtG2dCyzAoytJhMcow\n7AeemkbgX4EI/DsKCXyfCxGBf8B7vrrIKSw+1to8QXnnnXfS0dHB7bffTkNDA//4j//IHXfcwZ/+\n6Z9OjXnooYd4zWteM/X8xIkT3HbbbVx88cVs3ryZL3zhC0W9f11dHe9///t58sknp7aNj49zxx13\nsHbtWq699lqOHTs2te/yyy+f6silKIoCxYVsvgn4TeCtxpgnjDE/NMbsNMZ8yBjT5Q27E1gPfMEb\nc6T4t62Z28wriH/7t3/jAx/4AMlkcqpUci7ORGSt5ZZbbuGGG27g5MmTPPjgg3z2s58tqk7+yMgI\n9957L9ddd93UtgceeIAPfvCDJJNJdu7cye/93u+V5kMpirIsKSZ65xFrbdRau81a+yvW2uustf/D\nWvtFa+0+b8xvW2ubvH2/Yq3dPv1Rr0Aid04CRZoYiumPONNfmdixYwfvete7AKitnT4E9dFHH2Vk\nZIRPfOITRKNRrrrqKvbs2cN9991X8DWf+cxnWL9+PS0tLUxMTPClL31pal9raytvf/vbMcZwxx13\n8KMf/ag0H0pRlGXJItTeOQMMInb9WZh2Ktj+nNsqcTpeeOEFnn/++ak2i9ZaMpnMtH6CP/7jP+ZT\nn/pU6L7m5uapx/X19Zw/f77ouSiKUnq6uroZGBjP2x6L1Za0x8dcWQShvw5x4BokM3fpJ2fltkpc\ntWoVo6OjU89Pnjw59fjyyy8nFotx/PjxBZufoigLx8DAOL298Zyt3Rw71sfAQPb2xbgRLJKmvxa4\nwHu+/DTTbdu2cffdd7N3717Gxsb4/Oc/P7XvjW98IzU1NXzuc5/jwx/+MFVVVfz0pz9lYmIiy1Y/\nVzQiR1EqjW6gj2TyAL29ufviCz6bRain/xDwy8AriE1/ZOGnMEdyNfpCdHZ20tLSwpVXXsm73vWu\nrFj+aDTKd77zHY4cOcKmTZu4+OKL+Z3f+R1GRsK/h2LfM2z8bF+rKEop6QZ2ITIvgV9vzP/r71/4\nFf+Ct0sUx20ceBK4xnusMeMLjcbpK0p5aGuLe+adOPAUcAoxa/9b3lhjbiOT+dcZj1nKOP1FbIw+\nuXhvrSiKUib6+18IPIsA1d5fN5Dt4LU2SldX94La9RdR6Fcv3lsriqKUiURiANiJ+C4j+GHp44TZ\n8HOdu+VmkYR+LRK9U4s2U1EUZbnQ1dUNbAS2elv6kLzVyjGlLoLQjwceuyXNpxd+GoqiKCXGj89/\nGLgIv3dI8TEzheL8S8UiCv13olq+oijLCd+efxEwhAj99UhhycGijnHw4ACJRG4RxdIpxoso9FcD\ng0Sj46TTCz8LRVGUUiPtYB1RYAwR/MWL2uxjlJ4FF/rr1sGll0JTk9i8YrFavve9xzSmfIG58sor\nF3sKM1Lp6eyKEs4kMIyEaTYi/UOqkVj9jsC4NHV1hljMT8rs6uommXwG6Czb7BZc6GcyEMkxbw0O\nDgZiW7PDmhoaBtm2bdOMF3p9/TsZG7shb3td3eOMjk7TyEupWMLT2WG+ZsFy3Uz0JqUIrwDN+Hb8\nGOLQzS078xxjY2nuucdyzz2uOq9FHMEHco755ZLNbsGFfjIZ58c/Dm6JA3JhhF3MsVhLURdMTc0G\nxsbyX19T0zmHWSqVgGQrxgtsnzvlupmU67jK0qGu7jzJ5NuQpCzHXuQc6CNbmO9EbgTb8BXdY0gL\n2XjZ5riIcfrZzFcTGh11ac5h25WlyNBQeGmKQtuLpVQ3k5aWDhIJX3M7e/aEd9zjSHmRRgB6e9M0\nNnZSVxehvT2mWv8yZsuWrSQSceDNiLY/gpwTg0hl4SBrvf8DSJ8qEPPPCH70T+lZdKGfnb02HxoJ\nvzt2hGxTlgKZTPhvmsnM7zct1c3k2WeHSaXWAKu8LeuQ5bt73jI1NpmUv4MHj852usoS4tixR4hG\nO0inmxHb/prA3ly/ZQaJ6hnCP88nkWifVWSvCv65ZHNcdKFfKk91fX0tyWQHuaWaU6kMLS0d9PUV\nblKiVDI3A01ZW9LpNI2NNzM8/OCcjig3k1pyU+JTqbWzSolPpeqRJJy4t6UT6AU2IBdtPO81Y2Od\nc5mysmS4lHT6ANnK5iC555r4Lg2iKETwzxVn2z9BuUw8iy70S0st+Q4QSCQ6F3oiSgnIZNKIwM+/\nYZ87Nzdtv6urm3T6FaAHeEPO3qtnqYnnXj5nkVDkTRQbk60sL0ZHc4W7y8w9jpSV34UoBGeRkM40\n2YlbZxCrxWqyhf6yiNMX6upKU0+/ri5CMlne+FZlYYlEoqQLJHEU2j4TEl2zHgmji+ftL1YTl3T7\nVGBLB5BENLcX8EvpZqM+puVNZkoEOYtDPLD3Pfgrww587T9Yh8ydm+XrM7LoQn/LlnjoqNmyZcsV\nJBKDJTmWUhlkMuNATYG988nrmH8bCVkR5F4+673/TluL571uvv4IZSlTl/P8PHKeOAWmGwn3bKKc\nLBvzTixWy+HDmt27nKiqGieVKkc11jTz1cTHxlYhF62LBMogTrgqJPoifN65OSrK8kFMh04AjePX\n3XHUBx5PIgLfkB3hczESwvkgy8imH596VF3dRyy2rSRH3bdvLwcO7CSdjuft0yX10qS+vplkcnTm\ngXNifpq42G5HkLafcWS5Xo2YfIKrkPwa6m1t8RkTtjTRa+nxta89CEwgDv1axG4f5Ap8JcEgNv1X\n8KO+QDJ5nQkyP9igFCyqpt/UlC7pCZzJTCJf6qqs7alU3YI3KlDmjwjWU4SlpEejp+Z0TAkRXkWh\ni6lYTTyVSgOXAO6m5LS6JP7yPI5obwcCr8Prkxqf9via6LX0mJi4iOxgknjIKBcWfAaJ5e9DVp59\nSACAe91tZNffX0BHrjHmMuArSBxaBrjHWvs3OWO2AP8AXAd80lr7uWLePJk8N+sJT8fq1ZeRTG6i\nEhoVKPOjq6ubVGoCWe5uytt/0UWzc3R1dXVz8OBRTp0aRrSxcLtpU1N96PZ8DKK59QW2TQAXIqn0\nLmQzPqt5giR99fdPhO4rXV6LUmrEtHMe/zc/jlNYqqvP09QEiYSLyrnZG3Ma0eqTSACAe320bPMs\nRtOfBD5qrT1mjFkNHDXGfM9aGzzbh4DfA26d+XDxqUcTE6V1ap09O1zS4ymLx9e+1gs0IBdDfnZi\nImGLzr/o6urmwIGjpFJbkQsrQ9iNBCQgoJjjiYCv9Y7VDZz0njtb/tyN988+C76dN5tTp16c83GV\nhSCYt+Fz441xenriNDZ2kkyCKB1uXCeyYswEXp9/jFIxo9C31iYQrxfW2nPGmJ8ClxJQcay1rwCv\nGGNumfkt41OPMpmh2c53hrkWivRQlhoTEw3IsreB+eZfDAyMk0o5k98Iuea/2SI3pAl8E9E4knKP\nd+xXA6NnX/JBwv7Whb7O2t1525SlSG3INhcY0ImcUy0hY+bPrGz6xphNiGv58bm/ZXzqkbW/MffD\nFORhwmzAR46ohrQUcGYYCYLYSng2o5CfCDMdw8gFZRAtvI/882SURKKwhu6cq2NjLrU+DrQii+Fr\n8c/tPfgrgChhwlszc5cH7pw4cuRh/Cqa8ZxRTxKL/WrgeTfwNH72bQpZIa7Br8HTTbbpsHQULfQ9\n0843gD+w1s7DGB8PPD4z98MUZD1hWuHY2K4yvJdSag4ePEoisQrfQVqYTJG5eEeOPI5kOE4gcf8u\nimJT3thksrAGLh2NRhGbvQvN2+A9D9raY0i1xHGyw/R86uoK31zS6QwS1REP2ftKwdcpC4843PsQ\nc81JwgX1qakgEkkiHQfejv/77vJeG/QzvQH4D6ANeLmkcy5K6BtjqhCB/1Vr7QPze8t44PFThQbN\nierqs6RSqwvsrZzGxEph/Ph38EPW5peVK5r5GUTwn0FWD8XXxunq6mb//m+RTl+IaHMuXDOOhOWd\nR1YSweMNe++zKXRO0/sOLGLWyp8flGN1rMwV37Fej1i9D+SNiUZ932V7e4z77+/zAk4ca5AVaFCL\nafP+AN4L/LQ0E6Z4TX8/8JS19q+LGFt0qqQxpRXEEtddKKpDO3MtBaQ8cRPwC6QO+R6kvngYs/lN\nVyNL6CbEVnqs6FcODIyTTtd575dASuI2I0K5ExH6uQ68XWQnb2VTyKbf0tKBaH0bC8xm2eRTLguk\nMuswcl6FLz1ramZakl4B/IhCzns5fukoJmTzTcBvAj8xxjyBqCGfBK4ErLV2nzFmA/C/kFtWxhjz\nB8DVM5mB1q6dn0Mtl+bmcc8znp8QA2is/hLAWpeocgIRqAlEmw6L9DpR5FEnyc6Q3cvs29Gt8/4n\nETNRBD/qIte8A9nO4nje0QrZ9KU+/wXeMfU8rnQymSh+ctWm0DHbt1899fjgwaMkk6mQUVUUct77\ntv/SUEz0ziPMEDRqrT0FXF7cW8anHpWq2Jqjr+8+jNlFdlKDj8bqLxXOk71U7iCs0mZw2Twd0WiN\nZye3yA0kjpwj+UL13LnxAkI1hQj6JsTG+prAvtylOd7YDIVCN8Ns+l1d3Zw7N46Ep9YCR/GrNDq2\nak3+iqS4oIKhIQiP3CnOj1UKFnyt2NrqP47Fri/DOyTIt68K822zpywEGUTA5hanymd2dWwmEDPR\nhci58U7y29dBOl1IOahC/AHrkYQx97o9+FmWQa5Agtw2hM4mzKYvUUtB/Upr8lc6kcgw6fQaJMlq\nmNwVqTHjxGJ+CW9ZGbhIsk5v6zhyIyhk7i6tGXzBhX5PT7ysx6+rq2FsLHyZpBfLUiCDmDfCb9xB\n6uvDNKYwTiLCdw3iFI7j173P1/aPHRsM0fZdRyPIXvi6SKBgJiaIE3dDznY/ycy1UAQxS/b13ec5\nscFLi8G1W1Qql8nJNYhCcSV+uKXPhg17QlaNzWQrG93Iqi68N25d3TnGxkoyXWAZeoW2b38zvb2D\niz0NZc5UIWGJF5Md954vnEdHC5lihJaWDp59dph0uhox66xBtPI+fCdwL3BD1uuSyU187Wu9U8dN\nJPoQQR/mOK5FzD0byb5g4/hRQn3euNUEzVTif4Jk8j2B140jNX1c2KdSaQSL4VmbQswy4SvT8M6A\nuWZt1zg9v8BaQ8Mgu3e3cs89/2Necw6y7IS+llhe2hhzCmsvxtfIQbT/fD9NKjW9n+bZZ/F62I4g\nAn8VvoN1HNG8czsUCWNjviBOJtOIAxdv/AWBkXsJt+fWAs8hN4uLkYihQrZ4ySQfHT2PrEou8Y67\nM3RuWjV2cfGL4XUj2vlaCoUVy2/qE4mQY8ILkq+8bNsWZ9++vdxzzx/PY8bZLDuhv2/fXg4e3EMi\n5LqYLiFGqQzWrn2NV075Onxheh54hNn6aVKpDL6gP5Cz1x2rkHYggrirq5vTp6OIYxngRcTGGpzL\nceTG8l4aGvw8Eenk5kxCA97/whE5Yu99LXKDiCM3qnje2PBIJqXcOA3/2LFBb8tR/E5X4U7YVCp7\nddjUlCaRCEu8Ow7cSmtrdqn5WKxYE2bxLDuhLwTjXf1Sy0ND52lrk+1al3zxCasZL9ErlnytpxV4\njFw7dyIxEWrikaJoFkl3v6TADIbyjpeLxOjXIlE4o0jo51rChHFrazzLZ2XMbu91wRpTA4TZfg8e\n3EM6PYnc4Nxn2RM6p+IrgSqlRLLFtyIruJ1IwIHLon2VsHPCmFeznre3X8899/wwdGw02lF2nycs\nW6Ef1JDi3l83qdS4V8scjh3rY2Bg5mYWSvkIrxm/i/AklYvJrk3ic/BgvnD0wxo3El4KwVXIhOm0\nb8EVv4oHxsvjhoZBtm3bBEynlVnE2RcFXiLsgj916hlv//rA1vCs3WIqgSqlRxztcWTVuQbfoe9C\neeN5r4lEsldl+/btZf/+jkU1Py9LoS/9ct0zlzSTbRNOJotrZqGUj/Da8C4uPZ6zfReFMh7DnGXZ\n5RzCzHp78W3sM+V1pAkvpHWc3buvL6g0RKMR7+J2q4kzFMoitnY9+S0WZ1+hUykfZ8++iPwewb62\nZ5CIrHApHolUnnNxWQp9qXjXiYS+rZl+sLJohEc21GLMQ1jbyZo1fiy+RLrMtq9tAtHAptOMXS2e\n6UgT5mSD24pYJdbi33xcD938/gDhl6LG6VcS1jptfhfye1mkGcpRCt3M6+vzqw5IbH88dPtCsCyF\n/tiYq7TpStw6io3JVhaPvaxd24e1B3j+eWj0lGTJtJ5tX1vX1CRcS/fPjZmyKUdD37e6evoMSonU\ncAL/DJLFe55wx/IexElM4L3CM9Y1IGEx6c557uTGLsJj7PN/Q6kRlj+2vr5znnMrjmUp9P277ktI\nSNVOJI72l8n9YZJJLc+wWBSqhz86Ok5VFVRnWTvmkpXYiJwLYTf03USj1aTTb572CBKjPzmH94ar\nroJnnx3xwkbX44dthgnzEWRVErxBxUPGqU1/MRD/zhDQg1gPLOLIdVyPrzw8SWvrNUB41YHm5nHC\naj/J9vKzTIU+yB15LRJX7TrPK5VFbtatRFqlUhOkUnHe+U7RlmOxWow57dm9g8jKLZ1OT0VlgYxP\nJl3JhJ8TJjyj0TNEIuu8yJye0DH9/cfZsmUr/f19ofsLrzAE18qxpmaXF7q3F6mjnvs5QIRIhuwM\n3sFpj68sHBJl5n43V9LDEB6xk5w2CqeYFp/lZFkKfXGgDSAOPIsI/J9TqDGFOsYWnq6ubiYnw5xc\nB6YePfyw/O/v38OGDZtJJE6SX+pAxruoLCGOmGQmgMsI+8137IiTSPSRSPSRTF4QOiaZ3M2RI09R\nqGhasbV/pCH2Ge891iHhfW/zjrsOMf1YRKi4jGEo5LhWFothRIn8BaJQhp83uRE7lcayFPqCs7c6\ns8BlhNt21TG2GAwMjGOtay93FLFzhzvDxsYy7N7dwv79ozkOsHjoeLmJr0OW3IVbzmVr4vn7x8eH\nvFLP4Y15io2Xb2+/nr//++9i7SByPq5DwkjPA1cjN6/zwNdzXtkBvA1jLsJaiHqL1SNHMuqHWhQa\nkd+vGfG/RAgX+gvjkJ0ry1Lo19ScZmzMIndjbZZeuawCvoVEshxguhr302Va5yLhmqOIOcWPqReO\n09q6NSumXjJh87HWIjei+cXLO+E8MDDOo48eJ5WaRGoBuSSvOGLayqUFaMFamb+L7R4bUz/UQiMr\nPhcGHEERERCqAAAgAElEQVQqyYcL/aam8KS6SmFZCv0PfOBm7rnnKH7s7Ank7lx8bXOlvEjf2klk\niexq2UzfAN3Pv3BRWA8TdtGdPXsW/9TO1YZ359lbw9sudpPds3R+OMHf1hant/cxNJR4aTExEZQR\nVyCrs6WZPLcshb4UKNqFaHsj+DHRS/NHWo5MTDR4j1ziU2GyG6C7MrRfR8wfQfOQYG2a2Z3awcgg\nd0M5hqwSz5Bd+9yRJBa7gbkRdpMJKyU9SKFuTMrCksmcRnwuryK/S4Qwc3F1dR+x2DYqmWUp9IUh\nJHW/DT95QjMcKwsn/FzS1RDT2Ujld3IF1LoRR+04+f1pb0OqVea2mbNUV4fZh4ICdxBZGTr77Xrg\n/pDX7J6TTT0Wq6W3dx3ZN5oXCL8UtZpmpRCJXEQ63YLIEBd6G/QXnae5eQ3t7dsq3teyjIW+i3ne\ni1z8pyhUH6NQYSulfEQiaa/EbBo/6WpX6NimJmcKWYPftGQcWck9hpjugris11x2MzERtn092bXM\nJxGNbh2FbkTGDOVtK4Z9+/Zy4EAHqdTLga0jiLN4MGf0GlTTryRqEQXBKRo+1dWPcfJkriO+MlnG\nQj8YCRJBsiHVdl8p1Nev8kornMfX+HM1dmHLlrj339n0hxEBWY84Q93v2g086D3OP05uxUNHdfVZ\nUinXOnEP0lIRsrtlZbNhQ/j2YqivryWZvBApHx0nPEMXqqt3kUotTRPC8iRYrykbXzGpfJat0K+r\ng7Exl/nmhErxBbuUhWIC32EaVoDNL8zmm+HWIRrwYURLdr/zq0jZhfA69NbmmnsESYvf5D0bxk/k\newW/81WQMdrb31joAxXJEDOVf5Ab40PkOpRTqQz33/9QxZsRlhcuxye8HpJTTJYCy1bob99+daBs\n7zuZLiO3UDkApXw0N49z9uwQ1rpyw7soZEpJJk8CBHrInvX+r8Nf0R1AbPnBCoi5hJdyqKuLkEwe\n9+bgzpNJpHFKfvZkNNoxL4Er77cev/DadEpHE7CN3BtEMvmUxuovEFKC4UJcifbgORqN9rFjR0tZ\nmp2Ui2Ur9LNpRVLt1+JHZ/jNVVKpNBs37mHLliu0vv4C0dd3nxe+CGKXh+y+uD6Tk8EMx1PI6mAQ\nEdDj+CWJ3ek8UeBdw7e3t8fYv/+Y56g7jNxMoFzlctvbY15DjibkphLuUxJlZAj4LmKeDFLP1772\noJ6rC4A00gm27/S56KL0gjQ+KSUzCn1jzGXAV4ANiEpyj7X2b0LG/Q2iUp8HOq21i9rVWe688ann\n/f1rvFR4Z7uNZ+1PJPDsxf42CO/u5I6vF9zc6erqpr//OJHICJnMasRMszZ0rAvZFA15AyLoXYRN\nDRKp04mvyf+C8KqYvwg9vjhXd5JODyICP4U47cIzbudrv3XnTWNjp+fXyC0vIWQyJ5EbIYTZ/MfG\nwh3fSmk5fPgwhcp5LCWzjqMYTX8S+Ki19pgxZjVw1BjzPWvtlKHTGPNOYLO19nXGmBuAvwPeUJ4p\nF0eYQJZ0+02BLS7O2+fw4XFaWjqmUvT9FmnZ9PcXanKtFMPAwDiJhIt26KSYU1EcuX2I9utMPS4t\n3oXRZbzn8bzXT1+6thHxExxH9JYRxImb+5qztLdvn3GuxSB9AOIUas4eifSRTmcoZPaSHIKVzUIo\nZem08yEtD2a80qy1CbyAYWvtOWPMTxFjZ9C79R5kNYC19nFjTIMxZoO19lQZ5jwPRsgOixsm996U\nTsOzzz429XxoaCT0SIW2K+Umjdi504jD1jleBxAhuJpCGvp0TE6eRMw/FokA2kNYa8bm5j0lEyZ+\nwbnw0s2plGuxuJ5woa+afnjLTShtRzyXoJdPePe3ymZWNn1jzCbEq/R4zq5L8TtAgKy9L0UMsBVD\ndpTGCxTTlCOTcUXBsrWJVGqtOtJKTlhWqp+cJYlNr+KHVMaA/0B+xwwi8CeYS/MRazcgAv9l/K5r\nQV/CGK2tv0IsFiv608yEFHOrpfBlWIWYqrR+1GIhTlwXnhsPGbH0lL+ihb5n2vkG8AfW2nNzfcN4\nPD71uK2tjba2trkeatb4URpx5MeavsZ+V1c36fTLyKKmhWzBfzX3398HqOCfC9kaUgQR1uG2cmdD\nl6bSx7wa+OeRuOlj+Ca6XyBa/vWEdcpqb89vaJHNMGJDP5C3p7l5T8kddsZYrB2gUHVRgIaGdSST\n4TcxpfyI6cgC17CQNv2enh56enrKcuyihL4xpgoR+F+11j4QMuQEUnbOcZm3LY+g0F9oxCb8AvLj\n7aSQ49AhP3gTYs/Lb56tXbfmztBQsNVgDIng2U5+7PqTtLf/6tQz6S8avDnUI1p+ErHljxPWKWum\nMEvpwdCE3NzzKUd9prVrV5FMjlBohWPMq9TVWZLJ2UUjrSREechvg/roo30lXIkXvimXi1yF+NOf\n/nTJjl2spr8feMpa+9cF9n8T+DDwz8aYNwDDlWfPd1yBnCT1+A6y7EbV6fQkNTU7SaXOIlYqmClx\nSJkZ53Tr7z9OKvUqvqA7jp9klY0xyZALdxXye8QRgT+OnMrnmesFmskMAQ0U6qcb1vauNExQyMxY\nVbWLLVu2kkiE25Orq9XsI761fIUslSqlQra8bq7FhGy+CfhN4CfGmCeQtc4ngSsBa63dZ639jjHm\nXcaYp5Er77fKOem5EovVcuxYn2fXD14wF5GbhJNK7cF3sD1MIdPDqVOV3TChkvCdbnvIzmyMIya0\neN5r8rsQNSLa+NPAU8jp+HWkE9Xl+MXbco8z/e8UiTR5sdhhmuGuspjwxNzoMojz8UNDo8jKtDGw\nN0NVlVG/Ul5wRjkoXYntSqCY6J1HKKLBrLX2IyWZURmRRhy7SCZ7EUHvoiJ2IkLjosDoNBKzncbP\nmswP8bQ2mhXiqRTD3MteNDXVk0jsxRfOLkNyDb7fJZ73uunDNaGmJsPYWHD1ESS8Zs98aW+PeX0f\nYiHvG/RBtHDs2CDJ5IGsEUu9mUopwi2zgzOyzTzHjg3S1hafV/imrORjSDhwZ2DPKM3Nq0vq2F8o\nVkhGrk92Kr/L0J1ElnBBgT6KaJE13r6M95qb8o7Z33+ofBNeRpTCFOYXXXO4i3mX9zg8u3WmRjlS\ntiOsAqc4XMuB9H14G+E1eM5kCSo/e3n5MJtwy0I3CMladsEZgwSd8Mmk650c9h7F4sxH2bk6zc3H\nOXkyP6R3KbDihL4sqcGvzui63GfIjtroQLT8IWRZncQv15x78jXpMrsIhoZeQi7AceS7jXt7Bpkp\nXLN4crVm1x6xGI3s8tA5rF3bOcs5zIbiYvCPHHmYsHaSR468mLdtudHV1c399/flrXRAHPS+qTBe\n8vc+ffplgg16srcvTVac0D99+hkkLK8ev+Xeego7AB9E6vG7WN2j5N71YSsHD2qG7kxIzkMcEV65\nIbCN5Npmo9FxrrqqkeJwpRiyiUZfpqenkuucFzrvsrePjUFYVujY2NIU+l1d3Rw7NljU2IGB8YAJ\nJxvpyxBBVuzFHW82pNPhIbzp9NJNjFtxQj+d3oDUVjmF9GZ1pht34rgbAUiyD0hGXiNyIUYJ0yiG\nhnIdjkoucoGC+PqDAv88sIrq6vPceKN/Qw2zxebWVHL098dIJPKX2zt25I8NIxar5dFHE6RS+ePr\n6soXJ19XN8LYWNh75ib9LK+s3OkEeS6HDn0PqCM8wumMV4J6nOVUKqGcrDihL1Qh9eNcvZaXEe3f\nOQE7kSgQV7hrNXJjiFIofEtS5pXpiQb+D2btaWiA5ubojAlQhUxoYvPNf22xJW/dccMdi+UK14QP\nfKC1wHu2lu09lxrWXkqhOvaTkzupmQrEc+Wxs80xjz56Psv8utKLKK5AoW/xq0TsBd6L3AAs/klj\n8It4jSPO3HrErl9NWBQPaBTPTPgNzlsIS3Tbti1722woxcW6GBd88e+5sJFFC0P+qq2hYZBYzE+Q\nkzIIQbIjdFKptV7G8nHkur0675i5MfsHDw6Ergr7+8OCAAo58cvj3F8IVpzQj0ajpNPvRtL3QU6U\nCGITjiLJW+6kCkaGjCPa/2XIyXog79iJROeK1yIK0dh4M+n0auBm/Hr1SvGsYzmZd44ceQppF5nN\n2bPZpjT/WnLRV+PI9XcU0egj+FnZM9PV1c2pUy8SbqJ9KeQVhaK+lm7r1RUn9IW9yMUS957X4tct\ndyfdz8k+Me7znh+nUALQ6GiCgwfPaynmEM6da0JWSpZCWpJmN0/H8tI4JyZc5Fw8a7u1hXIPgmUw\n3LV0IPD6QbL9ROEx+0eOPO4Vust/j2ChRXCrjBNkF94TotGwG8TSYMUJ/dWrhzh3roN02iA/vNOU\ntiIZnvVIjL5rjwbZJ8gwhbSuTKaDsbFawsI6T5+OLtuwzuJXNxuQm2l4rp/2Ki5MXV2EsbEws6JZ\nkmZFqaE0OOM4XxEIxuKvwle8BhEH7nkk3yYsZr+bZHKTF7NfTyFTmZTi8JFzup3ca7mhYZDdu2+Z\nce6VyooT+sPDDwK+4+/QoZe9srq1+EvEk0hkT9x7fhxx7o7jLynDkWSRfA0mnV7a2ZPTMTsbaWHT\njvYqLowkj32f/LaJqxgYeG4xpjQvsjNpCyOKwAlEYYgjyXcZJAO7Dz+wYit+C9Q40sRvB3Jdr0NK\ndYCEX4crbdbuznouN5z887qurnQ9FRaDFSf0He5Ha2uD3t4+5ARysdGXEl54K45UgwwvdJXJDHl2\n68qjq6ubgwePBjKShbq6CO3tsXmdxKdOhdcUd9ulRHUGCZNdTaFELNmuFGY9Yb4ka99KW1s8b3ul\n+pG6uro5d242N/hfCzweRlbia4DTSGDFIKLtv4qEV8eR86wBCRrINRsWZyortPJc6ivSFSv0HRLS\nJ9ECvb0/QgTTdD1Qm5GTLgwXy++WmNn094dXS1wIpD3hVkpdHrqrqxtb4Bqy1ky9t1xQG5Bl+Fza\nGa5spIFMocvVeKYLV61U6kb19lr27+8gEpGaRfO9uZcKv9H4zNdJXd15rweGMwkm8ZWzJiRa5xHg\nGe95I35TPyecg20lLYXMi9XVM5YYWxaseKEfvAgikZuxtgnRJsJMOK55B4TFA1t7EhFo4T1Px8Y6\n5z/hkpBtGz58eJzGxk6am8dnbRs+eHBgmr3Bu8FLwCXIhRie7DQ6qs1CCiF1egpF6rjErTi+ieMA\nIGbFdBoSicoxL4rZJIEUMoyHjPDNgsmkAe4PjFuPlEaZRGphDSJCfDNiVj2PJF+6HseQvTKfpHBV\n0+w2m4XMjUvdDLnihX6QtWsvJZl8DjlJTpPvtU9jDFi7BjmpNgX2HUf8AMElZjZnz1ZKynx2yGk6\njVePqHPWR5KlbvjnzdawXodckBb57sLGL73Wc4tPN75d+wVE4G8irLHIsWODFRFMIA10LqWYhjVj\nY668eXBV4Eodr0eUs0bvfxpR2BoRu/0Z4AnEBOQ4B4xR6PwLBiWkUqdDx01ODuVtW0qo0M+jBjlp\n8uu1NDeLBpJIXIFoGPHA3jgS/RNBtNngPiHXUbQ45AuD+SBaz1rCL6LfCDxOIKug8xRqGqLmnWJw\nv5/T6McRZQN8s+MLSIhjPOuVldLpzU/SCzfvHD78HzQ2DnrPkoExzmxjEOXK9UYGEfDV3rZJRLS5\nmlpBpcQ1m8/n9OmXOXDgKKmUu/Y7QueX3+NhaaFCP4DYD12Br3jIiBHa26/nwIEeUql0zphBZNnZ\ngGis+eYfSFWApuUqXOYzW/NKV1c3qdTMTi1ZzjciGqhLrMlnpvLHKx1jzmBtH358uvv7UWDUkPe3\nVJyN8cBjuaGl0xsDFTWd4N2FnLeTiHCPIqtG1y2tBkn2+iEi1ia8/a8gq4q4d3wX/RR8X0cfqVQw\nJLZUlV8rCxX6Adrbr/eaWuQ7PEGaIO/bt9cr85pr0ojj26pdBM+mvGMsVjXORKKP6uphUqk6RDMM\navyiNaZSsHHjnqnl9UzRH/JZDL7tPncVEaWtLR6obOryF/JL1UJ5+tAuJzZsWE8iEYxPB9Hq3WWc\nQcwaESq5+JjE6K8lX/kI1r7Kxa1qXJ2sZsSmfy2yAsggSZe3Iudknfe6S/Edv64o22ARs+xmua5I\nVegHEGdZsSaYCwpsz40XzmaxnLnNzS3099cCR7wtA/gxyHHcXBMJAk1K4tMeU8I/X8TvOJafnyBR\nJT9GNDN3A5n+uEo47e3Xs3//MdLpOL6zM4NopLvwfSiVGTbskBj9F/EdrbmEmR8TiCDfiBRCBDEr\ngnwHLuGqBlnprMc34zgf0qB3bLcKylZS0ulf4PMghXJK1JG7zIhGI17538JMTLh4c/BPnEFE432B\n2TbnXrh6PUeRn/wk2a0hw+ieSl2ffk4G0dgK1TPvRi6+YGSEnwNRXd3HjTe2TB1bKYysMjs9p/so\n8t0GTXJOiEapxLBhh5hRCwl818muA7mZucibRuQ8u8/bN4qsaPrwzTpxb9964Hr8+lo3kN1kZdD7\n7xQfdw2fQ66PbsRZfJZwBUXNO8sK6ZU605gNjI25i81pt67T1gizrYcym7Zxc0Xs6iOIdvQaZN7B\nG1Yu4ySTB0Ja9OXOaT1y0fURblIYxy9k5/BvGjfeGJ+xnLJSiHHkN23wnruKm86BGc97RTK5uMEE\nrmpmQ8MqrzomyHl4FBGmzhyTRkIrnZYe1MTuQ1Y2LcjNzZl38Ma5VWWHt70P6YO9Fonrd74j9xp3\nDd+MrBJ6vPcOV96qqman1FUaKvRz+MAHrvMyVzuzttfVRXJa7hmytdsW/MzAQSoNCa1cg2gvLvLB\n+S9eIN/xXOwS9lX8CqS5uO8nQ3iG8/Gy1qpfjsgqcxcinNLI71iL/A6G7PDF/EitsTG7qMEEkiR4\nvTevR/DNLlsR4TyKnEsbEM3bJfJ1As+THzyxChimrm6EiQlXU8utKu/zXrfJe+4yc11LzdzAhQYk\nWqge+S5d6Ydsamo6i/24FYkK/RyKuRikz+6ryEkajDgZ97bl2of8i290dHzKZJJtKlmIuGqDCP4o\nvkYUR+qRrEYuhgcR088vQo/gCmB1dXVz9uwwsgyOIxdXbvTNOH4Ia9hneO+ix4wvNcbHL8AvDuhW\nlBHvz8WvJ5HfOd/HApUQtunmtQf//DuOnJM1iLafIfs6ipBdBDHILkZHHwLCGsi7a7IFMWu6Xtgd\n+KGcg8j1526ayxsV+nNgy5YrSCReRGyCGwJ7XPllF5bYiWgta5GsQmnoICdlN8eO9TEwEOfRR48T\nFjFUyrhq3w9hvfm9iAgJl9yTQS6Qy5GLojP0OK7uyMDAONaO4Ce+/Mw7tothdg3lITvW2seY5Nw/\n0ArF2nNkrySHkd/TXcrBKq+PE/a9HznyeDmnWARBjftGJBrHnSsnkPNoFXK+bvK2X4Efp59NNOrH\n3cditfT3B1fqtZw7N+756RoCxxvHV1ji3nNntnHtUZcnMwp9Y8yXgFuAU9baa0P2NyLekM1Iqtse\na+1TpZ5o5fEgssyOIoIz6CDbi6+5v4jU8+lEbgDnEW1mPcnk170bQCfldrz5fogk8rO7E/xBsqMo\niovVF42/GtGediMlFpyjDbIrlIYnw1RVrYxaJ6VlPSK4DuHXmtmE9HWuxi8x8CqF+upOTCx2cpGz\npe8lO2cjgQhmd24GfWO1iCIRzztaMG4+bOUo2r+7jpyZsRqJ4Y8D30euyQZvbha5ZsOVlXL2TF4I\nitH0/wH4PPCVAvs/CTxhrb3NGLMFuBt4e4nmV5G45twisJ/HN5WAf1IdRyIImpCl6QFkOTvqjX8Z\nX5s+ga91ZFPaEM+09z5BDbsJP8kF/ISU8O5CsmKAoSFX2Mv91MfJPp0eR1ZBr1JoWb7U450XlyZ8\nP8owfsSKc6g/QbF14xeeMKHpVsS/QMKhXdhl0BcUHjff1BRWwjuXVYiPwN0UduHfFI8j12Pae28X\n7pnf1hMkX2cpM6PQt9YeNsZcOc2Qq4HPeGP7jTGbjDEXWWtPl2qSlYbTJozZhbRPXIMUFIsHRkXx\nbdqOYJbkRvz6N3HK7fyVMLkRJPZ4gze30/havkGW3U67Ci+GNTm5k/r6t5FKrSO7LnluVMga5Mbh\nLlyldDyFnF8bkfPrPuT7dyvMPkR4RQgvB/IbedsWCqkWmhv94vILJhGN+2r8lXNQc4+HHnOmpL5Y\nrJZHHz1PKpX7vu7ajCKi8CyyAnDlv10fjSBnicW2T/t+lU4pbPo/Am4DHjHGbEeMb5chEmWZcwYR\nai4yJh7Y1+n9D64CCvEC8BxhdvSzZ0vTIEOqFTo7pXOuOoGfQC62CL4gz58LQCbTyNjYMDPnIljk\nxpFGNLt43oilvkxeHCbxC9O52PUge5Hvuo/CceZnyzS3cFweSn//cS+hLzebfT1+vRyndETJLyXh\nr6JbW/2WpDPld+zbt5eDB/eQSLyQ877OBxVUflbhl/8+kHeshobOJR98UAqh3w38tTHmh8BPkHVl\nwfSmeDw+9bitrY22trYSTGGxCArNtTn7nP3eIEvVXchJlkK0sGAywCiFG2SURiuTnqQtSBOYeiS2\n/luItrgZ0cpf9J7jPe7MO04mM44Im6CjFuSz5ZoT0t62deSvZJK0t98w58+zUqmrq2JsrBFRMp7H\nT7K7jmw/CvirrNzw2/ULGrbpd1aLB+YT9/buwhf49YG51lKoF3V19cisczvEHBlUVM4gNvxV+CbO\nrUxXG2oh6enpoaenpyzHnrfQtxLCMWVUM8Y8BzxbaHxQ6C99JhABHqz253BamAt9dLVDHMEa38MU\nbtxSXWD77PB7kjZ689iLZCxOIjendWSfDtWEJVtZ+2NEM3K+CsfL3jHcRe0KY7mLKRtjHl7yGtNi\n8IEPXOfVh7oCURaclpv7Xe5GvvvFD9uUiC/nPM6QXSbihPf/UmSuzqzyMoXEU1PTdE2OwkmlINsn\n0Ood3ylmjr34vrfOnKOM0ty8MEUBcxXiT3/60yU7drFC31BgPW+MaQBGrbUpY8xvA71W4sqWPc3N\nTSQSo4gQzM2AnEAE+zlEGG5CklGCRbEcYTeN0tHV1U0m04ho+rkZuKeQG9Iask1R4U4zKZfsTFrB\ni/ctiJnKCRln4w9Pt9+woVAavjIdfjMVJ+zDhZAxr2LtOvJbBQp+w/Hy4cw60hqxFpnrKNnZ2S1I\n8N9ufOXHlTb2c1eyy3XMPqHPmGGsDa5MNyNmMoNcq0HlKkZQQWtoGGTbtk0V235ythQTsnkv0AY0\nGWNeAO5CpJm11u4Dfgn4sjEmg9yi/4/yTbeykHj9R5ATtZpsIflO5CS+EFm2utjo9d72MYqx+0ej\n89cspD1dLb422O3NNYMI/DcgIX/rya6RE4Y7ZVzbuk7v+TjZTTFOIfHXhSuWKvPBaaQuu9SnurqP\nq65qor9/gkJRWKdOlb+hj19epNPb4ur9ByNyRrz9GcSOnh8xE4320dm5bV4CVxofXR84dsZ7/gPk\nvA82/Ml+n23bllepkGKid26fYf9jwJaSzWjJ8SCipeQKSxch47gA0Yyj3t8l+Jr3UxSKQS5PeJ07\nqTvwzUoXIReCEyKF3DLBCoZBs81gzriLEZvsCPkdyMaIxd44h3krQgIRlM5Ml42rZ7Rx4x4SiSrC\nI3jKX4PHX02cx6/7FCE8O/utiDjK37d6dSmcp7nHjnvPd+Gbyh4j+1zNUFcHsdh183zvykIzcudB\ndrx+boTKONldeqoDjy9BTjJnCtlJoVLMEhhVCsbJt1Gm8TXxTrJvUq620Dh+qWiQC9dpZfHA+OBj\nkM/aTFgHsmi0Y1kskxeL6upmUqkDzFSQr709xj33fK/AuFdKPq9cXPa2rGzXIVFDuQEPgjFRqqqG\nSaXiefvKE+XlVhtn8M/v5sD+JL/92zcsy/NUhf48cCdEJHIbkqwcD+zdgwjVVfh285P4FSeDNvzC\njqkNG+afDn7kyFO4MhBBjHkzkUjUS1E/jzjPwK9i6G5K7g/ytXaHi3o4g5+pfI4wgVNTo+UX5kNT\nEyQScXLjyKurz3PjjVunQhjF/n+UQvVqFo6gnyh8RQtw441vCK02WwpTYHX12dAbityM8hUT2LUs\nBT6o0C8JkUiNZzOPB7a65hYj+EJ9I7ANiaF2CShx/GbW+ZSim9TYWCp0u7UXsmfPNgYG4vT3w+nT\nG0mng3b5QfKFfAa5cJtytrsL5DayzT7xvPfdvj1/m1I8W7Zs9YR+NgtZpnp2PSCa8e35Y4TV0IlE\nxqZWzmHHnC9NTZeEfmfwttD3NGZp18yfDhX6JUDCIcNKETfhC3m3RA1mTbokmxfxL4py4GqS528P\nXqBdXd1eK8gORDuLIKuTjYHXuJoup8jOwrVUV0fJZM56oaGbSvkBlADlFI7F4sfeZ9Pf75dEkCzw\nOP65P4Tkbd6X97rS2O0LI0EXYXvCy58s9ebn06FCvwSEaxHdSMSOy5A8hDg3wRf8P/eeX055hWR4\n4a3c0gn79u1lYCBOb++gN5/jiEM6WHhqHWGmomi0g4mJ+2hs7CSZdBFH+cKpoWGQWKwl9+XKLJiN\ncDQmjbX5ZbthfnX1fXv9dNvX4Gv1Iyxms/ZCN8rDh8947SezWc4mSBX6JSBci9hLNNoRaL0YJbtG\n/V78Fm9xREBmNzKJRsfp769fhKYXryKRRa7MhLt4T1Kob2gmMwHA6GgCP1M3f87btsWXra20Elm7\ndi3JpGuWE+Qar7H9fMi/mZw7Nx44X10XuQRi4lm83r2FzjmpwBnP276cTZAq9MuImH3iiG38QfI1\njQjSos1pz/GsMem0NClfyOxJKYhVjQjsx5Eonkkk6qKOQnV0qqrEPJVKrcGv6Z49LhrtIxbbVq6p\nKyE0N497dZfiefvmU8FVmoPnZ/um08HzdQ3izH/tnN9HKT0q9EtAoaVjItFIczP0959nbKyT0dEE\nmUwHkQjU19eSTP4csZdf7b2i9DX1pSdpeBessO1+xif4mppLKHOt+fLn6JdJNoiPIp+amtOq5S8w\nfThBJuoAABQRSURBVH3O5Fba42aKsNSIqccVUJs+7LKubmHKG+RSCf6RhUaFfgmYqyCT0sxBwRse\nq+80stlFTAiyhB8mrHhaXd1M1TLW4WcqViE22WIqZq4hrHjc+PitM7yfslTwazmF09LSQTI5iV+9\nxdWnD/fztLcvjp9nJSohKvQXFYNk6roLYZzp7KSS1u5s636bxt5ey9///S5isSh9fdmREUNDUaQu\nTjzv3QvbLYOlb4P19mHmsgquJno+1oZvV8qL+FniBbbPjaamNSQS4dp7f/8LDA2lEfGSJrs+kPp5\nFhsV+otIdXWEVCqNfyHsRBymB7LGZdtJa4HX5I2xFhKJzqnn7iaRSs0lYsKFsTnH8jOII27mY0Wj\nNaTThcxJ4fkCSrkpVDxv7mGJkiswGLpvaOglUqm1yArzHKLlpwlrSlJdfX5OBdSUuaNCfxERu35Q\nWzoPPE2YKebw4ee46KLNRR/bL3Y1+ws7GnVhbE5Iu8YXzkkbz3nFk8Rivwq4ZX95y0Qrs6OqKhma\njVpVNXdDv9TVCTf1TU6mkJh810THFRTMj8+/8UbV8hcaFfqLTtCU0oyYUQ7kjUqndzM09BK+M7VY\nTsw8JIc9e97OwMA4x441eg5Al1E5RH68t5TxdReuLPtn/ZZKGamp2cDYWDxke+c8jjqCn1yYjZR0\nNvg9me9jpjpBysKhQn8RkXC6YOLUe5muDaEsmQs2JcviyJHHveM2I1nB8ZwRxwsuq50A7+rq5sCB\no6RSUfzSC7nHyc5elGX/I6HjjHm1qLkrlY9v3ol7W4K+KHcOr8HPBp++TpCycKjQX0QknO5mzp0T\noZlOz9R31rWVm5mJiQZkRWAJL2U7c0Ep2S++gUcfHSaVsqHjIgE/XSxWy6FDq7A2njeutrb85XyV\nfPIduVJVMpk8S1ubv332TUKCtfoHkVWlq8mUQgR+eETaQtYJUrJRob/IDA8/OPXYmN0UrkI4hDER\nrB1HHKpvI7cr1blzk1PZkFKHv49CP3F19UzN2gUnBCRzcTB0TH19bdZ4KeWQP2779qvzNyoLQNCR\n240I4gMAOb9TnGIRm35w5RdHNH1XoTWC33M2+7haimNxUaFfcRTS9sew9lKyK3LGCS6r02m4//4+\nBgbiWDuG1C8vTZhkLFbLo48miqp3vhITXiqbYfxIrHHERBjPGzWbJEBJvAqGYj6M5HXc7L1Pod69\nGqK52KjQryDq6oYYGwsLr+tGGkdDdmajq9Z5YGpLMgm9vd1Ipu8Z8ksgC8VkVAYRDX68qHrnekFX\nGq4/chy/10E8b9RsyjJIBU2noHQj55mr1fQKUr9JqURU6FcQ27e/OcSE0o00J0kg/XYv8La/gDRj\n2RRyJOdQa0LMRZ15I2pqTs96fqrBL00kNBjkXHJ14uN542aTrCWO3IfxbyInkaCBk8jq8jVoee3K\nRIV+BRGL1XL48DjpdDAS4jGk/24zkuhyFrlwL0CEfhjBZfqbKVUjE9XglzKPI1nc65CAgHjeiFRq\ntq05g3H4LkP8QkSsbELt+ZXJ4lQ5UkLZt28vq1e7toOORny7/AZk+Zz2th0nuyF5N3KRuebrhTJj\nlZWEFDNbjX+5F9L1ZqsDZhD7/SrEFzXhHcMl8WXndFRX97F7d4sqD4uMavoVRl1dhGTSOcIeRIS8\ni7SJIBfYMGIztfj1950Z6OtIvH8Vek9XwPV7eBIR0hY5f+JkN7wHSNHWFi8qdDOR6CMajZBOB/sn\n1CEKyRWEOXA1+7YyUKFfYbS3x9i//xjp9ADSUQvEpBNBLqZBxFY/gdwMxhGb/Vmk5n03fgRQFeFl\nEwonZinLD+mRMInE1TchJp5agqGbDgnhjM94zObmFvr7QTrCuYTB4hIHlcVlRlXQGPMlY8wpY8yP\nC+xfa4z5pjHmmDHmJ8aYzpLPcgXhm3heQgT6OHAa/4JyP1kU0dpakAt3rbd9HLHZ3ododGFlE4ZV\n41pByG9djQj8SWSV2EdpHK1NSBKWUzQMvqIR/NutDv8KoRhN/x+AzwNfKbD/w8Bxa+27jTEXAv3G\nmK9ZaydLNcmVyQQSebMGP/xyELlQXd/R3Jh+F87pCptdSpjWtnZtZwnnqSwdJhAloIHSmP6cEG9E\nFJPqwHtkU1c3oopGhTCj0LfWHjbGXDndEEQy4f0fUoE/PyYmTiEa1DBS6CyFmHpa8AW+i4kOMozc\nGFxWb/7Fp6xU3PnyC0RZeIbsMgo+MyVptbR08PTTIKvJ3ch5tx4xFyXwz9FJmpvXsmXLFcRiraX4\nEEoJKIVN/2+BbxpjXkJCBN5XgmOucNYg99J1SCtFtxSXWjjisL0cCJbGHfdetwm5UcSBPaFHX6zW\ndMriUV293qud5EIrNyChwPG8scEkrbBubU8/Dem0C7t81TvO1/OOY8ytnDy5f95zV0pLKYT+O4An\nrLVvNcZsBh40xlxrrQ3txRePx6cet7W10dbWVoIpLC8mJyOIDX+I7JBM8AX/MUR7c1rVMCL0XwBO\nIc7dBNn19Mdobf0VYrFYuaauVChXXRWlvz/oFxpCTDH5TEyMTj0Oz8LuxLfbFzYVaae0udPT00NP\nT09Zjm2sDa+cmDVIzDsHrbXXhuz7FvAZa+0j3vOHgE9Ya/9XyFhbzPutdKR3Lojgb0Q0d5dG79iF\nONBSSJLMK0hiTBLR4g7kHbe1VSsbrmQikVas3YCsHo8jSsOb88YZ8zCZzEMAbNy4i0Ria86I4/ia\n/W5E239TyHEeIZN5MG+7MnuMMVhrZyrDWxTFavqGwpXAngfeDjxijNkAxIBnSzC3FYzBL6P8PKJN\nhYVeOldKC/6KoBZNf1fCWLv2NV6nNmezD++PYK1fAntsLKw0cnD16MyP+ccJ9llQKocZhb4x5l6g\nDWgyxrwA3IWkg1pr7T7gvwEHAiGdH7fWninTfFcQScQ5djm+PT+b5uZdnD4d9Vob7kHqnqgPXQlH\nEv9cY/tdM4yejuLOsYi6jiqSYqJ3bp9h/0nErq+UCGNexdrLEefseQolWLW3X8+BAz2k07uQC3Ej\n4aYggKeIxa4r67yVykYyc925NIGYB13J5SATU30ZwnE+I5BzNDz+PthnQakcirLpl+zN1KZfFDU1\nO0ml1iBmnghhDaWj0Q4mJ++jqqrDi6R4DCnKNj7teGXlEozEOXy4j3Q6g5hn4nljW1ulHIO0ywxG\n5nQgvia3rRspFyLF16JRKRkSicBVV0l3OGX+LIZNX1lAmpouIZHYj2hhxRS+fwFx+G4CQhOnyWTC\nIzWUlUNQc29p6aC/f3oFbGBgnFQq14mbW0htL870qIrF0kCFfgXS3h5jYCBOfz8kEuFC39lLIxE8\njQ2ySypnU1VVXHtEZWXQ13cf9fW7GRs7TqEErS1btgKPkO24PY3kj+STyWjtnaWACv0KJKiRSchc\nPG9MU1Pa+19PIjGC1OLJtc361NcX3qesTLZvv5re3nChPzTkHL2XIj4ip93ntkn0iURUsVgKqNCv\ncKRDUTxku9s2gh9NEfGe54/P7WOrKIIrs5zN5OSw1/zcddM64P3vQLT9zrzXzKUbm7LwqNCvcGZu\nUeiycKsQTX9r6PjcPraKIiWXw3oyS6z+0NBLyPk1GtiToZTd2JSFR4V+hTNTZUIJw3sBidzZtBBT\nUpYJ+/btZf/+DtIhpvhoNIIIfNcRy6EBAUsdFfrLgnX4FThdUxWfaHScRPE9r5UVRDp9gjBTTTp9\ngtWrN5NMjuKX6u6mUEy+snRQob8sMPiF2PrIrbuTTkNzc3zBZ6UsBZoJq9PkZ+xOIELfnVtJJEqs\nM2u0MWeJxbaXa5JKCVGhvyxw8dZ7KabVnaL4FMr3cdsbgZ/jl/cOT/6rqurQJilLBK2OscQRh67G\nRytzo7o6XARUV0e8vgvn8ZWKwmSKySFUKgLV9Jc4+/bt5eDBPWqzV+ZEfX0tyWT49oaGUYaGRkil\n1iHCf5BCIZ6RyHBZ56mUDhX6ywCXwQtw7Nhg6EWsKLOlubmF/v44UjO/Him0Fh7iWV/fuYAzU+aD\nCv1lQNCWKkW14nlj/Lh+RfFpbh5ndHQn6XQjmYyU9TAGJiYyXnIWSFG2Q0gIp55HSx2tsqkoK5y2\ntnhIS0Sort7lVdiMAw8DaxE9MbcIGzQ3H+fkyfw+uUppKGWVTXXkKooSSiYTrKWzHhH414eMlN4O\nytJAzTuKouRwM9BEOu2KrAVNOmFhmbs0XHMJoZq+oig5rENi8ccR0844xYRtKksDtekrygpHync7\nO73ryTCMROo4O/1uYAgptpbLw1j7UHknucLRzlmKopSMZPJc4NkqJCa/iWyzTgqx68fzXl9dPZ8m\n68pCo0JfUVY4k5Or8YV5HNH202Rbf28AeggT+k1NZZycUnJU6CvKCmdychh4G9LcfAyo8fZcERjl\nHLXjNDQMsm3bpqk9sZhG7iwlVOgrygrH2nVI97X7ENv9z5E2iWENfI6ze/f1Gq2zhJlR6BtjvgTc\nApyy1l4bsv9jwG8i7v1q4JeAC621WoxDUZYMThRYJAkLNDxzeTJj9I4xZgdwDvhKmNDPGXsL8IfW\n2rcX2K/RO4pSYRiz23t0HfAg4rBNAJtDRj+DtQ8v1NQUjwWN3rHWHjbGXFnk8d4P/NP8pqQoykJi\nzBCiix1FBP713uMDeWOrqzsWcmpKGSiZTd8YUwfsBD5cqmMqilJ+qqouIpVKAyNIUbW9yKUcDxmt\nVtulTikdue3A4Zls+fF4fOpxW1sbbW1tJZyCoiizpampnkTiDBKmmUBaIYY35mlqWrNwE1vB9PT0\n0NPTU5ZjF5WR65l3Dk5n0zfG/Ctwv7U2v5eaP0Zt+opSYUiVzWNIqKZFsnDjhGn6ra1xenrytyvl\nZTGqbBoKN9PEGNMAtAIPlGJSiqIsNI2Bx3GkS5ayHCkmZPNeoA1oMsa8ANyFpxJYa/d5w24F/t1a\nO1auiSqKUm6GEEfuIFJkTVmOFBO9c3sRY74MfLkkM1IUZUGJxWp59NEEqdR6/AJr3fjmneO0tm6d\nGqssbbTKpqIonl3/x8C/5u0z5jYymfztysKhnbMURSkposFHQ/dVVdWEbleWJir0FUVh3769NDSs\nCt1XX68mneWECn1FUZQVhFbZVBQFgLq68yST8dDtyvJBhb6iKABs2bKVRCIesj1/m7J0UaGvKArg\nnLnxAtuV5YKGbCqKolQ4GrKpKIqizAkV+oqiKCsIFfqKoigrCBX6iqIoKwgV+oqiKCsIFfqKoigr\nCBX6iqIoKwgV+oqiKCsIFfqKoigrCBX6iqIoK4iFr71jSpJJrCiKosyBhRf6WntHURRldpRQWVbz\njqIoygpChb6iKMoKYkahb4z5kjHmlDHmx9OMaTPGPGGMedIY8/3STlFRFEUpFcVo+v8AvKPQTmNM\nA3A3cIu19hpgV4nmpsxAT0/PYk9hWaHfZ+nQ77JymVHoW2sPA69OM+R24F+stSe88a+UaG7KDOiF\nVVr0+ywd+l1WLqWw6ceA9caY7xtjfmCMuaMEx1QURVHKQClCNquA64C3AquA/2mM+Z/W2qdLcGxF\nURSlhBTVI9cYcyVw0Fp7bci+TwC11tpPe8//HviutfZfQsZqkL6iKMocKFWP3GI1feP9hfEA8Hlj\nTBS4ALgB+FzYwFJNWlEURZkbMwp9Y8y9QBvQZIx5AbgLqAGstXaftbbPGPPvwI+BNLDPWvtUGees\nKIqizJGizDuKoijK8mDBMnKNMTuNMX3GmAHPD6DMgDFm0BjzIy/x7Yi3bZ0x5nvGmH5jzL97eRJu\n/B8bY35mjPmpMebXFm/mlUFYYuFcvj9jzHXGmB975+5/X+jPUSkU+D7vMsb83BjzQ+9vZ2Cffp8F\nMMZcZoz5T2PMcWPMT4wxv+9tL//5aa0t+x9yc3kauBKoBo4BLQvx3kv5D3gWWJez7c+Bj3uPPwF0\ne4+vBp5ATHabvO/bLPZnWOTvbwewDfjxfL4/4HHg9d7j7wDvWOzPVkHf513AR0PG/pJ+n9N+l83A\nNu/xaqAfaFmI83OhNP3twM+stc9ba1PAfcB7Fui9lzKG/NXYe4Ave4+/DNzqPX43cJ+1dtJaOwj8\nDPneVyw2PLFwVt+fMaYZWGOt/YE37iuB16woCnyfEB7k8R70+yyItTZhrT3mPT7H/9/O3bNGEYVR\nHP8fkBRqoRbZIvElkg8gCjbBNoilVSpfwE4hbfwQFmlsFAsFKwu1VD+AKGggYop06qoxlWWqx+I+\ni2MMmwxhZzbM+cGwO5cddvfsnWdn5u5dWAOmaaB/NlX0p4CvlfVv2WbDBfA6J73dyrZeRGxA6TjA\nZLZvz7iPM97JZM38pij9dcB99393JK1Ieli5HOE890jSGcoZ1Fvq79+18/S/bI63uYg4D1wBbku6\nRPkiqPJI/P44v/25D5yNiHPAT+Bey6/nQJF0FHgGLOYR/8j376aKfh84VVmfzjYbIiJ+5O0m8Jxy\nuWZDUg8gT+1+5cP7wMnK5s54Z3Xzc65DRMRm5MVk4AF/Lyk6z11IOkQp+E8i4kU2j7x/NlX03wOz\nkk5LmgAWgJcNPfeBJOlwHgUg6QgwD6xScruRD7tOmRxHti9ImpA0A8wC7xp90eNp+8TCWvnlKfZv\nSRclCbhW2aaL/skzC9PAVeBT3neeu3sEfI6I5Urb6Ptng6PVlykj1OvAUtuj5+O+ADOUXzl9pBT7\npWw/AbzJLF8Bxyrb3KWM6q8B822/h7YX4CnwHdgCvgA3geN18wMu5GewDiy3/b7GLM/HlImZK5Sz\n0Z7z3FOWc5TJrIN9/EPWyNr7d908PTnLzKxDPJBrZtYhLvpmZh3iom9m1iEu+mZmHeKib2bWIS76\nZmYd4qJvZtYhLvpmZh3yB29hmnL6ONfHAAAAAElFTkSuQmCC\n",
      "text/plain": [
       "<matplotlib.figure.Figure at 0x1113edeb8>"
      ]
     },
     "metadata": {},
     "output_type": "display_data"
=======
     "ename": "NameError",
     "evalue": "name 'results' is not defined",
     "output_type": "error",
     "traceback": [
      "\u001b[0;31m---------------------------------------------------------------------------\u001b[0m",
      "\u001b[0;31mNameError\u001b[0m                                 Traceback (most recent call last)",
      "\u001b[0;32m<ipython-input-9-5dfd950918de>\u001b[0m in \u001b[0;36m<module>\u001b[0;34m()\u001b[0m\n\u001b[1;32m      1\u001b[0m \u001b[0;32mimport\u001b[0m \u001b[0mmatplotlib\u001b[0m\u001b[0;34m.\u001b[0m\u001b[0mpyplot\u001b[0m \u001b[0;32mas\u001b[0m \u001b[0mplt\u001b[0m\u001b[0;34m\u001b[0m\u001b[0m\n\u001b[1;32m      2\u001b[0m \u001b[0mget_ipython\u001b[0m\u001b[0;34m(\u001b[0m\u001b[0;34m)\u001b[0m\u001b[0;34m.\u001b[0m\u001b[0mmagic\u001b[0m\u001b[0;34m(\u001b[0m\u001b[0;34m'matplotlib inline'\u001b[0m\u001b[0;34m)\u001b[0m\u001b[0;34m\u001b[0m\u001b[0m\n\u001b[0;32m----> 3\u001b[0;31m \u001b[0mbeta0s\u001b[0m \u001b[0;34m=\u001b[0m \u001b[0mresults\u001b[0m\u001b[0;34m[\u001b[0m\u001b[0mround\u001b[0m\u001b[0;34m(\u001b[0m\u001b[0;36m4\u001b[0m\u001b[0;34m*\u001b[0m\u001b[0mM\u001b[0m\u001b[0;34m/\u001b[0m\u001b[0;36m5\u001b[0m\u001b[0;34m)\u001b[0m\u001b[0;34m:\u001b[0m\u001b[0;34m(\u001b[0m\u001b[0mM\u001b[0m\u001b[0;34m-\u001b[0m\u001b[0;36m1\u001b[0m\u001b[0;34m)\u001b[0m\u001b[0;34m,\u001b[0m\u001b[0;36m0\u001b[0m\u001b[0;34m]\u001b[0m\u001b[0;34m\u001b[0m\u001b[0m\n\u001b[0m\u001b[1;32m      4\u001b[0m \u001b[0mbeta1s\u001b[0m \u001b[0;34m=\u001b[0m \u001b[0mresults\u001b[0m\u001b[0;34m[\u001b[0m\u001b[0mround\u001b[0m\u001b[0;34m(\u001b[0m\u001b[0;36m4\u001b[0m\u001b[0;34m*\u001b[0m\u001b[0mM\u001b[0m\u001b[0;34m/\u001b[0m\u001b[0;36m5\u001b[0m\u001b[0;34m)\u001b[0m\u001b[0;34m:\u001b[0m\u001b[0;34m(\u001b[0m\u001b[0mM\u001b[0m\u001b[0;34m-\u001b[0m\u001b[0;36m1\u001b[0m\u001b[0;34m)\u001b[0m\u001b[0;34m,\u001b[0m\u001b[0;36m1\u001b[0m\u001b[0;34m]\u001b[0m\u001b[0;34m\u001b[0m\u001b[0m\n\u001b[1;32m      5\u001b[0m \u001b[0mphis\u001b[0m \u001b[0;34m=\u001b[0m \u001b[0mresults\u001b[0m\u001b[0;34m[\u001b[0m\u001b[0mround\u001b[0m\u001b[0;34m(\u001b[0m\u001b[0;36m4\u001b[0m\u001b[0;34m*\u001b[0m\u001b[0mM\u001b[0m\u001b[0;34m/\u001b[0m\u001b[0;36m5\u001b[0m\u001b[0;34m)\u001b[0m\u001b[0;34m:\u001b[0m\u001b[0;34m(\u001b[0m\u001b[0mM\u001b[0m\u001b[0;34m-\u001b[0m\u001b[0;36m1\u001b[0m\u001b[0;34m)\u001b[0m\u001b[0;34m,\u001b[0m\u001b[0;36m2\u001b[0m\u001b[0;34m]\u001b[0m\u001b[0;34m\u001b[0m\u001b[0m\n",
      "\u001b[0;31mNameError\u001b[0m: name 'results' is not defined"
     ]
>>>>>>> 78af9ce78064f839d766ce52f77672c6ba8ef365
    }
   ],
   "source": [
    "import matplotlib.pyplot as plt\n",
    "%matplotlib inline\n",
<<<<<<< HEAD
    "beta0s = results_hmc[round(4*M/5):(M-1),0]\n",
    "beta1s = results_hmc[round(4*M/5):(M-1),1]\n",
    "phis = results_hmc[round(4*M/5):(M-1),2]\n",
    "\n",
=======
    "beta0s = results[round(4*M/5):(M-1),0]\n",
    "beta1s = results[round(4*M/5):(M-1),1]\n",
    "phis = results[round(4*M/5):(M-1),2]\n",
    "\n",
    "y_sim = stats.norm.rvs(loc=x.dot(betas_found),scale=1/np.sqrt(phi_found))\n",
    "#y_sim = stats.norm.rvs(loc=x*beta_found,scale=phi_found)\n",
>>>>>>> 78af9ce78064f839d766ce52f77672c6ba8ef365
    "\n",
    "fig1 = plt.figure()\n",
    "plt.plot(beta0s, c='b', marker=\"s\", label='Draws')\n",
    "plt.axhline(true_beta[0], c=\"r\", label=\"True Beta0\")\n",
    "plt.title(\"Draws of Beta_0\")\n",
    "plt.legend(loc='lower left')\n",
    "plt.show()\n",
    "fig1.savefig('beta0s_hmc.png')\n",
    "\n",
    "fig2 = plt.figure()\n",
    "plt.plot(beta1s, c='b', marker=\"s\", label='Draws')\n",
    "plt.axhline(true_beta[1], c=\"r\", label=\"True Beta1\")\n",
    "plt.title(\"Draws of Beta_1\")\n",
    "plt.legend(loc='upper left')\n",
    "plt.show()\n",
    "fig2.savefig('beta1s_hmc.png')\n",
    "\n",
    "fig3 = plt.figure()\n",
    "plt.plot(phis, c='b', marker=\"s\", label='Draws')\n",
    "plt.axhline(true_phi, c=\"r\", label=\"True Phi\")\n",
    "plt.title(\"Draws of Phi\")\n",
    "plt.legend(loc='upper left')\n",
    "plt.show()\n",
    "fig3.savefig('phis_hmc.png')\n"
   ]
  },
  {
   "cell_type": "markdown",
   "metadata": {},
   "source": [
    "### No U-Turn Sampler"
   ]
  },
  {
<<<<<<< HEAD
   "cell_type": "markdown",
   "metadata": {},
   "source": [
    "The Naive NUTS algorithm improves upon HMC and no longer requires the user to specifity the L parameter. Specification of epsilon is still needed."
   ]
  },
  {
   "cell_type": "code",
   "execution_count": 30,
=======
   "cell_type": "code",
   "execution_count": 10,
>>>>>>> 78af9ce78064f839d766ce52f77672c6ba8ef365
   "metadata": {
    "collapsed": true
   },
   "outputs": [],
   "source": [
<<<<<<< HEAD
    "def BuildTree_nuts(y,x,theta, r, u, v, j, eps):\n",
=======
    "def BuildTree(y,x,theta, r, u, v, j, eps):\n",
>>>>>>> 78af9ce78064f839d766ce52f77672c6ba8ef365
    "    triangle_max = 1000 #recommend value pg 1359\n",
    "    if(j==0):\n",
    "        #base case, take one leapfrog step in direction v\n",
    "        theta_prime,r_prime = leapfrog(y,x,theta,r,v*eps)\n",
    "        if(np.linalg.norm(u) < np.exp(log_joint(y,x,theta_prime)-(1/2)*r_prime.dot(r_prime))):\n",
    "            C_theta_prime = theta_prime\n",
    "            C_r_prime = r_prime\n",
    "        else:\n",
    "            C_theta_prime = np.array([])\n",
    "            C_r_prime = np.array([])\n",
    "        if(log_joint(y,x,theta_prime)-(1/2)*r_prime.dot(r_prime) > u-triangle_max):\n",
    "            s_prime = 1\n",
    "        else:\n",
    "            s_prime = 0\n",
    "        return theta_prime,r_prime,theta_prime,r_prime,C_theta_prime,C_r_prime,s_prime    \n",
    "    else:\n",
    "        #recursion-build the left and right subtrees\n",
<<<<<<< HEAD
    "        theta_minus,r_minus,theta_plus,r_plus,C_theta_prime,C_r_prime,s_prime = BuildTree_nuts(y,x,theta,r,u,v,j-1,eps)\n",
    "        if(v == -1):\n",
    "            theta_minus,r_minus,dash1,dash2,C_theta_primep,C_r_primep,s_primep = BuildTree_nuts(y,x,theta_minus,r_minus,u,v,j-1,eps)\n",
    "        else:\n",
    "            dash1,dash2,theta_plus,r_plus,C_theta_primep,C_r_primep,s_primep = BuildTree_nuts(y,x,theta_plus,r_plus,u,v,j-1,eps)\n",
=======
    "        theta_minus,r_minus,theta_plus,r_plus,C_theta_prime,C_r_prime,s_prime = BuildTree(y,x,theta,r,u,v,j-1,eps)\n",
    "        if(v == -1):\n",
    "            theta_minus,r_minus,dash1,dash2,C_theta_primep,C_r_primep,s_primep = BuildTree(y,x,theta_minus,r_minus,u,v,j-1,eps)\n",
    "        else:\n",
    "            dash1,dash2,theta_plus,r_plus,C_theta_primep,C_r_primep,s_primep = BuildTree(y,x,theta_plus,r_plus,u,v,j-1,eps)\n",
>>>>>>> 78af9ce78064f839d766ce52f77672c6ba8ef365
    "        if((theta_plus-theta_minus).dot(r_minus) > 0 and (theta_plus-theta_minus).dot(r_plus) > 0):  \n",
    "            s_prime = s_prime*s_primep  \n",
    "        else:\n",
    "            s_prime = 0  \n",
    "        C_theta_prime = np.hstack([C_theta_prime,C_theta_primep])\n",
    "        C_r_prime = np.hstack([C_r_prime,C_r_primep])\n",
    "        return theta_minus,r_minus,theta_plus,r_plus,C_theta_prime,C_r_prime,s_prime"
   ]
  },
  {
   "cell_type": "code",
<<<<<<< HEAD
   "execution_count": 31,
=======
   "execution_count": 11,
>>>>>>> 78af9ce78064f839d766ce52f77672c6ba8ef365
   "metadata": {
    "collapsed": true
   },
   "outputs": [],
   "source": [
    "#@jit\n",
    "def nuts(theta0, y,x, eps, M):\n",
    "    theta_m = np.zeros((M,3))\n",
    "    theta_m[0,:] = theta0\n",
    "    for m in range(1,M):\n",
    "        #print('M: ',m,' Theta: ',theta_m[m-1,:])\n",
    "        r0 = stats.norm.rvs(size=3)\n",
    "        u = np.random.uniform(low=0,high=np.exp(log_joint(y,x,theta_m[m-1,:])-(1/2)*r0.dot(r0)))\n",
    "        theta_minus = theta_m[m-1,:]\n",
    "        theta_plus = theta_m[m-1,:]\n",
    "        r_minus = r0\n",
    "        r_plus = r0\n",
    "        j=0\n",
    "        C_theta = theta_m[m-1,:]\n",
    "        C_r = r0\n",
    "        s=1\n",
    "        while(s==1):\n",
    "            v_j = np.random.choice([-1,1])\n",
    "            if(v_j==-1):\n",
<<<<<<< HEAD
    "                theta_minus,r_minus,dash1,dash2,C_theta_prime,C_r_prime,s_prime = BuildTree_nuts(y,x,theta_minus,r_minus,u,v_j,j,eps)\n",
    "            else:\n",
    "                dash1,dash2,theta_plus,r_plus,C_theta_prime,C_r_prime,s_prime = BuildTree_nuts(y,x,theta_plus,r_plus,u,v_j,j,eps)\n",
=======
    "                theta_minus,r_minus,dash1,dash2,C_theta_prime,C_r_prime,s_prime = BuildTree(y,x,theta_minus,r_minus,u,v_j,j,eps)\n",
    "            else:\n",
    "                dash1,dash2,theta_plus,r_plus,C_theta_prime,C_r_prime,s_prime = BuildTree(y,x,theta_plus,r_plus,u,v_j,j,eps)\n",
>>>>>>> 78af9ce78064f839d766ce52f77672c6ba8ef365
    "            if(s_prime == 1):\n",
    "                C_theta = np.hstack([C_theta,C_theta_prime])\n",
    "                C_r = np.hstack([C_r,C_r_prime]) \n",
    "            if((theta_plus-theta_minus).dot(r_minus) >= 0 and (theta_plus-theta_minus).dot(r_plus) >= 0):\n",
    "                s = s_prime\n",
    "            else:\n",
    "                s = 0\n",
    "            j = j+1     \n",
    "        index = np.random.randint(len(C_theta))\n",
    "        if(index%3 ==1):\n",
    "            index = index-1   \n",
    "        if(index%3 ==2):\n",
    "            index = index-2    \n",
    "        theta_m[m,:] = [C_theta[index],C_theta[index+1],C_theta[index+2]] \n",
    "    return(theta_m)"
   ]
  },
  {
   "cell_type": "code",
<<<<<<< HEAD
   "execution_count": 32,
=======
   "execution_count": 12,
>>>>>>> 78af9ce78064f839d766ce52f77672c6ba8ef365
   "metadata": {
    "collapsed": true
   },
   "outputs": [],
   "source": [
    "M = 500\n",
    "eps = .003"
   ]
  },
  {
   "cell_type": "code",
<<<<<<< HEAD
   "execution_count": null,
   "metadata": {
    "collapsed": false
   },
   "outputs": [],
   "source": [
    "%%time\n",
    "results_nuts = nuts(theta0, y,x, eps, M)\n",
    "print(\"truth\", (true_beta, true_phi))\n",
    "beta0_found = np.mean(results_nuts[round(4*M/5):(M-1),0])\n",
    "beta1_found = np.mean(results_nuts[round(4*M/5):(M-1),1])\n",
    "phi_found = np.mean(results_nuts[round(4*M/5):(M-1),2])\n",
=======
   "execution_count": 13,
   "metadata": {
    "collapsed": false
   },
   "outputs": [
    {
     "ename": "NameError",
     "evalue": "name 'theta0' is not defined",
     "output_type": "error",
     "traceback": [
      "\u001b[0;31m---------------------------------------------------------------------------\u001b[0m",
      "\u001b[0;31mNameError\u001b[0m                                 Traceback (most recent call last)",
      "\u001b[0;32m<ipython-input-13-5bec75d9a8e0>\u001b[0m in \u001b[0;36m<module>\u001b[0;34m()\u001b[0m\n\u001b[0;32m----> 1\u001b[0;31m \u001b[0mget_ipython\u001b[0m\u001b[0;34m(\u001b[0m\u001b[0;34m)\u001b[0m\u001b[0;34m.\u001b[0m\u001b[0mrun_cell_magic\u001b[0m\u001b[0;34m(\u001b[0m\u001b[0;34m'time'\u001b[0m\u001b[0;34m,\u001b[0m \u001b[0;34m''\u001b[0m\u001b[0;34m,\u001b[0m \u001b[0;34m'results = hamilt_mc(theta0, y,x, eps, M)\\nprint(\"truth\", (true_beta, true_phi))\\nbeta0_found = np.mean(results[round(4*M/5):(M-1),0])\\nbeta1_found = np.mean(results[round(4*M/5):(M-1),1])\\nphi_found = np.mean(results[round(4*M/5):(M-1),2])\\nprint(\"Mean after burn in we find\",beta0_found,beta1_found ,phi_found)'\u001b[0m\u001b[0;34m)\u001b[0m\u001b[0;34m\u001b[0m\u001b[0m\n\u001b[0m",
      "\u001b[0;32m/Users/elorenzi/anaconda3/lib/python3.5/site-packages/IPython/core/interactiveshell.py\u001b[0m in \u001b[0;36mrun_cell_magic\u001b[0;34m(self, magic_name, line, cell)\u001b[0m\n\u001b[1;32m   2291\u001b[0m             \u001b[0mmagic_arg_s\u001b[0m \u001b[0;34m=\u001b[0m \u001b[0mself\u001b[0m\u001b[0;34m.\u001b[0m\u001b[0mvar_expand\u001b[0m\u001b[0;34m(\u001b[0m\u001b[0mline\u001b[0m\u001b[0;34m,\u001b[0m \u001b[0mstack_depth\u001b[0m\u001b[0;34m)\u001b[0m\u001b[0;34m\u001b[0m\u001b[0m\n\u001b[1;32m   2292\u001b[0m             \u001b[0;32mwith\u001b[0m \u001b[0mself\u001b[0m\u001b[0;34m.\u001b[0m\u001b[0mbuiltin_trap\u001b[0m\u001b[0;34m:\u001b[0m\u001b[0;34m\u001b[0m\u001b[0m\n\u001b[0;32m-> 2293\u001b[0;31m                 \u001b[0mresult\u001b[0m \u001b[0;34m=\u001b[0m \u001b[0mfn\u001b[0m\u001b[0;34m(\u001b[0m\u001b[0mmagic_arg_s\u001b[0m\u001b[0;34m,\u001b[0m \u001b[0mcell\u001b[0m\u001b[0;34m)\u001b[0m\u001b[0;34m\u001b[0m\u001b[0m\n\u001b[0m\u001b[1;32m   2294\u001b[0m             \u001b[0;32mreturn\u001b[0m \u001b[0mresult\u001b[0m\u001b[0;34m\u001b[0m\u001b[0m\n\u001b[1;32m   2295\u001b[0m \u001b[0;34m\u001b[0m\u001b[0m\n",
      "\u001b[0;32m<decorator-gen-60>\u001b[0m in \u001b[0;36mtime\u001b[0;34m(self, line, cell, local_ns)\u001b[0m\n",
      "\u001b[0;32m/Users/elorenzi/anaconda3/lib/python3.5/site-packages/IPython/core/magic.py\u001b[0m in \u001b[0;36m<lambda>\u001b[0;34m(f, *a, **k)\u001b[0m\n\u001b[1;32m    191\u001b[0m     \u001b[0;31m# but it's overkill for just that one bit of state.\u001b[0m\u001b[0;34m\u001b[0m\u001b[0;34m\u001b[0m\u001b[0m\n\u001b[1;32m    192\u001b[0m     \u001b[0;32mdef\u001b[0m \u001b[0mmagic_deco\u001b[0m\u001b[0;34m(\u001b[0m\u001b[0marg\u001b[0m\u001b[0;34m)\u001b[0m\u001b[0;34m:\u001b[0m\u001b[0;34m\u001b[0m\u001b[0m\n\u001b[0;32m--> 193\u001b[0;31m         \u001b[0mcall\u001b[0m \u001b[0;34m=\u001b[0m \u001b[0;32mlambda\u001b[0m \u001b[0mf\u001b[0m\u001b[0;34m,\u001b[0m \u001b[0;34m*\u001b[0m\u001b[0ma\u001b[0m\u001b[0;34m,\u001b[0m \u001b[0;34m**\u001b[0m\u001b[0mk\u001b[0m\u001b[0;34m:\u001b[0m \u001b[0mf\u001b[0m\u001b[0;34m(\u001b[0m\u001b[0;34m*\u001b[0m\u001b[0ma\u001b[0m\u001b[0;34m,\u001b[0m \u001b[0;34m**\u001b[0m\u001b[0mk\u001b[0m\u001b[0;34m)\u001b[0m\u001b[0;34m\u001b[0m\u001b[0m\n\u001b[0m\u001b[1;32m    194\u001b[0m \u001b[0;34m\u001b[0m\u001b[0m\n\u001b[1;32m    195\u001b[0m         \u001b[0;32mif\u001b[0m \u001b[0mcallable\u001b[0m\u001b[0;34m(\u001b[0m\u001b[0marg\u001b[0m\u001b[0;34m)\u001b[0m\u001b[0;34m:\u001b[0m\u001b[0;34m\u001b[0m\u001b[0m\n",
      "\u001b[0;32m/Users/elorenzi/anaconda3/lib/python3.5/site-packages/IPython/core/magics/execution.py\u001b[0m in \u001b[0;36mtime\u001b[0;34m(self, line, cell, local_ns)\u001b[0m\n\u001b[1;32m   1165\u001b[0m         \u001b[0;32melse\u001b[0m\u001b[0;34m:\u001b[0m\u001b[0;34m\u001b[0m\u001b[0m\n\u001b[1;32m   1166\u001b[0m             \u001b[0mst\u001b[0m \u001b[0;34m=\u001b[0m \u001b[0mclock2\u001b[0m\u001b[0;34m(\u001b[0m\u001b[0;34m)\u001b[0m\u001b[0;34m\u001b[0m\u001b[0m\n\u001b[0;32m-> 1167\u001b[0;31m             \u001b[0mexec\u001b[0m\u001b[0;34m(\u001b[0m\u001b[0mcode\u001b[0m\u001b[0;34m,\u001b[0m \u001b[0mglob\u001b[0m\u001b[0;34m,\u001b[0m \u001b[0mlocal_ns\u001b[0m\u001b[0;34m)\u001b[0m\u001b[0;34m\u001b[0m\u001b[0m\n\u001b[0m\u001b[1;32m   1168\u001b[0m             \u001b[0mend\u001b[0m \u001b[0;34m=\u001b[0m \u001b[0mclock2\u001b[0m\u001b[0;34m(\u001b[0m\u001b[0;34m)\u001b[0m\u001b[0;34m\u001b[0m\u001b[0m\n\u001b[1;32m   1169\u001b[0m             \u001b[0mout\u001b[0m \u001b[0;34m=\u001b[0m \u001b[0;32mNone\u001b[0m\u001b[0;34m\u001b[0m\u001b[0m\n",
      "\u001b[0;32m<timed exec>\u001b[0m in \u001b[0;36m<module>\u001b[0;34m()\u001b[0m\n",
      "\u001b[0;31mNameError\u001b[0m: name 'theta0' is not defined"
     ]
    }
   ],
   "source": [
    "%%time\n",
    "results = hamilt_mc(theta0, y,x, eps, M)\n",
    "print(\"truth\", (true_beta, true_phi))\n",
    "beta0_found = np.mean(results[round(4*M/5):(M-1),0])\n",
    "beta1_found = np.mean(results[round(4*M/5):(M-1),1])\n",
    "phi_found = np.mean(results[round(4*M/5):(M-1),2])\n",
>>>>>>> 78af9ce78064f839d766ce52f77672c6ba8ef365
    "print(\"Mean after burn in we find\",beta0_found,beta1_found ,phi_found)\n"
   ]
  },
  {
   "cell_type": "code",
   "execution_count": null,
   "metadata": {
    "collapsed": true
   },
   "outputs": [],
   "source": [
    "import matplotlib.pyplot as plt\n",
    "%matplotlib inline\n",
<<<<<<< HEAD
    "beta0s = results_nuts[round(1*M/5):(M-1),0]\n",
    "beta1s = results_nuts[round(1*M/5):(M-1),1]\n",
    "phis = results_nuts[round(1*M/5):(M-1),2]\n",
=======
    "beta0s = results[round(1*M/5):(M-1),0]\n",
    "beta1s = results[round(1*M/5):(M-1),1]\n",
    "phis = results[round(1*M/5):(M-1),2]\n",
>>>>>>> 78af9ce78064f839d766ce52f77672c6ba8ef365
    "\n",
    "y_sim = stats.norm.rvs(loc=x.dot(betas_found),scale=1/np.sqrt(phi_found))\n",
    "#y_sim = stats.norm.rvs(loc=x*beta_found,scale=phi_found)\n",
    "\n",
    "fig1 = plt.figure()\n",
    "plt.plot(beta0s, c='b', marker=\"s\", label='Draws')\n",
    "plt.axhline(true_beta[0], c=\"r\", label=\"True Beta0\")\n",
    "plt.title(\"Draws of Beta_0\")\n",
    "plt.legend(loc='lower left')\n",
    "plt.show()\n",
    "fig1.savefig('beta0s_nuts.png')\n",
    "\n",
    "fig2 = plt.figure()\n",
    "plt.plot(beta1s, c='b', marker=\"s\", label='Draws')\n",
    "plt.axhline(true_beta[1], c=\"r\", label=\"True Beta1\")\n",
    "plt.title(\"Draws of Beta_1\")\n",
    "plt.legend(loc='upper left')\n",
    "plt.show()\n",
    "fig2.savefig('beta1s_nuts.png')\n",
    "\n",
    "fig3 = plt.figure()\n",
    "plt.plot(phis, c='b', marker=\"s\", label='Draws')\n",
    "plt.axhline(true_phi, c=\"r\", label=\"True Phi\")\n",
    "plt.title(\"Draws of Phi\")\n",
    "plt.legend(loc='upper left')\n",
    "plt.show()\n",
    "fig3.savefig('phis_nuts.png')\n"
   ]
  },
  {
   "cell_type": "markdown",
   "metadata": {},
   "source": [
    "## Optimization"
   ]
  },
  {
   "cell_type": "markdown",
   "metadata": {},
   "source": [
    "The aim of NUTS addresses key efficiency issues in the Hamiltonian Monte Carlo method. HMC is limited by its need of tuning of the step sizes ($\\epsilon$) and number of steps($L$), typically needing multiple runs to find the correct parameter values. In addition, Hoffman and Gelman provide additional improvements in the NUTS algorithm to improve the efficiency. The first is Efficient No-U-Turn Sampler.\n"
   ]
  },
  {
   "cell_type": "markdown",
   "metadata": {},
   "source": [
    "### Efficient No-U-Turn Sampler"
   ]
  },
  {
   "cell_type": "markdown",
   "metadata": {},
   "source": [
    "The original NUTS algorithm takes $2^j -1$ evaluations of the log likelihood and its gradient, where $j$ is the number of times we call BuildTree (see Appendix for more information on algorithms). In addition, there are $O(2^j)$ operations to determine when to stop doubling. When implemented, the most costly computational aspect of the original NUTS algorithm is the computation of the log joint distribution and its gradient. This results in an algorithm that has similar computational complexity to the original HMC. Another computationally costly aspect of the original NUTS is the storage of the $2^j$ position and momentum vectors, requiring a lot of memory.  Efficient NUTS aims to to solve these issues in the following ways. First, we change the transition kernel to produce larger jumps than the simple uniform sampling. This kernel has a memory-efficient implementation, reducing the number of position and momentum vectors stored to $O(j)$ instead of $O(2^j)$ Second, they aim to find a stopping criterion in the final doubling iteration to avoid wasting computation to build a set that won't be used. This is done by breaking out of the recursion when they encounter a zero for the stop indicator $s$.\n",
    "  \n"
   ]
  },
  {
   "cell_type": "code",
   "execution_count": 18,
   "metadata": {
    "collapsed": true
   },
   "outputs": [],
   "source": [
<<<<<<< HEAD
    "def BuildTree_enuts(theta,A, r, u, v, j, eps):\n",
=======
    "def BuildTree(theta,A, r, u, v, j, eps):\n",
>>>>>>> 78af9ce78064f839d766ce52f77672c6ba8ef365
    "    triangle_max = 1000 #recommend value pg 1359\n",
    "    if(j==0):\n",
    "        #base case, take one leapfrog step in direction v\n",
    "        theta_prime,r_prime = leapfrog(theta,A,r,v*eps)\n",
    "        if(u <= np.exp(log_joint(theta_prime,A)-(1/2)*r_prime.dot(r_prime))):\n",
    "            n_prime = 1\n",
    "        else:\n",
    "            n_prime = 0\n",
    "        if(log_joint(theta_prime,A)-(1/2)*r_prime.dot(r_prime) > u-triangle_max):\n",
    "            s_prime = 1\n",
    "        else:\n",
    "            s_prime = 0\n",
    "        return theta_prime,r_prime,theta_prime,r_prime,theta_prime,n_prime,s_prime    \n",
    "    else:\n",
    "        #recursion-build the left and right subtrees\n",
<<<<<<< HEAD
    "        theta_minus,r_minus,theta_plus,r_plus,theta_prime,n_prime,s_prime = BuildTree_enuts(theta,A,r,u,v,j-1,eps)\n",
    "        if(s_prime==1):\n",
    "            if(v == -1):\n",
    "                theta_minus,r_minus,dash1,dash2,theta_primep,n_primep,s_primep = BuildTree_enuts(theta_minus,A,r_minus,u,v,j-1,eps)\n",
    "            else:\n",
    "                dash1,dash2,theta_plus,r_plus,theta_primep,n_primep,s_primep = BuildTree_enuts(theta_plus,A,r_plus,u,v,j-1,eps)\n",
=======
    "        theta_minus,r_minus,theta_plus,r_plus,theta_prime,n_prime,s_prime = BuildTree(theta,A,r,u,v,j-1,eps)\n",
    "        if(s_prime==1):\n",
    "            if(v == -1):\n",
    "                theta_minus,r_minus,dash1,dash2,theta_primep,n_primep,s_primep = BuildTree(theta_minus,A,r_minus,u,v,j-1,eps)\n",
    "            else:\n",
    "                dash1,dash2,theta_plus,r_plus,theta_primep,n_primep,s_primep = BuildTree(theta_plus,A,r_plus,u,v,j-1,eps)\n",
>>>>>>> 78af9ce78064f839d766ce52f77672c6ba8ef365
    "            #if(n_prime+n_primep==0):\n",
    "                #print('Ahhhh cant divide by zero:',n_prime,n_primep)\n",
    "                #p=0.99\n",
    "            #else:    \n",
    "            p = np.exp(np.log(n_primep)-np.log(n_prime+n_primep))\n",
    "            unif = np.random.uniform()\n",
    "            if(p>u):\n",
    "                theta_prime = theta_primep\n",
    "            if((theta_plus-theta_minus).dot(r_minus) >= 0 and (theta_plus-theta_minus).dot(r_plus) >= 0):  \n",
    "                s_prime = s_primep  \n",
    "            else:\n",
    "                s_prime = 0  \n",
    "            n_prime = n_prime+n_primep\n",
    "    return theta_minus,r_minus,theta_plus,r_plus,theta_prime,n_prime,s_prime"
   ]
  },
  {
   "cell_type": "code",
   "execution_count": null,
   "metadata": {
    "collapsed": true
   },
   "outputs": [],
   "source": [
    "def nuts_eff(theta0, y,x, eps, M):\n",
    "    theta_m = np.zeros((M,3))\n",
    "    theta_m[0,:] = theta0\n",
    "    for m in range(1,M):\n",
    "        #print('M: ',m,' Theta: ',theta_m[m-1,:])\n",
    "        r0 = stats.norm.rvs(size=3)\n",
    "        u = np.random.uniform(low=0,high=np.exp(log_joint(y,x,theta_m[m-1,:])-(1/2)*r0.dot(r0)))\n",
    "        theta_minus = theta_m[m-1,:]\n",
    "        theta_plus = theta_m[m-1,:]\n",
    "        r_minus = r0\n",
    "        r_plus = r0\n",
    "        j=0\n",
    "        theta_m[m,:] = theta_m[m-1,:]\n",
    "        n = 1\n",
    "        s=1\n",
    "        while(s==1):\n",
    "            v_j = np.random.choice([-1,1])\n",
    "            if(v_j==-1):\n",
<<<<<<< HEAD
    "                theta_minus,r_minus,dash1,dash2,theta_prime,n_prime,s_prime = BuildTree_enuts(y,x,theta_minus,r_minus,u,v_j,j,eps)\n",
    "            else:\n",
    "                dash1,dash2,theta_plus,r_plus,theta_prime,n_prime,s_prime = BuildTree_enuts(y,x,theta_plus,r_plus,u,v_j,j,eps)\n",
=======
    "                theta_minus,r_minus,dash1,dash2,theta_prime,n_prime,s_prime = BuildTree(y,x,theta_minus,r_minus,u,v_j,j,eps)\n",
    "            else:\n",
    "                dash1,dash2,theta_plus,r_plus,theta_prime,n_prime,s_prime = BuildTree(y,x,theta_plus,r_plus,u,v_j,j,eps)\n",
>>>>>>> 78af9ce78064f839d766ce52f77672c6ba8ef365
    "            if(s_prime == 1):\n",
    "                p = min(1,n_prime/n)\n",
    "                unif = np.random.uniform()\n",
    "                if(p>u):\n",
    "                    theta_m[m,:] = theta_prime\n",
    "            n = n+n_prime\n",
    "            if((theta_plus-theta_minus).dot(r_minus) >= 0 and (theta_plus-theta_minus).dot(r_plus) >= 0):\n",
    "                s = s_prime\n",
    "            else:\n",
    "                s = 0\n",
    "            j = j+1    \n",
    "    return(theta_m)"
   ]
  },
  {
   "cell_type": "code",
   "execution_count": null,
   "metadata": {
    "collapsed": true
   },
   "outputs": [],
   "source": [
    "M = 1000\n",
    "eps = .005"
   ]
  },
  {
   "cell_type": "code",
   "execution_count": null,
   "metadata": {
    "collapsed": true
   },
   "outputs": [],
   "source": [
    "%%time\n",
<<<<<<< HEAD
    "results_enuts = nuts_eff(theta0, y,x, eps, M)\n",
    "print(\"truth\", (true_beta, true_phi))\n",
    "beta0_found = np.mean(results_enuts[round(4*M/5):(M-1),0])\n",
    "beta1_found = np.mean(results_enuts[round(4*M/5):(M-1),1])\n",
    "phi_found = np.mean(results_enuts[round(4*M/5):(M-1),2])\n",
=======
    "results = nuts_eff(theta0, y,x, eps, M)\n",
    "print(\"truth\", (true_beta, true_phi))\n",
    "beta0_found = np.mean(results[round(4*M/5):(M-1),0])\n",
    "beta1_found = np.mean(results[round(4*M/5):(M-1),1])\n",
    "phi_found = np.mean(results[round(4*M/5):(M-1),2])\n",
>>>>>>> 78af9ce78064f839d766ce52f77672c6ba8ef365
    "print(\"Mean after burn in we find\",beta0_found,beta1_found ,phi_found)\n"
   ]
  },
  {
   "cell_type": "code",
   "execution_count": null,
   "metadata": {
    "collapsed": true
   },
   "outputs": [],
   "source": [
    "import matplotlib.pyplot as plt\n",
    "%matplotlib inline\n",
<<<<<<< HEAD
    "beta0s = results_enuts[round(1*M/5):(M-1),0]\n",
    "beta1s = results_enuts[round(1*M/5):(M-1),1]\n",
    "phis = results_enuts[round(1*M/5):(M-1),2]\n",
    "\n",
=======
    "beta0s = results[round(1*M/5):(M-1),0]\n",
    "beta1s = results[round(1*M/5):(M-1),1]\n",
    "phis = results[round(1*M/5):(M-1),2]\n",
    "\n",
    "y_sim = stats.norm.rvs(loc=x.dot(betas_found),scale=1/np.sqrt(phi_found))\n",
    "#y_sim = stats.norm.rvs(loc=x*beta_found,scale=phi_found)\n",
>>>>>>> 78af9ce78064f839d766ce52f77672c6ba8ef365
    "\n",
    "fig1 = plt.figure()\n",
    "plt.plot(beta0s, c='b', marker=\"s\", label='Draws')\n",
    "plt.axhline(true_beta[0], c=\"r\", label=\"True Beta0\")\n",
    "plt.title(\"Draws of Beta_0\")\n",
    "plt.legend(loc='lower left')\n",
    "plt.show()\n",
    "fig1.savefig('beta0s_nuts.png')\n",
    "\n",
    "fig2 = plt.figure()\n",
    "plt.plot(beta1s, c='b', marker=\"s\", label='Draws')\n",
    "plt.axhline(true_beta[1], c=\"r\", label=\"True Beta1\")\n",
    "plt.title(\"Draws of Beta_1\")\n",
    "plt.legend(loc='upper left')\n",
    "plt.show()\n",
    "fig2.savefig('beta1s_nuts.png')\n",
    "\n",
    "fig3 = plt.figure()\n",
    "plt.plot(phis, c='b', marker=\"s\", label='Draws')\n",
    "plt.axhline(true_phi, c=\"r\", label=\"True Phi\")\n",
    "plt.title(\"Draws of Phi\")\n",
    "plt.legend(loc='upper left')\n",
    "plt.show()\n",
    "fig3.savefig('phis_nuts.png')\n"
   ]
  },
  {
   "cell_type": "markdown",
   "metadata": {},
   "source": [
    "### No-U-Turn Sampler with Dual Averaging"
   ]
  },
  {
   "cell_type": "markdown",
   "metadata": {},
   "source": [
    "NUTS and Efficient NUTS addresses the issue of choosing the number of Leapfrog steps, $L$. NUTS with Dual Averaging aims to take this a step further to also adaptively tuning $\\epsilon$, the step size parameter. The Dual Averaging scheme is initially motivated by work of \\cite{robbins} where they propose a vanishing adaptation algorithm for MCMC using stochastic approximation. \n",
    "\n",
    "...may be removing this section\n"
   ]
  },
  {
   "cell_type": "markdown",
   "metadata": {},
   "source": [
    "### Further Speedups with Cython and Parrallelization"
   ]
  },
  {
   "cell_type": "markdown",
   "metadata": {},
   "source": [
    "For further improvements, we look to the power of Python and its ability to compile python code to C. Specifically, we use the Cython capabilities to convert our working functions to C files for even further optimality.  This speedup results in a $10\\%$ improvement. "
   ]
  },
  {
   "cell_type": "markdown",
   "metadata": {},
   "source": [
    "## Testing: Comparison to other MCMC methods"
   ]
  },
  {
<<<<<<< HEAD
   "cell_type": "markdown",
   "metadata": {},
   "source": [
    "To see how well our method works in comparison to other MCMC algorithms, we tested the methods using the same simulation cases. We begin by using a simple example with linear regression. "
   ]
  },
  {
=======
>>>>>>> 78af9ce78064f839d766ce52f77672c6ba8ef365
   "cell_type": "code",
   "execution_count": null,
   "metadata": {
    "collapsed": true
   },
   "outputs": [],
   "source": []
  }
 ],
 "metadata": {
  "kernelspec": {
   "display_name": "Python 3",
   "language": "python",
   "name": "python3"
  },
  "language_info": {
   "codemirror_mode": {
    "name": "ipython",
    "version": 3
   },
   "file_extension": ".py",
   "mimetype": "text/x-python",
   "name": "python",
   "nbconvert_exporter": "python",
   "pygments_lexer": "ipython3",
   "version": "3.5.1"
  }
 },
 "nbformat": 4,
 "nbformat_minor": 0
}
