{
 "cells": [
  {
   "cell_type": "code",
   "execution_count": 25,
   "metadata": {
    "collapsed": false
   },
   "outputs": [
    {
     "name": "stdout",
     "output_type": "stream",
     "text": [
      "[ 0.32012389] [ 0.94339932] [ 1.02956132]\n",
      "[-0.5212965   1.39630409]\n"
     ]
    }
   ],
   "source": [
    "import scipy.stats as stats\n",
    "import numpy as np\n",
    "import math\n",
    "from scipy.stats import norm\n",
    "from scipy.stats import gamma\n",
    "\n",
    "true_beta = stats.norm.rvs(loc=0,scale=1,size=1)\n",
    "true_phi = stats.gamma.rvs(a=3,scale=1/2,size=1)\n",
    "\n",
    "x = stats.norm.rvs(loc=0,scale=1,size=100)\n",
    "#y = stats.norm.rvs(loc=true_beta*x, scale=np.sqrt(1/true_phi))\n",
    "#y = stats.norm.rvs(loc=true_beta*x, scale=true_phi)\n",
    "\n",
    "y=np.random.normal(x*true_beta, np.sqrt(1/true_phi))\n",
    "\n",
    "beta0 = stats.norm.rvs(loc=0,scale=1,size=1)\n",
    "phi0 = stats.gamma.rvs(a=3,scale=1/2,size=1)\n",
    "theta0 = np.hstack([beta0, phi0])\n",
    "\n",
    "#Set hyperparameters\n",
    "a = 3.0\n",
    "b= 2.0\n",
    "\n",
    "print(true_beta,true_phi,1/np.sqrt(true_phi))\n",
    "print(theta0)"
   ]
  },
  {
   "cell_type": "code",
   "execution_count": 32,
   "metadata": {
    "collapsed": false
   },
   "outputs": [],
   "source": [
    "import warnings\n",
    "warnings.filterwarnings(\"ignore\")"
   ]
  },
  {
   "cell_type": "code",
   "execution_count": 27,
   "metadata": {
    "collapsed": true
   },
   "outputs": [],
   "source": [
    "def leapfrog(theta, r, eps):\n",
    "    n = y.shape[0]\n",
    "    gradients = np.array(theta[1]*(sum(x*y)-theta[0]*sum(x*x))-theta[0],((.5*n+a-1)/theta[1])-b-.5*sum((y-x*theta[0])*(y-x*theta[0])))\n",
    "    r_upd = r + eps/2 * (gradients)\n",
    "    theta_upd = theta + eps * r_upd\n",
    "    r_upd = r_upd + eps/2 * (gradients)\n",
    "    return theta_upd, r_upd"
   ]
  },
  {
   "cell_type": "code",
   "execution_count": 28,
   "metadata": {
    "collapsed": true
   },
   "outputs": [],
   "source": [
    "def log_joint(y, x, theta): \n",
    "    n = y.shape[0]\n",
    "    return sum(norm.logpdf(y,loc=theta[0]*x, scale=1/np.sqrt(theta[1])))+norm.logpdf(theta[0],loc=0,scale=1/np.sqrt(1)) +gamma.logpdf(theta[1], a, scale=1/b)\n",
    "    "
   ]
  },
  {
   "cell_type": "code",
   "execution_count": 29,
   "metadata": {
    "collapsed": true
   },
   "outputs": [],
   "source": [
    "def BuildTree(theta, r, u, v, j, eps):\n",
    "    triangle_max = 1000 #recommend value pg 1359\n",
    "    if(j==0):\n",
    "        #base case, take one leapfrog step in direction v\n",
    "        theta_prime,r_prime = leapfrog(theta,r,v*eps)\n",
    "        if(np.linalg.norm(u) < np.exp(log_joint(y,x,theta_prime)-(1/2)*r_prime.dot(r_prime))):\n",
    "            C_theta_prime = theta_prime\n",
    "            C_r_prime = r_prime\n",
    "        else:\n",
    "            C_theta_prime = np.array([])\n",
    "            C_r_prime = np.array([])\n",
    "        if(log_joint(y,x,theta_prime)-(1/2)*r_prime.dot(r_prime) > u-triangle_max):\n",
    "            s_prime = 1\n",
    "        else:\n",
    "            s_prime = 0\n",
    "        return theta_prime,r_prime,theta_prime,r_prime,C_theta_prime,C_r_prime,s_prime    \n",
    "    else:\n",
    "        #recursion-build the left and right subtrees\n",
    "        theta_minus,r_minus,theta_plus,r_plus,C_theta_prime,C_r_prime,s_prime = BuildTree(theta,r,u,v,j-1,eps)\n",
    "        if(v == -1):\n",
    "            theta_minus,r_minus,dash1,dash2,C_theta_primep,C_r_primep,s_primep = BuildTree(theta_minus,r_minus,u,v,j-1,eps)\n",
    "        else:\n",
    "            dash1,dash2,theta_plus,r_plus,C_theta_primep,C_r_primep,s_primep = BuildTree(theta_plus,r_plus,u,v,j-1,eps)\n",
    "        if((theta_plus-theta_minus).dot(r_minus) > 0 and (theta_plus-theta_minus).dot(r_plus) > 0):  \n",
    "            s_prime = s_prime*s_primep  \n",
    "        else:\n",
    "            s_prime = 0  \n",
    "        C_theta_prime = np.hstack([C_theta_prime,C_theta_primep])\n",
    "        C_r_prime = np.hstack([C_r_prime,C_r_primep])\n",
    "        return theta_minus,r_minus,theta_plus,r_plus,C_theta_prime,C_r_prime,s_prime"
   ]
  },
  {
   "cell_type": "code",
   "execution_count": 30,
   "metadata": {
    "collapsed": false
   },
   "outputs": [],
   "source": [
    "def hamilt_mc(theta0, y,x, eps, M):\n",
    "    theta_m = np.zeros((M,2))\n",
    "    theta_m[0,:] = theta0\n",
    "    accept_b = 0\n",
    "    accept_p = 0\n",
    "    for m in range(1,M):\n",
    "        #print('M: ',m,' Theta: ',theta_m[m-1,:])\n",
    "        r0 = stats.norm.rvs(size=2)\n",
    "        u = np.random.uniform(low=0,high=np.exp(log_joint(y,x,theta_m[m-1,:])-(1/2)*r0.dot(r0)))\n",
    "        theta_minus = theta_m[m-1,:]\n",
    "        theta_plus = theta_m[m-1,:]\n",
    "        r_minus = r0\n",
    "        r_plus = r0\n",
    "        j=0\n",
    "        C_theta = theta_m[m-1,:]\n",
    "        C_r = r0\n",
    "        s=1\n",
    "        while(s==1):\n",
    "            v_j = np.random.choice([-1,1])\n",
    "            if(v_j==-1):\n",
    "                theta_minus,r_minus,dash1,dash2,C_theta_prime,C_r_prime,s_prime = BuildTree(theta_minus,r_minus,u,v_j,j,eps)\n",
    "            else:\n",
    "                dash1,dash2,theta_plus,r_plus,C_theta_prime,C_r_prime,s_prime = BuildTree(theta_plus,r_plus,u,v_j,j,eps)\n",
    "            if(s_prime == 1):\n",
    "                C_theta = np.hstack([C_theta,C_theta_prime])\n",
    "                C_r = np.hstack([C_r,C_r_prime]) \n",
    "            if((theta_plus-theta_minus).dot(r_minus) >= 0 and (theta_plus-theta_minus).dot(r_plus) >= 0):\n",
    "                s = s_prime\n",
    "            else:\n",
    "                s = 0\n",
    "            j = j+1    \n",
    "        #print(\"C_Theta: \",C_theta)  \n",
    "        index = np.random.randint(len(C_theta))\n",
    "        if(index%2!=0):\n",
    "            index = index-1    \n",
    "        theta_m[m,:] = [C_theta[index],C_theta[index+1]]\n",
    "        #print('This is the update: ',index,theta_m[m,:])\n",
    "        #theta_m[m,:] = np.random.choice(C_theta,2)\n",
    "        \n",
    "        #r = np.random.choice(C_r,2)\n",
    "        \n",
    "        \n",
    "    return(theta_m)"
   ]
  },
  {
   "cell_type": "code",
   "execution_count": 33,
   "metadata": {
    "collapsed": false
   },
   "outputs": [
    {
     "name": "stdout",
     "output_type": "stream",
     "text": [
      "truth (array([ 0.32012389]), array([ 0.94339932]))\n",
      "Mean after burn in we find 0.373485852023 0.917603503088\n"
     ]
    }
   ],
   "source": [
    "M = 1000\n",
    "eps = .005\n",
    "results = hamilt_mc(theta0, y,x, eps, M)\n",
    "print(\"truth\", (true_beta, true_phi))\n",
    "beta_found = np.mean(results[round(4*M/5):(M-1),0])\n",
    "phi_found = np.mean(results[round(4*M/5):(M-1),1])\n",
    "print(\"Mean after burn in we find\",beta_found ,phi_found)\n",
    "#print(\"acceptance (beta then phi)\", acc_b/M, acc_p/M)"
   ]
  },
  {
   "cell_type": "code",
   "execution_count": 42,
   "metadata": {
    "collapsed": false
   },
   "outputs": [
    {
     "data": {
      "image/png": "[encoded data removed]",
      "text/plain": [
       "<matplotlib.figure.Figure at 0x10cf95c18>"
      ]
     },
     "metadata": {},
     "output_type": "display_data"
    }
   ],
   "source": [
    "import matplotlib.pyplot as plt\n",
    "%matplotlib inline\n",
    "\n",
    "y_sim = stats.norm.rvs(loc=x*beta_found,scale=1/np.sqrt(phi_found))\n",
    "#y_sim2 = stats.norm.rvs(loc=x*beta_found,scale=phi_found)\n",
    "y_sim3 = np.random.normal(x*beta_found,phi_found)\n",
    "\n",
    "fig = plt.figure()\n",
    "ax1 = fig.add_subplot(111)\n",
    "\n",
    "ax1.scatter(x, y, s=10, c='b', marker=\"s\", label='Observed')\n",
    "ax1.scatter(x, y_sim, s=10, c='c', marker=\"o\", label='Estimated')\n",
    "#ax1.scatter(x, y_sim2, s=10, c='y', marker=\"o\", label='Estimated 2')\n",
    "ax1.scatter(x, y_sim3, s=10, c='r', marker=\"o\", label='Estimated 3')\n",
    "plt.legend(loc='lower left');\n",
    "plt.show()\n"
   ]
  },
  {
   "cell_type": "code",
   "execution_count": 43,
   "metadata": {
    "collapsed": false
   },
   "outputs": [
    {
     "data": {
      "image/png": "[encoded data removed]",
      "text/plain": [
       "<matplotlib.figure.Figure at 0x10cf330b8>"
      ]
     },
     "metadata": {},
     "output_type": "display_data"
    }
   ],
   "source": [
    "\n",
    "\n",
    "betas = stats.norm.rvs(true_beta,1, size=1000)\n",
    "phis = stats.gamma.rvs(a=3,scale=1/2,size=1000)\n",
    "\n",
    "plt.hist(beta_found, 40, histtype='step', normed=True, linewidth=1, label='HMC');\n",
    "plt.hist(betas, 40, histtype='step', normed=True, linewidth=1, label='True');\n",
    "#plt.plot(thetas, post.pdf(thetas), c='red', linestyle='--', alpha=0.5, label='True posterior')\n",
    "plt.xlim([-10,10]);\n",
    "plt.legend(loc='upper left')\n",
    "pass"
   ]
  },
  {
   "cell_type": "code",
   "execution_count": 45,
   "metadata": {
    "collapsed": false
   },
   "outputs": [
    {
     "data": {
      "image/png": "[encoded data removed]",
      "text/plain": [
       "<matplotlib.figure.Figure at 0x10cf0ba90>"
      ]
     },
     "metadata": {},
     "output_type": "display_data"
    }
   ],
   "source": [
    "plt.hist(phi_found, 40, histtype='step', normed=True, linewidth=1, label='HMC');\n",
    "plt.hist(phis, 40, histtype='step', normed=True, linewidth=1, label='True');\n",
    "#plt.plot(thetas, post.pdf(thetas), c='red', linestyle='--', alpha=0.5, label='True posterior')\n",
    "plt.xlim([0,20]);\n",
    "plt.legend(loc='upper left')\n",
    "pass"
   ]
  },
  {
   "cell_type": "code",
   "execution_count": null,
   "metadata": {
    "collapsed": false
   },
   "outputs": [],
   "source": [
    "a = np.array([1,2])\n",
    "b = np.array([2,5])\n",
    "np.hstack([a,b])"
   ]
  },
  {
   "cell_type": "code",
   "execution_count": null,
   "metadata": {
    "collapsed": false
   },
   "outputs": [],
   "source": [
    "r0 = stats.norm.rvs(size=2)\n",
    "print(np.exp(log_joint(y,x,theta0)-(1/2)*r0.dot(r0)))\n",
    "np.random.uniform(low=0,high=np.exp(log_joint(y,x,theta0)-(1/2)*r0.dot(r0)))"
   ]
  },
  {
   "cell_type": "code",
   "execution_count": null,
   "metadata": {
    "collapsed": false
   },
   "outputs": [],
   "source": [
    "r0.dot(r0)"
   ]
  },
  {
   "cell_type": "code",
   "execution_count": null,
   "metadata": {
    "collapsed": false
   },
   "outputs": [],
   "source": [
    "log_joint(y,x,theta0)"
   ]
  },
  {
   "cell_type": "code",
   "execution_count": null,
   "metadata": {
    "collapsed": false
   },
   "outputs": [],
   "source": [
    "np.mean(results[:,0])"
   ]
  },
  {
   "cell_type": "code",
   "execution_count": 29,
   "metadata": {
    "collapsed": false
   },
   "outputs": [
    {
     "data": {
      "text/plain": [
       "0.54331219389021224"
      ]
     },
     "execution_count": 29,
     "metadata": {},
     "output_type": "execute_result"
    }
   ],
   "source": [
    "1/np.sqrt(3.38766997854)"
   ]
  },
  {
   "cell_type": "code",
   "execution_count": null,
   "metadata": {
    "collapsed": true
   },
   "outputs": [],
   "source": []
  }
 ],
 "metadata": {
  "kernelspec": {
   "display_name": "Python 3",
   "language": "python",
   "name": "python3"
  },
  "language_info": {
   "codemirror_mode": {
    "name": "ipython",
    "version": 3
   },
   "file_extension": ".py",
   "mimetype": "text/x-python",
   "name": "python",
   "nbconvert_exporter": "python",
   "pygments_lexer": "ipython3",
   "version": "3.5.1"
  }
 },
 "nbformat": 4,
 "nbformat_minor": 0
}
