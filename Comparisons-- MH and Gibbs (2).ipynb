{
 "cells": [
  {
   "cell_type": "code",
   "execution_count": 93,
   "metadata": {
    "collapsed": false
   },
   "outputs": [],
   "source": [
    "import numpy as np\n",
    "import numpy.random as rng\n",
    "import scipy.linalg as la\n",
    "import scipy.stats as stats\n",
    "import scipy.optimize as opt\n",
    "import matplotlib.pyplot as plt\n",
    "import seaborn as sns\n",
    "import pandas as pd\n",
    "from pandas import DataFrame, Series\n",
    "from sympy import symbols, integrate, exp, oo\n",
    "%matplotlib inline\n",
    "import pandas as pd\n",
    "from scipy.stats import t\n",
    "from scipy.stats import expon\n",
    "from scipy.stats import halfcauchy\n",
    "from scipy.stats import norm\n",
    "import numpy as np\n",
    "import math\n",
    "from scipy.stats import gamma\n",
    "from scipy.stats import multivariate_normal"
   ]
  },
  {
   "cell_type": "code",
   "execution_count": 94,
   "metadata": {
    "collapsed": false
   },
   "outputs": [
    {
     "name": "stdout",
     "output_type": "stream",
     "text": [
      "[ 0  1  2  3  4  5  6  7  8  9 10 11 12 13 14 15 16 17 18 19 20 21 22 23 24\n",
      " 25 26 27 28 29 30 31 32 33 34 35 36 37 38 39 40 41 42 43 44 45 46 47 48 49\n",
      " 50 51 52 53 54 55 56 57 58 59 60 61 62 63 64 65 66 67 68 69 70 71 72 73 74\n",
      " 75 76 77 78 79 80 81 82 83 84 85 86 87 88 89 90 91 92 93 94 95 96 97 98 99] [  17.20055171   -2.97528065   33.73246479   16.13265817   18.18990953\n",
      "   23.48386579   11.40443387   14.85548459   32.77705684   37.81291909\n",
      "   15.80894547   98.78736072   65.99127943   79.25104939   83.5840515\n",
      "   43.2365639    89.62578486  106.49549125   71.65965717   78.10164228\n",
      "  129.05525405  122.40655248  124.256233    121.28591943   95.28060618\n",
      "  111.57844969  114.23714298  138.90286593  175.77179632  150.95023381\n",
      "  100.84242893  156.49994031  170.88209912  173.34927459  141.68580747\n",
      "  180.94738766  192.90145624  197.10951424  208.75236113  195.4891632\n",
      "  229.25311012  197.5924642   207.11929692  182.73216702  200.39123492\n",
      "  262.1240102   214.05198954  250.65087304  248.94398777  220.08446842\n",
      "  232.43286056  237.42276147  263.37792606  270.33147279  249.86343939\n",
      "  267.00031146  260.82196131  267.49492277  286.07080073  300.40695883\n",
      "  290.93943321  296.89971529  304.4366364   331.54880726  310.97512953\n",
      "  317.6903382   309.74169957  326.13115168  367.84053681  335.72119244\n",
      "  335.06249033  376.77321071  399.05834073  349.33565038  391.14480317\n",
      "  341.56663193  392.68637723  392.42804504  387.86265496  394.1298043\n",
      "  393.72516011  391.47769147  430.31401853  425.47849465  423.38254972\n",
      "  453.32501611  375.22043129  439.60897665  410.46360059  497.06650258\n",
      "  467.96945216  445.72231934  487.39585588  470.70893805  455.55433231\n",
      "  466.09092023  474.24358704  496.11752836  470.66394608  444.82849305]\n"
     ]
    }
   ],
   "source": [
    "x=np.arange(100)\n",
    "y=np.random.normal(-2+x*5, 20)\n",
    "print(x, y)"
   ]
  },
  {
   "cell_type": "code",
   "execution_count": 95,
   "metadata": {
    "collapsed": true
   },
   "outputs": [],
   "source": [
    "n=1000\n",
    "lam=np.zeros(n)\n",
    "gam=np.zeros(n)\n",
    "alpha=np.zeros(n)\n",
    "beta=np.zeros(n)\n",
    "lam[0]=.5\n",
    "gam[0]=.5\n",
    "alpha[0]=0\n",
    "beta[0]=0\n",
    "\n",
    "\n",
    "a=1\n",
    "b=1\n",
    "import time\n"
   ]
  },
  {
   "cell_type": "code",
   "execution_count": 96,
   "metadata": {
    "collapsed": false
   },
   "outputs": [],
   "source": [
    "def update_phi(lam_star, prev_phi, prev_alph, prev_beta):\n",
    "    r1=sum(norm.logpdf(y,  loc=prev_alph+prev_beta*x, scale=1/np.sqrt(lam_star)))+gamma.logpdf(lam_star, a, scale=b)\n",
    "    r2=sum(norm.logpdf(y,  loc=prev_alph+prev_beta*x, scale=1/np.sqrt(prev_phi)))+gamma.logpdf(prev_phi, a, scale=b)\n",
    "    log_rl=r1-r2\n",
    "    if exp(log_rl)>exp(meas) and m_lam_star>0:\n",
    "        new_phi=lam_star\n",
    "    else:\n",
    "        new_phi=prev_alph\n",
    "    return(new_phi)\n",
    "\n",
    "def update_alpha(alpha_star, prev_phi, prev_alpha, prev_beta):\n",
    "    a1=sum(norm.logpdf(y, loc=alpha_star+prev_beta*x, scale=1/np.sqrt(prev_phi)))+norm.logpdf(alpha_star, 0, 10)\n",
    "    a2=sum(norm.logpdf(y, loc=prev_alpha+prev_beta*x, scale=1/np.sqrt(prev_phi)))+norm.logpdf(prev_alpha, 0, 10)\n",
    "    log_ra=a1-a2\n",
    "    if exp(log_ra)>exp(meas):\n",
    "        new_alpha=alpha_star\n",
    "    else:\n",
    "        new_alpha=prev_alpha\n",
    "    return(new_alpha)\n",
    "\n",
    "def update_beta(beta_star, prev_phi, prev_alpha, prev_beta):\n",
    "    b1=sum(norm.logpdf(y, loc=prev_alpha+beta_star*x, scale=1/np.sqrt(prev_phi)))+norm.logpdf(beta_star, 0, 10)\n",
    "    b2=sum(norm.logpdf(y, loc=prev_alpha+prev_beta*x, scale=1/np.sqrt(prev_phi)))+norm.logpdf(prev_beta, 0, 10)    \n",
    "    log_rb=b1-b2\n",
    "    if exp(log_rb)>exp(meas):\n",
    "        new_beta=beta_star\n",
    "    else:\n",
    "        new_beta=prev_beta\n",
    "    return(new_beta)\n"
   ]
  },
  {
   "cell_type": "code",
   "execution_count": 97,
   "metadata": {
    "collapsed": false
   },
   "outputs": [
    {
     "name": "stdout",
     "output_type": "stream",
     "text": [
      "Time: 2.6197150150546804\n"
     ]
    }
   ],
   "source": [
    "start = time.clock()\n",
    "for i in range(1, n):\n",
    "    alpha_star=np.random.normal(alpha[i-1], 2)\n",
    "    beta_star=np.random.normal(beta[i-1], 2)\n",
    "    m_lam_star=np.random.normal(gam[i-1], 3)\n",
    "    if(m_lam_star>0):\n",
    "        lam_star=m_lam_star\n",
    "    else:\n",
    "        lam_star=lam[i-1]\n",
    "        \n",
    "    meas=math.log(np.random.uniform(0,1))    \n",
    "    \n",
    "    lam[i]=update_phi(lam_star, lam[i-1], alpha[i-1], beta[i-1])\n",
    "    alpha[i]=update_alpha(alpha_star, lam[i-1], alpha[i-1], beta[i-1])\n",
    "    beta[i]=update_beta(beta_star, lam[i-1], alpha[i-1], beta[i-1])\n",
    "\n",
    "dt_mh_1000 = time.clock() - start\n",
    "print('Time:', dt_mh_1000)"
   ]
  },
  {
   "cell_type": "code",
   "execution_count": 98,
   "metadata": {
    "collapsed": false
   },
   "outputs": [
    {
     "name": "stdout",
     "output_type": "stream",
     "text": [
      "nan -2.39581226051 4.97809527391\n"
     ]
    },
    {
     "data": {
      "image/png": "[encoded data removed]",
      "text/plain": [
       "<matplotlib.figure.Figure at 0xdba8799390>"
      ]
     },
     "metadata": {},
     "output_type": "display_data"
    }
   ],
   "source": [
    "from numpy import mean\n",
    "\n",
    "print(mean(1/np.sqrt(lam)), mean(alpha), mean(beta))\n",
    "\n",
    "plt.plot(lam)\n",
    "plt.plot(alpha)\n",
    "plt.plot(beta)\n",
    "\n",
    "y_sim=mean(alpha)+mean(beta)*x"
   ]
  },
  {
   "cell_type": "code",
   "execution_count": 99,
   "metadata": {
    "collapsed": false
   },
   "outputs": [
    {
     "data": {
      "image/png": "[encoded data removed]",
      "text/plain": [
       "<matplotlib.figure.Figure at 0xdba884a3c8>"
      ]
     },
     "metadata": {},
     "output_type": "display_data"
    }
   ],
   "source": [
    "fig = plt.figure()\n",
    "ax1 = fig.add_subplot(111)\n",
    "\n",
    "ax1.scatter(x, y, s=10, c='b', marker=\"s\", label='Observed')\n",
    "ax1.scatter(x, y_sim, s=10, c='r', marker=\"o\", label='Estimated')\n",
    "plt.legend(loc='lower left');\n",
    "plt.show()"
   ]
  },
  {
   "cell_type": "code",
   "execution_count": 100,
   "metadata": {
    "collapsed": false
   },
   "outputs": [
    {
     "name": "stdout",
     "output_type": "stream",
     "text": [
      "4.98117936512\n"
     ]
    }
   ],
   "source": [
    "print(np.sum(y)/np.sum(x))"
   ]
  },
  {
   "cell_type": "code",
   "execution_count": 101,
   "metadata": {
    "collapsed": false
   },
   "outputs": [
    {
     "name": "stdout",
     "output_type": "stream",
     "text": [
      "0.002 1.0\n",
      "[ 2.          4.97418101  4.98087731  4.97745672  4.97683721  4.97690543\n",
      "  4.97709686  4.97697534  4.9767393   4.97921362  4.97775915  4.97768292\n",
      "  4.97784929  4.97769122  4.9784774   4.97811648  4.97798184  4.97657274\n",
      "  4.97840617  4.97616304]\n"
     ]
    }
   ],
   "source": [
    "n_y=10\n",
    "n=1000\n",
    "tau=np.zeros(n)+1\n",
    "gam=np.zeros(n)\n",
    "alpha=np.zeros(n)\n",
    "beta=np.zeros(n)\n",
    "alpha[0]=0\n",
    "beta[0]=2\n",
    "tau[0]=1\n",
    "\n",
    "a=1\n",
    "b=1\n",
    "import time\n",
    "tnot=1\n",
    "print(mean(beta), mean(tau))\n",
    "\n",
    "for i in range(1, n):\n",
    "    s_n=np.sum(x**2)+tnot\n",
    "    mu_n=(1/s_n)*(np.sum(x*y))\n",
    "    beta[i]=norm.rvs(mu_n, (1/np.sqrt(tau[i-1]))*(1/np.sqrt(s_n)))\n",
    "    tau[i]=gamma.rvs(a+n_y/2, 1/(np.sum(y**2) -mu_n*s_n*mu_n))\n",
    "\n",
    "print(beta[0:20])"
   ]
  },
  {
   "cell_type": "code",
   "execution_count": 102,
   "metadata": {
    "collapsed": false
   },
   "outputs": [
    {
     "name": "stdout",
     "output_type": "stream",
     "text": [
      "5.28531474522\n"
     ]
    },
    {
     "data": {
      "image/png": "[encoded data removed]",
      "text/plain": [
       "<matplotlib.figure.Figure at 0xdba85f0ba8>"
      ]
     },
     "metadata": {},
     "output_type": "display_data"
    }
   ],
   "source": [
    "plt.plot(tau)\n",
    "print(gamma.rvs(a+n_y/2, 1/(b+np.sum((y-(x*beta[i-1]))**2)/2)))"
   ]
  },
  {
   "cell_type": "code",
   "execution_count": 103,
   "metadata": {
    "collapsed": false
   },
   "outputs": [
    {
     "name": "stdout",
     "output_type": "stream",
     "text": [
      "4.97777028979 0.445175094263\n"
     ]
    },
    {
     "name": "stderr",
     "output_type": "stream",
     "text": [
      "C:\\Users\\Jody\\Anaconda3\\lib\\site-packages\\ipykernel\\__main__.py:2: DeprecationWarning: using a non-integer number instead of an integer will result in an error in the future\n",
      "  from ipykernel import kernelapp as app\n"
     ]
    }
   ],
   "source": [
    "burn_in=n/2\n",
    "print(mean(beta[burn_in:n]), mean(1/np.sqrt(tau[burn_in:n])))"
   ]
  },
  {
   "cell_type": "code",
   "execution_count": 104,
   "metadata": {
    "collapsed": false
   },
   "outputs": [
    {
     "name": "stderr",
     "output_type": "stream",
     "text": [
      "C:\\Users\\Jody\\Anaconda3\\lib\\site-packages\\ipykernel\\__main__.py:6: DeprecationWarning: using a non-integer number instead of an integer will result in an error in the future\n"
     ]
    },
    {
     "data": {
      "image/png": "[encoded data removed]",
      "text/plain": [
       "<matplotlib.figure.Figure at 0xdbaab042b0>"
      ]
     },
     "metadata": {},
     "output_type": "display_data"
    }
   ],
   "source": [
    "from numpy import mean\n",
    "\n",
    "plt.plot(tau)\n",
    "plt.plot(beta)\n",
    "\n",
    "y_sim=norm.rvs(x*mean(beta[burn_in:n]), 1/np.sqrt(mean(tau[burn_in:n])))"
   ]
  },
  {
   "cell_type": "code",
   "execution_count": 62,
   "metadata": {
    "collapsed": false
   },
   "outputs": [
    {
     "name": "stdout",
     "output_type": "stream",
     "text": [
      "[0 1 2 3 4 5 6 7 8 9] [  4.11041832   8.7096047    9.14511461  13.30320855  24.05593802\n",
      "  26.76575757  34.76569795  35.51748072  37.52975908  46.33325535]\n"
     ]
    },
    {
     "data": {
      "image/png": "[encoded data removed]",
      "text/plain": [
       "<matplotlib.figure.Figure at 0xdbaac1ee10>"
      ]
     },
     "metadata": {},
     "output_type": "display_data"
    },
    {
     "name": "stdout",
     "output_type": "stream",
     "text": [
      "[  4.11041832   8.7096047    9.14511461  13.30320855  24.05593802\n",
      "  26.76575757  34.76569795  35.51748072  37.52975908  46.33325535]\n",
      "[0 1 2 3 4 5 6 7 8 9]\n"
     ]
    }
   ],
   "source": [
    "x=np.arange(10)\n",
    "y=np.random.normal(x*5, 2)\n",
    "\n",
    "print(x, y)\n",
    "\n",
    "fig = plt.figure()\n",
    "ax1 = fig.add_subplot(111)\n",
    "\n",
    "ax1.scatter(x, y, s=10, c='b', marker=\"s\", label='Observed')\n",
    "ax1.scatter(x, y_sim, s=10, c='r', marker=\"o\", label='Estimated')\n",
    "plt.legend(loc='lower left');\n",
    "plt.show()\n",
    "print(y)\n",
    "print(x)"
   ]
  },
  {
   "cell_type": "code",
   "execution_count": 89,
   "metadata": {
    "collapsed": false
   },
   "outputs": [
    {
     "name": "stdout",
     "output_type": "stream",
     "text": [
      "[[-4.35806573 -0.58777885 -0.75999403 ...,  1.57128843 -1.71378864\n",
      "  -1.82667719]\n",
      " [ 0.79820925  0.5538817   2.96299156 ..., -0.65424555  1.62940571\n",
      "  -2.09478395]\n",
      " [ 4.86964019  3.0529098  -3.80926847 ..., -5.95022876  3.22528736\n",
      "   5.33127209]\n",
      " ..., \n",
      " [ 1.88293724 -0.82176205 -7.66585461 ..., -2.36698757  3.40622297\n",
      "   4.53376124]\n",
      " [-1.38330391 -2.25504233  0.3029766  ...,  7.57334175 -2.96288737\n",
      "  -6.64083361]\n",
      " [ 0.95298583  5.16494659  4.60045153 ..., -6.65486529 -0.22295815\n",
      "  -1.51582964]]\n"
     ]
    }
   ],
   "source": [
    "M = 100000\n",
    "eps = .005\n",
    "L= 20\n",
    "\n",
    "A = stats.wishart.rvs(df=15, scale= np.eye(15))\n",
    "true_theta = np.random.multivariate_normal(mean=np.zeros(15),cov=A,size=100)\n",
    "#target distribution is zero-mean 250-dimensional multivariate normal with known precision\n",
    "theta0 = stats.norm.rvs(size=15)\n",
    "y = multivariate_normal.pdf(x, mean=2.5, cov=0.5)\n",
    "print(true_theta)"
   ]
  },
  {
   "cell_type": "code",
   "execution_count": 119,
   "metadata": {
    "collapsed": true
   },
   "outputs": [],
   "source": [
    "def update_theta_mvn(theta_star, prev_theta, A):\n",
    "    r1=sum(multivariate_normal.logpdf(true_theta,  mean=theta_star, cov=A))+sum(norm.logpdf(theta_star, 0, 10))\n",
    "    r2=sum(multivariate_normal.logpdf(true_theta,  mean=prev_theta, cov=A))+sum(norm.logpdf(prev_theta, 0, 10))\n",
    "    log_rl=r1-r2\n",
    "    if exp(log_rl)>exp(meas):\n",
    "        new_theta=theta_star\n",
    "    else:\n",
    "        new_theta=prev_theta\n",
    "    return(new_theta)"
   ]
  },
  {
   "cell_type": "code",
   "execution_count": 142,
   "metadata": {
    "collapsed": false
   },
   "outputs": [
    {
     "name": "stdout",
     "output_type": "stream",
     "text": [
      "Time: 13.59623099048622\n"
     ]
    }
   ],
   "source": [
    "n_y=100\n",
    "n=10000\n",
    "no_par = theta0.shape[0]\n",
    "theta_m = np.zeros((n,no_par))\n",
    "theta_m[0,:] = theta0\n",
    "\n",
    "start = time.clock()\n",
    "for i in range(1, n):\n",
    "    theta_star=np.random.normal(theta_m[i-1,:], 1)\n",
    "    meas=math.log(np.random.uniform(0,1))    \n",
    "    theta_m[i,:]=update_theta_mvn(theta_star, theta_m[i-1,:], A)\n",
    "\n",
    "dt_mh_1000 = time.clock() - start\n",
    "print('Time:', dt_mh_1000)\n",
    "results=theta_m"
   ]
  },
  {
   "cell_type": "code",
   "execution_count": 143,
   "metadata": {
    "collapsed": false
   },
   "outputs": [
    {
     "data": {
      "text/plain": [
       "<matplotlib.legend.Legend at 0xdbac677780>"
      ]
     },
     "execution_count": 143,
     "metadata": {},
     "output_type": "execute_result"
    },
    {
     "data": {
      "image/png": "[encoded data removed]",
      "text/plain": [
       "<matplotlib.figure.Figure at 0xdba86d8c18>"
      ]
     },
     "metadata": {},
     "output_type": "display_data"
    }
   ],
   "source": [
    "thinned_results = results[[x for x in range(n) if x % 1 == 0],:]\n",
    "plt.scatter(thinned_results[:,1], thinned_results[:,2], color=\"purple\", label=\"Draws\")\n",
    "plt.scatter(true_theta[:,1], true_theta[:,2], color=\"red\", label=\"Truth\")\n",
    "plt.legend(loc='lower left')"
   ]
  },
  {
   "cell_type": "code",
   "execution_count": null,
   "metadata": {
    "collapsed": true
   },
   "outputs": [],
   "source": []
  }
 ],
 "metadata": {
  "kernelspec": {
   "display_name": "Python 3",
   "language": "python",
   "name": "python3"
  },
  "language_info": {
   "codemirror_mode": {
    "name": "ipython",
    "version": 3
   },
   "file_extension": ".py",
   "mimetype": "text/x-python",
   "name": "python",
   "nbconvert_exporter": "python",
   "pygments_lexer": "ipython3",
   "version": "3.5.1"
  }
 },
 "nbformat": 4,
 "nbformat_minor": 0
}
