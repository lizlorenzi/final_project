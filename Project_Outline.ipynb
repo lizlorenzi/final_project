{
 "cells": [
  {
   "cell_type": "markdown",
   "metadata": {},
   "source": [
    "### Background\n",
    "    The algorithm under consideration is the No-U-Turn Sampler: adaptively setting path lengths in Hamiltonian Monte Carlo.  This algorithm uses first-order gradient information which enables faster convergence than other MCMC methods.  Specifically, NUTS uses a recursive algorithm which eliminates the need to manually tune parameters for step size and number of steps.\n",
    "\n",
    "#### What problem does it address?\n",
    "    Tuning the parameters for step size and number of steps in Hamiltonian Monte Carlo may require many costly tuning runs and more work than the user wants.  NUTS gives the advantage of not requiring hand tuning of parameters.\n",
    "#### What are known and possible applications of the algorithm?\n",
    "    This algorithm can be applied in cases where MCMC is required and the user is unable or unwilling to perform tuning of paramters, which can be costly.  \n",
    "#### What are its advantages and disadvantages relative to other algorithms?\n",
    "    Advantages are that it does not require user to tune parameters and outperforms HMC in regard to efficiency.  \n",
    "#### How will you use it in your research?\n",
    "    As a Bayesian this is crucial to our education.  Stan will be used for inference in future research and NUTS is the algorithm implemented by Stan.  \n",
    "\n",
    "    \n",
    "    \n",
    "### Implementation\n",
    "\n",
    "Coding will be done in python and require multiple functions.  \n",
    "\n",
    "#### Phase 1: Hamiltonian Monte Carlo\n",
    "##### Helper function: Leapfrog\n",
    "#### Phase 2: Naive No-U-Turn Sampler\n",
    "##### Helper function: BuildTree\n",
    "#### Phase 3: Efficent No-U-Turn Sampler\n",
    "\n",
    "\n",
    "\n",
    "### Testing\n",
    "    Unit tests will be created and run.\n",
    "\n",
    "### Optimization\n",
    "    This is the transition from Phase 2 to Phase 3.  Computational time is saved by breaking out of computation as soon as a stop indicator is seen, as well as exploiting the binary tree structure that is a product of the algorithm.\n",
    "\n",
    "### High performance computing\n",
    "    ???\n",
    "\n",
    "### Application and comparison\n",
    "    Compare our python version to Stan using simulated data.\n",
    "\n",
    "### Reproducible analysis\n",
    "    Analysis is reproducable.\n"
   ]
  },
  {
   "cell_type": "code",
   "execution_count": null,
   "metadata": {
    "collapsed": true
   },
   "outputs": [],
   "source": []
  }
 ],
 "metadata": {
  "kernelspec": {
   "display_name": "Python 3",
   "language": "python",
   "name": "python3"
  },
  "language_info": {
   "codemirror_mode": {
    "name": "ipython",
    "version": 3
   },
   "file_extension": ".py",
   "mimetype": "text/x-python",
   "name": "python",
   "nbconvert_exporter": "python",
   "pygments_lexer": "ipython3",
   "version": "3.5.1"
  }
 },
 "nbformat": 4,
 "nbformat_minor": 0
}
